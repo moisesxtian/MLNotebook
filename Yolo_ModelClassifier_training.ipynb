{
  "nbformat": 4,
  "nbformat_minor": 0,
  "metadata": {
    "colab": {
      "provenance": [],
      "gpuType": "T4"
    },
    "kernelspec": {
      "name": "python3",
      "display_name": "Python 3"
    },
    "language_info": {
      "name": "python"
    },
    "accelerator": "GPU"
  },
  "cells": [
    {
      "cell_type": "markdown",
      "source": [
        "#Install Ultraltics"
      ],
      "metadata": {
        "id": "2lc-eu74WFhc"
      }
    },
    {
      "cell_type": "code",
      "execution_count": null,
      "metadata": {
        "colab": {
          "base_uri": "https://localhost:8080/"
        },
        "id": "CVL2sr2DV0qC",
        "outputId": "703f3825-10fa-4fe3-ad99-55d01e89b70f",
        "collapsed": true
      },
      "outputs": [
        {
          "output_type": "stream",
          "name": "stdout",
          "text": [
            "Collecting ultralytics\n",
            "  Downloading ultralytics-8.3.99-py3-none-any.whl.metadata (37 kB)\n",
            "Requirement already satisfied: numpy<=2.1.1,>=1.23.0 in /usr/local/lib/python3.11/dist-packages (from ultralytics) (2.0.2)\n",
            "Requirement already satisfied: matplotlib>=3.3.0 in /usr/local/lib/python3.11/dist-packages (from ultralytics) (3.10.0)\n",
            "Requirement already satisfied: opencv-python>=4.6.0 in /usr/local/lib/python3.11/dist-packages (from ultralytics) (4.11.0.86)\n",
            "Requirement already satisfied: pillow>=7.1.2 in /usr/local/lib/python3.11/dist-packages (from ultralytics) (11.1.0)\n",
            "Requirement already satisfied: pyyaml>=5.3.1 in /usr/local/lib/python3.11/dist-packages (from ultralytics) (6.0.2)\n",
            "Requirement already satisfied: requests>=2.23.0 in /usr/local/lib/python3.11/dist-packages (from ultralytics) (2.32.3)\n",
            "Requirement already satisfied: scipy>=1.4.1 in /usr/local/lib/python3.11/dist-packages (from ultralytics) (1.14.1)\n",
            "Requirement already satisfied: torch>=1.8.0 in /usr/local/lib/python3.11/dist-packages (from ultralytics) (2.6.0+cu124)\n",
            "Requirement already satisfied: torchvision>=0.9.0 in /usr/local/lib/python3.11/dist-packages (from ultralytics) (0.21.0+cu124)\n",
            "Requirement already satisfied: tqdm>=4.64.0 in /usr/local/lib/python3.11/dist-packages (from ultralytics) (4.67.1)\n",
            "Requirement already satisfied: psutil in /usr/local/lib/python3.11/dist-packages (from ultralytics) (5.9.5)\n",
            "Requirement already satisfied: py-cpuinfo in /usr/local/lib/python3.11/dist-packages (from ultralytics) (9.0.0)\n",
            "Requirement already satisfied: pandas>=1.1.4 in /usr/local/lib/python3.11/dist-packages (from ultralytics) (2.2.2)\n",
            "Requirement already satisfied: seaborn>=0.11.0 in /usr/local/lib/python3.11/dist-packages (from ultralytics) (0.13.2)\n",
            "Collecting ultralytics-thop>=2.0.0 (from ultralytics)\n",
            "  Downloading ultralytics_thop-2.0.14-py3-none-any.whl.metadata (9.4 kB)\n",
            "Requirement already satisfied: contourpy>=1.0.1 in /usr/local/lib/python3.11/dist-packages (from matplotlib>=3.3.0->ultralytics) (1.3.1)\n",
            "Requirement already satisfied: cycler>=0.10 in /usr/local/lib/python3.11/dist-packages (from matplotlib>=3.3.0->ultralytics) (0.12.1)\n",
            "Requirement already satisfied: fonttools>=4.22.0 in /usr/local/lib/python3.11/dist-packages (from matplotlib>=3.3.0->ultralytics) (4.56.0)\n",
            "Requirement already satisfied: kiwisolver>=1.3.1 in /usr/local/lib/python3.11/dist-packages (from matplotlib>=3.3.0->ultralytics) (1.4.8)\n",
            "Requirement already satisfied: packaging>=20.0 in /usr/local/lib/python3.11/dist-packages (from matplotlib>=3.3.0->ultralytics) (24.2)\n",
            "Requirement already satisfied: pyparsing>=2.3.1 in /usr/local/lib/python3.11/dist-packages (from matplotlib>=3.3.0->ultralytics) (3.2.1)\n",
            "Requirement already satisfied: python-dateutil>=2.7 in /usr/local/lib/python3.11/dist-packages (from matplotlib>=3.3.0->ultralytics) (2.8.2)\n",
            "Requirement already satisfied: pytz>=2020.1 in /usr/local/lib/python3.11/dist-packages (from pandas>=1.1.4->ultralytics) (2025.1)\n",
            "Requirement already satisfied: tzdata>=2022.7 in /usr/local/lib/python3.11/dist-packages (from pandas>=1.1.4->ultralytics) (2025.1)\n",
            "Requirement already satisfied: charset-normalizer<4,>=2 in /usr/local/lib/python3.11/dist-packages (from requests>=2.23.0->ultralytics) (3.4.1)\n",
            "Requirement already satisfied: idna<4,>=2.5 in /usr/local/lib/python3.11/dist-packages (from requests>=2.23.0->ultralytics) (3.10)\n",
            "Requirement already satisfied: urllib3<3,>=1.21.1 in /usr/local/lib/python3.11/dist-packages (from requests>=2.23.0->ultralytics) (2.3.0)\n",
            "Requirement already satisfied: certifi>=2017.4.17 in /usr/local/lib/python3.11/dist-packages (from requests>=2.23.0->ultralytics) (2025.1.31)\n",
            "Requirement already satisfied: filelock in /usr/local/lib/python3.11/dist-packages (from torch>=1.8.0->ultralytics) (3.18.0)\n",
            "Requirement already satisfied: typing-extensions>=4.10.0 in /usr/local/lib/python3.11/dist-packages (from torch>=1.8.0->ultralytics) (4.12.2)\n",
            "Requirement already satisfied: networkx in /usr/local/lib/python3.11/dist-packages (from torch>=1.8.0->ultralytics) (3.4.2)\n",
            "Requirement already satisfied: jinja2 in /usr/local/lib/python3.11/dist-packages (from torch>=1.8.0->ultralytics) (3.1.6)\n",
            "Requirement already satisfied: fsspec in /usr/local/lib/python3.11/dist-packages (from torch>=1.8.0->ultralytics) (2025.3.0)\n",
            "Collecting nvidia-cuda-nvrtc-cu12==12.4.127 (from torch>=1.8.0->ultralytics)\n",
            "  Downloading nvidia_cuda_nvrtc_cu12-12.4.127-py3-none-manylinux2014_x86_64.whl.metadata (1.5 kB)\n",
            "Collecting nvidia-cuda-runtime-cu12==12.4.127 (from torch>=1.8.0->ultralytics)\n",
            "  Downloading nvidia_cuda_runtime_cu12-12.4.127-py3-none-manylinux2014_x86_64.whl.metadata (1.5 kB)\n",
            "Collecting nvidia-cuda-cupti-cu12==12.4.127 (from torch>=1.8.0->ultralytics)\n",
            "  Downloading nvidia_cuda_cupti_cu12-12.4.127-py3-none-manylinux2014_x86_64.whl.metadata (1.6 kB)\n",
            "Collecting nvidia-cudnn-cu12==9.1.0.70 (from torch>=1.8.0->ultralytics)\n",
            "  Downloading nvidia_cudnn_cu12-9.1.0.70-py3-none-manylinux2014_x86_64.whl.metadata (1.6 kB)\n",
            "Collecting nvidia-cublas-cu12==12.4.5.8 (from torch>=1.8.0->ultralytics)\n",
            "  Downloading nvidia_cublas_cu12-12.4.5.8-py3-none-manylinux2014_x86_64.whl.metadata (1.5 kB)\n",
            "Collecting nvidia-cufft-cu12==11.2.1.3 (from torch>=1.8.0->ultralytics)\n",
            "  Downloading nvidia_cufft_cu12-11.2.1.3-py3-none-manylinux2014_x86_64.whl.metadata (1.5 kB)\n",
            "Collecting nvidia-curand-cu12==10.3.5.147 (from torch>=1.8.0->ultralytics)\n",
            "  Downloading nvidia_curand_cu12-10.3.5.147-py3-none-manylinux2014_x86_64.whl.metadata (1.5 kB)\n",
            "Collecting nvidia-cusolver-cu12==11.6.1.9 (from torch>=1.8.0->ultralytics)\n",
            "  Downloading nvidia_cusolver_cu12-11.6.1.9-py3-none-manylinux2014_x86_64.whl.metadata (1.6 kB)\n",
            "Collecting nvidia-cusparse-cu12==12.3.1.170 (from torch>=1.8.0->ultralytics)\n",
            "  Downloading nvidia_cusparse_cu12-12.3.1.170-py3-none-manylinux2014_x86_64.whl.metadata (1.6 kB)\n",
            "Requirement already satisfied: nvidia-cusparselt-cu12==0.6.2 in /usr/local/lib/python3.11/dist-packages (from torch>=1.8.0->ultralytics) (0.6.2)\n",
            "Requirement already satisfied: nvidia-nccl-cu12==2.21.5 in /usr/local/lib/python3.11/dist-packages (from torch>=1.8.0->ultralytics) (2.21.5)\n",
            "Requirement already satisfied: nvidia-nvtx-cu12==12.4.127 in /usr/local/lib/python3.11/dist-packages (from torch>=1.8.0->ultralytics) (12.4.127)\n",
            "Collecting nvidia-nvjitlink-cu12==12.4.127 (from torch>=1.8.0->ultralytics)\n",
            "  Downloading nvidia_nvjitlink_cu12-12.4.127-py3-none-manylinux2014_x86_64.whl.metadata (1.5 kB)\n",
            "Requirement already satisfied: triton==3.2.0 in /usr/local/lib/python3.11/dist-packages (from torch>=1.8.0->ultralytics) (3.2.0)\n",
            "Requirement already satisfied: sympy==1.13.1 in /usr/local/lib/python3.11/dist-packages (from torch>=1.8.0->ultralytics) (1.13.1)\n",
            "Requirement already satisfied: mpmath<1.4,>=1.1.0 in /usr/local/lib/python3.11/dist-packages (from sympy==1.13.1->torch>=1.8.0->ultralytics) (1.3.0)\n",
            "Requirement already satisfied: six>=1.5 in /usr/local/lib/python3.11/dist-packages (from python-dateutil>=2.7->matplotlib>=3.3.0->ultralytics) (1.17.0)\n",
            "Requirement already satisfied: MarkupSafe>=2.0 in /usr/local/lib/python3.11/dist-packages (from jinja2->torch>=1.8.0->ultralytics) (3.0.2)\n",
            "Downloading ultralytics-8.3.99-py3-none-any.whl (976 kB)\n",
            "\u001b[2K   \u001b[90m━━━━━━━━━━━━━━━━━━━━━━━━━━━━━━━━━━━━━━━━\u001b[0m \u001b[32m976.9/976.9 kB\u001b[0m \u001b[31m22.5 MB/s\u001b[0m eta \u001b[36m0:00:00\u001b[0m\n",
            "\u001b[?25hDownloading nvidia_cublas_cu12-12.4.5.8-py3-none-manylinux2014_x86_64.whl (363.4 MB)\n",
            "\u001b[2K   \u001b[90m━━━━━━━━━━━━━━━━━━━━━━━━━━━━━━━━━━━━━━━━\u001b[0m \u001b[32m363.4/363.4 MB\u001b[0m \u001b[31m3.9 MB/s\u001b[0m eta \u001b[36m0:00:00\u001b[0m\n",
            "\u001b[?25hDownloading nvidia_cuda_cupti_cu12-12.4.127-py3-none-manylinux2014_x86_64.whl (13.8 MB)\n",
            "\u001b[2K   \u001b[90m━━━━━━━━━━━━━━━━━━━━━━━━━━━━━━━━━━━━━━━━\u001b[0m \u001b[32m13.8/13.8 MB\u001b[0m \u001b[31m37.3 MB/s\u001b[0m eta \u001b[36m0:00:00\u001b[0m\n",
            "\u001b[?25hDownloading nvidia_cuda_nvrtc_cu12-12.4.127-py3-none-manylinux2014_x86_64.whl (24.6 MB)\n",
            "\u001b[2K   \u001b[90m━━━━━━━━━━━━━━━━━━━━━━━━━━━━━━━━━━━━━━━━\u001b[0m \u001b[32m24.6/24.6 MB\u001b[0m \u001b[31m31.0 MB/s\u001b[0m eta \u001b[36m0:00:00\u001b[0m\n",
            "\u001b[?25hDownloading nvidia_cuda_runtime_cu12-12.4.127-py3-none-manylinux2014_x86_64.whl (883 kB)\n",
            "\u001b[2K   \u001b[90m━━━━━━━━━━━━━━━━━━━━━━━━━━━━━━━━━━━━━━━━\u001b[0m \u001b[32m883.7/883.7 kB\u001b[0m \u001b[31m37.9 MB/s\u001b[0m eta \u001b[36m0:00:00\u001b[0m\n",
            "\u001b[?25hDownloading nvidia_cudnn_cu12-9.1.0.70-py3-none-manylinux2014_x86_64.whl (664.8 MB)\n",
            "\u001b[2K   \u001b[90m━━━━━━━━━━━━━━━━━━━━━━━━━━━━━━━━━━━━━━━━\u001b[0m \u001b[32m664.8/664.8 MB\u001b[0m \u001b[31m2.6 MB/s\u001b[0m eta \u001b[36m0:00:00\u001b[0m\n",
            "\u001b[?25hDownloading nvidia_cufft_cu12-11.2.1.3-py3-none-manylinux2014_x86_64.whl (211.5 MB)\n",
            "\u001b[2K   \u001b[90m━━━━━━━━━━━━━━━━━━━━━━━━━━━━━━━━━━━━━━━━\u001b[0m \u001b[32m211.5/211.5 MB\u001b[0m \u001b[31m5.6 MB/s\u001b[0m eta \u001b[36m0:00:00\u001b[0m\n",
            "\u001b[?25hDownloading nvidia_curand_cu12-10.3.5.147-py3-none-manylinux2014_x86_64.whl (56.3 MB)\n",
            "\u001b[2K   \u001b[90m━━━━━━━━━━━━━━━━━━━━━━━━━━━━━━━━━━━━━━━━\u001b[0m \u001b[32m56.3/56.3 MB\u001b[0m \u001b[31m13.1 MB/s\u001b[0m eta \u001b[36m0:00:00\u001b[0m\n",
            "\u001b[?25hDownloading nvidia_cusolver_cu12-11.6.1.9-py3-none-manylinux2014_x86_64.whl (127.9 MB)\n",
            "\u001b[2K   \u001b[90m━━━━━━━━━━━━━━━━━━━━━━━━━━━━━━━━━━━━━━━━\u001b[0m \u001b[32m127.9/127.9 MB\u001b[0m \u001b[31m7.3 MB/s\u001b[0m eta \u001b[36m0:00:00\u001b[0m\n",
            "\u001b[?25hDownloading nvidia_cusparse_cu12-12.3.1.170-py3-none-manylinux2014_x86_64.whl (207.5 MB)\n",
            "\u001b[2K   \u001b[90m━━━━━━━━━━━━━━━━━━━━━━━━━━━━━━━━━━━━━━━━\u001b[0m \u001b[32m207.5/207.5 MB\u001b[0m \u001b[31m5.5 MB/s\u001b[0m eta \u001b[36m0:00:00\u001b[0m\n",
            "\u001b[?25hDownloading nvidia_nvjitlink_cu12-12.4.127-py3-none-manylinux2014_x86_64.whl (21.1 MB)\n",
            "\u001b[2K   \u001b[90m━━━━━━━━━━━━━━━━━━━━━━━━━━━━━━━━━━━━━━━━\u001b[0m \u001b[32m21.1/21.1 MB\u001b[0m \u001b[31m59.8 MB/s\u001b[0m eta \u001b[36m0:00:00\u001b[0m\n",
            "\u001b[?25hDownloading ultralytics_thop-2.0.14-py3-none-any.whl (26 kB)\n",
            "Installing collected packages: nvidia-nvjitlink-cu12, nvidia-curand-cu12, nvidia-cufft-cu12, nvidia-cuda-runtime-cu12, nvidia-cuda-nvrtc-cu12, nvidia-cuda-cupti-cu12, nvidia-cublas-cu12, nvidia-cusparse-cu12, nvidia-cudnn-cu12, nvidia-cusolver-cu12, ultralytics-thop, ultralytics\n",
            "  Attempting uninstall: nvidia-nvjitlink-cu12\n",
            "    Found existing installation: nvidia-nvjitlink-cu12 12.5.82\n",
            "    Uninstalling nvidia-nvjitlink-cu12-12.5.82:\n",
            "      Successfully uninstalled nvidia-nvjitlink-cu12-12.5.82\n",
            "  Attempting uninstall: nvidia-curand-cu12\n",
            "    Found existing installation: nvidia-curand-cu12 10.3.6.82\n",
            "    Uninstalling nvidia-curand-cu12-10.3.6.82:\n",
            "      Successfully uninstalled nvidia-curand-cu12-10.3.6.82\n",
            "  Attempting uninstall: nvidia-cufft-cu12\n",
            "    Found existing installation: nvidia-cufft-cu12 11.2.3.61\n",
            "    Uninstalling nvidia-cufft-cu12-11.2.3.61:\n",
            "      Successfully uninstalled nvidia-cufft-cu12-11.2.3.61\n",
            "  Attempting uninstall: nvidia-cuda-runtime-cu12\n",
            "    Found existing installation: nvidia-cuda-runtime-cu12 12.5.82\n",
            "    Uninstalling nvidia-cuda-runtime-cu12-12.5.82:\n",
            "      Successfully uninstalled nvidia-cuda-runtime-cu12-12.5.82\n",
            "  Attempting uninstall: nvidia-cuda-nvrtc-cu12\n",
            "    Found existing installation: nvidia-cuda-nvrtc-cu12 12.5.82\n",
            "    Uninstalling nvidia-cuda-nvrtc-cu12-12.5.82:\n",
            "      Successfully uninstalled nvidia-cuda-nvrtc-cu12-12.5.82\n",
            "  Attempting uninstall: nvidia-cuda-cupti-cu12\n",
            "    Found existing installation: nvidia-cuda-cupti-cu12 12.5.82\n",
            "    Uninstalling nvidia-cuda-cupti-cu12-12.5.82:\n",
            "      Successfully uninstalled nvidia-cuda-cupti-cu12-12.5.82\n",
            "  Attempting uninstall: nvidia-cublas-cu12\n",
            "    Found existing installation: nvidia-cublas-cu12 12.5.3.2\n",
            "    Uninstalling nvidia-cublas-cu12-12.5.3.2:\n",
            "      Successfully uninstalled nvidia-cublas-cu12-12.5.3.2\n",
            "  Attempting uninstall: nvidia-cusparse-cu12\n",
            "    Found existing installation: nvidia-cusparse-cu12 12.5.1.3\n",
            "    Uninstalling nvidia-cusparse-cu12-12.5.1.3:\n",
            "      Successfully uninstalled nvidia-cusparse-cu12-12.5.1.3\n",
            "  Attempting uninstall: nvidia-cudnn-cu12\n",
            "    Found existing installation: nvidia-cudnn-cu12 9.3.0.75\n",
            "    Uninstalling nvidia-cudnn-cu12-9.3.0.75:\n",
            "      Successfully uninstalled nvidia-cudnn-cu12-9.3.0.75\n",
            "  Attempting uninstall: nvidia-cusolver-cu12\n",
            "    Found existing installation: nvidia-cusolver-cu12 11.6.3.83\n",
            "    Uninstalling nvidia-cusolver-cu12-11.6.3.83:\n",
            "      Successfully uninstalled nvidia-cusolver-cu12-11.6.3.83\n",
            "Successfully installed nvidia-cublas-cu12-12.4.5.8 nvidia-cuda-cupti-cu12-12.4.127 nvidia-cuda-nvrtc-cu12-12.4.127 nvidia-cuda-runtime-cu12-12.4.127 nvidia-cudnn-cu12-9.1.0.70 nvidia-cufft-cu12-11.2.1.3 nvidia-curand-cu12-10.3.5.147 nvidia-cusolver-cu12-11.6.1.9 nvidia-cusparse-cu12-12.3.1.170 nvidia-nvjitlink-cu12-12.4.127 ultralytics-8.3.99 ultralytics-thop-2.0.14\n"
          ]
        }
      ],
      "source": [
        "# prompt: #Install Ultralytics\n",
        "\n",
        "!pip install ultralytics\n",
        "\n",
        "\n"
      ]
    },
    {
      "cell_type": "code",
      "source": [
        "from ultralytics import YOLO\n"
      ],
      "metadata": {
        "colab": {
          "base_uri": "https://localhost:8080/"
        },
        "id": "5shJi01lWOAy",
        "outputId": "1b51d9ff-c119-454e-f845-cf7fc43d7463"
      },
      "execution_count": null,
      "outputs": [
        {
          "output_type": "stream",
          "name": "stdout",
          "text": [
            "Creating new Ultralytics Settings v0.0.6 file ✅ \n",
            "View Ultralytics Settings with 'yolo settings' or at '/root/.config/Ultralytics/settings.json'\n",
            "Update Settings with 'yolo settings key=value', i.e. 'yolo settings runs_dir=path/to/dir'. For help see https://docs.ultralytics.com/quickstart/#ultralytics-settings.\n"
          ]
        }
      ]
    },
    {
      "cell_type": "markdown",
      "source": [
        "# Install And Export Dataset"
      ],
      "metadata": {
        "id": "pmbl_K3lWSh6"
      }
    },
    {
      "cell_type": "code",
      "source": [
        "!pip install gdown  # Install gdown if you haven't already\n",
        "!gdown 1X7BDqhW3YRfRiOx738d9Gd9k0nRtgaxF -O dataset.zip\n",
        "!unzip dataset.zip -d dataset"
      ],
      "metadata": {
        "colab": {
          "base_uri": "https://localhost:8080/"
        },
        "collapsed": true,
        "id": "1FjBvy7-AUpf",
        "outputId": "892fe927-ee68-41bc-af2b-4ad2fcfbde5b"
      },
      "execution_count": null,
      "outputs": [
        {
          "output_type": "stream",
          "name": "stdout",
          "text": [
            "Requirement already satisfied: gdown in /usr/local/lib/python3.11/dist-packages (5.2.0)\n",
            "Requirement already satisfied: beautifulsoup4 in /usr/local/lib/python3.11/dist-packages (from gdown) (4.13.3)\n",
            "Requirement already satisfied: filelock in /usr/local/lib/python3.11/dist-packages (from gdown) (3.18.0)\n",
            "Requirement already satisfied: requests[socks] in /usr/local/lib/python3.11/dist-packages (from gdown) (2.32.3)\n",
            "Requirement already satisfied: tqdm in /usr/local/lib/python3.11/dist-packages (from gdown) (4.67.1)\n",
            "Requirement already satisfied: soupsieve>1.2 in /usr/local/lib/python3.11/dist-packages (from beautifulsoup4->gdown) (2.6)\n",
            "Requirement already satisfied: typing-extensions>=4.0.0 in /usr/local/lib/python3.11/dist-packages (from beautifulsoup4->gdown) (4.12.2)\n",
            "Requirement already satisfied: charset-normalizer<4,>=2 in /usr/local/lib/python3.11/dist-packages (from requests[socks]->gdown) (3.4.1)\n",
            "Requirement already satisfied: idna<4,>=2.5 in /usr/local/lib/python3.11/dist-packages (from requests[socks]->gdown) (3.10)\n",
            "Requirement already satisfied: urllib3<3,>=1.21.1 in /usr/local/lib/python3.11/dist-packages (from requests[socks]->gdown) (2.3.0)\n",
            "Requirement already satisfied: certifi>=2017.4.17 in /usr/local/lib/python3.11/dist-packages (from requests[socks]->gdown) (2025.1.31)\n",
            "Requirement already satisfied: PySocks!=1.5.7,>=1.5.6 in /usr/local/lib/python3.11/dist-packages (from requests[socks]->gdown) (1.7.1)\n",
            "Downloading...\n",
            "From (original): https://drive.google.com/uc?id=1X7BDqhW3YRfRiOx738d9Gd9k0nRtgaxF\n",
            "From (redirected): https://drive.google.com/uc?id=1X7BDqhW3YRfRiOx738d9Gd9k0nRtgaxF&confirm=t&uuid=8e65e472-759f-446a-8d38-25ccf66c6d87\n",
            "To: /content/dataset.zip\n",
            "100% 184M/184M [00:03<00:00, 46.5MB/s]\n",
            "Archive:  dataset.zip\n",
            "   creating: dataset/tesla_cybertruck/\n",
            "  inflating: dataset/tesla_cybertruck/001-2024-tesla-cyberbeast-lead.avif  \n",
            "  inflating: dataset/tesla_cybertruck/023-2024-tesla-cyberbeast.avif  \n",
            "  inflating: dataset/tesla_cybertruck/06FcTd4CXtLkiCCMpN78dIS-1.webp  \n",
            "  inflating: dataset/tesla_cybertruck/1-2025-tesla-cybertruck-front-view.avif  \n",
            "  inflating: dataset/tesla_cybertruck/1-w-Tesla-Cybertruck-Front-Three-Quarters.webp  \n",
            "  inflating: dataset/tesla_cybertruck/1.webp  \n",
            "  inflating: dataset/tesla_cybertruck/12c9589e5e18304dfb140ebac11f266d.jpg  \n",
            "  inflating: dataset/tesla_cybertruck/1742489793128.webp  \n",
            "  inflating: dataset/tesla_cybertruck/20231223-tesla-cybertruck-03.webp  \n",
            "  inflating: dataset/tesla_cybertruck/2024-breakthrough-award-nominee-the-tesla-cybertruck.jpg  \n",
            "  inflating: dataset/tesla_cybertruck/20240311_112406-scaled.jpg  \n",
            "  inflating: dataset/tesla_cybertruck/2024_Tesla_Cybertruck_Foundation_Series,_front_left_(Greenwich).jpg  \n",
            "  inflating: dataset/tesla_cybertruck/2025-tesla-cybertruck-3-672e75cce7814.avif  \n",
            "  inflating: dataset/tesla_cybertruck/240220091259-tesla-cybertruck.jpg  \n",
            "  inflating: dataset/tesla_cybertruck/2a9a48dd9916b244a15d69233dfa98f4.jpg  \n",
            "  inflating: dataset/tesla_cybertruck/3m-satin-white-cybertruck-aftermarket-wheels-20-ct7-matte-black-cyberbeast-sticker-side-decal-wm-2_bc17b63b-4842-405f-b4ea-290caf242558.webp  \n",
            "  inflating: dataset/tesla_cybertruck/635683-tesla-cybertruck-2024-moins-abruti-qu-il-en-a-l-air.jpg  \n",
            "  inflating: dataset/tesla_cybertruck/6feff8125de7da0642fa8112c8cc53e3.jpg  \n",
            "  inflating: dataset/tesla_cybertruck/82cf7f55bce572d186a1a186e084a7ea.webp  \n",
            "  inflating: dataset/tesla_cybertruck/960x0.webp  \n",
            "  inflating: dataset/tesla_cybertruck/bae1d5adce83b5baa2fd72f81b8d3ccc.avif  \n",
            "  inflating: dataset/tesla_cybertruck/Cyber-Squire-Hero-1.webp  \n",
            "  inflating: dataset/tesla_cybertruck/cybertruck-owner-moves-out-of-the-state-decides-to-sell-after-only-2600-miles-249195_1.jpg  \n",
            "  inflating: dataset/tesla_cybertruck/diy-tesla-cybertruck.webp  \n",
            "  inflating: dataset/tesla_cybertruck/download.jpg  \n",
            "  inflating: dataset/tesla_cybertruck/f9b769a47f4a5b4c8174390e3142d763.jpg  \n",
            "  inflating: dataset/tesla_cybertruck/ford_cybertruck_01.jpg  \n",
            "  inflating: dataset/tesla_cybertruck/front-left-side-47.avif  \n",
            "  inflating: dataset/tesla_cybertruck/GTB22_Tesla_Cybertruck_Loose.webp  \n",
            "  inflating: dataset/tesla_cybertruck/hq720.jpg  \n",
            "  inflating: dataset/tesla_cybertruck/hqdefault.jpg  \n",
            "  inflating: dataset/tesla_cybertruck/images.jpg  \n",
            "  inflating: dataset/tesla_cybertruck/img-2703-1702031973.jpg  \n",
            "  inflating: dataset/tesla_cybertruck/img0464-d696.webp  \n",
            "  inflating: dataset/tesla_cybertruck/JAKEe CyberTruck Wrap Design with Eye-liner and Fat Red Stripe.jpg  \n",
            "  inflating: dataset/tesla_cybertruck/mansory-elongation-3-1740964419.webp  \n",
            "  inflating: dataset/tesla_cybertruck/maxresdefault.jpg  \n",
            "  inflating: dataset/tesla_cybertruck/recently-721.webp  \n",
            "  inflating: dataset/tesla_cybertruck/recently-792.jpg  \n",
            "  inflating: dataset/tesla_cybertruck/screenshot-2023-11-30-at-3-53-55-pm-6568f72d89ff7.avif  \n",
            "  inflating: dataset/tesla_cybertruck/sddefault.jpg  \n",
            "  inflating: dataset/tesla_cybertruck/tesla-cybertruck-review-1-1701483916.jpg  \n",
            "  inflating: dataset/tesla_cybertruck/Tesla-Cybertruck-sales-performance-exposed-by-recall-courtesy-of-Greg-Pajo-Car-and-Driver.jpg  \n",
            "  inflating: dataset/tesla_cybertruck/tesla-cybertruck-side-profile-119993-119993-119993-119993.jpg  \n",
            "  inflating: dataset/tesla_cybertruck/Tesla-Cybertruck-tailgate-open.webp  \n",
            "  inflating: dataset/tesla_cybertruck/tesla-cybertruck-with-factory-installed-crimson-red-ppf.jpg  \n",
            "  inflating: dataset/tesla_cybertruck/Tesla-cybertruck-wrap-diy-tips-cover.webp  \n",
            "  inflating: dataset/tesla_cybertruck/tesla-cyberytuck-cyberbeast-01-1712994228.jpg  \n",
            "  inflating: dataset/tesla_cybertruck/tesla-pickup-2-1574414887.jpg  \n",
            "  inflating: dataset/tesla_cybertruck/tesla-pickup-main-1574414888.jpg  \n",
            "  inflating: dataset/tesla_cybertruck/tesla-slashes-number-of-cybertruck-wrap-options-cuts-v0-vFfdcqHed1NM9Nh8zupmFfV098frIk_ugdV-hD4ESY8.webp  \n",
            "  inflating: dataset/tesla_cybertruck/xiyutj.jpg  \n",
            "   creating: dataset/tesla_model_e/\n",
            "  inflating: dataset/tesla_model_e/-1x-1 (1).jpg  \n",
            "  inflating: dataset/tesla_model_e/-1x-1.jpg  \n",
            "  inflating: dataset/tesla_model_e/12841435333_c9c9547899_o.jpg  \n",
            "  inflating: dataset/tesla_model_e/1601983757_tesla-model-y.jpg  \n",
            "  inflating: dataset/tesla_model_e/2019_Tesla_Model_3_Performance_AWD_Front.jpg  \n",
            "  inflating: dataset/tesla_model_e/2020-tesla-model-y-performance-105-1620660805.jpg  \n",
            "  inflating: dataset/tesla_model_e/2020_tesla_model_3-pic-1933248729736503232-1024x768.jpeg  \n",
            "  inflating: dataset/tesla_model_e/2021-Ford-Mustang-Mach-E-4x-vs-2020-Tesla-Model-Y-Dual-Motor-Long-Range-5.jpg  \n",
            "  inflating: dataset/tesla_model_e/2021-ford-mustang-mach-e-e4x-and-2020-tesla-model-y-performance-107-1624670489.jpg  \n",
            "  inflating: dataset/tesla_model_e/2021-ford-mustang-mach-e-vs-2021-tesla-model-y-01-jw.jpg  \n",
            "  inflating: dataset/tesla_model_e/2021-Ford-Mustang-Mach-E4x-GT-Performance-vs-2021-Tesla-Model-Y-Dual-Motor-Performance-1.jpg  \n",
            "  inflating: dataset/tesla_model_e/2021-ford-mustang-mach-e_100781477_h.jpg  \n",
            "  inflating: dataset/tesla_model_e/2022-tesla-model-3-mmp-1-1640025520.jpeg  \n",
            "  inflating: dataset/tesla_model_e/2022-Tesla-Model-S-Plaid+-sedan-red-1001x-565-1_2.jpg  \n",
            "  inflating: dataset/tesla_model_e/2022_tesla_model-3_sedan_performance_fq_oem_1_1600.jpg  \n",
            "  inflating: dataset/tesla_model_e/326119_2018_Tesla_Model_X.jpg  \n",
            "  inflating: dataset/tesla_model_e/3e1cc43d-63de-4567-b516-0ae8f8e8e66a-mache_fr-modelt.jpg  \n",
            "  inflating: dataset/tesla_model_e/632bf25b0da8ef71b5762b08_Which-is-Faster--Tesla-Model-Y-or-Ford-Mustang-Mach-E.png  \n",
            "  inflating: dataset/tesla_model_e/636c5494d93ab24c4e5c5233_WF53197_LITGRE_November2022Content_TeslaModelYvsMustangMachE_header.webp  \n",
            "  inflating: dataset/tesla_model_e/87d5ed96-774d-4d07-b337-631ada5c4bcd-homepage-model3.jpg  \n",
            "  inflating: dataset/tesla_model_e/a26476e1-8c33-40d3-91d7-41672c4c2ca1-MachEGT_in_vapor_blue.jpeg  \n",
            "  inflating: dataset/tesla_model_e/a9d1b6ea-tesla-model-e-125255b425255d.jpg  \n",
            "  inflating: dataset/tesla_model_e/audi-vs-tesla-y.jpg  \n",
            "  inflating: dataset/tesla_model_e/cover-r4x3w1200-5c94ad544e24f-tesla-model-y-official-2.jpg  \n",
            "  inflating: dataset/tesla_model_e/ct_ultimate-ev-showdown_mustang-my.png  \n",
            "  inflating: dataset/tesla_model_e/download (1).jpg  \n",
            "  inflating: dataset/tesla_model_e/download (10).jpg  \n",
            "  inflating: dataset/tesla_model_e/download (11).jpg  \n",
            "  inflating: dataset/tesla_model_e/download (12).jpg  \n",
            "  inflating: dataset/tesla_model_e/download (13).jpg  \n",
            "  inflating: dataset/tesla_model_e/download (14).jpg  \n",
            "  inflating: dataset/tesla_model_e/download (15).jpg  \n",
            "  inflating: dataset/tesla_model_e/download (16).jpg  \n",
            "  inflating: dataset/tesla_model_e/download (17).jpg  \n",
            "  inflating: dataset/tesla_model_e/download (18).jpg  \n",
            "  inflating: dataset/tesla_model_e/download (19).jpg  \n",
            "  inflating: dataset/tesla_model_e/download (2).jpg  \n",
            "  inflating: dataset/tesla_model_e/download (3).jpg  \n",
            "  inflating: dataset/tesla_model_e/download (4).jpg  \n",
            "  inflating: dataset/tesla_model_e/download (5).jpg  \n",
            "  inflating: dataset/tesla_model_e/download (6).jpg  \n",
            "  inflating: dataset/tesla_model_e/download (7).jpg  \n",
            "  inflating: dataset/tesla_model_e/download (8).jpg  \n",
            "  inflating: dataset/tesla_model_e/download (9).jpg  \n",
            "  inflating: dataset/tesla_model_e/download.jpg  \n",
            "  inflating: dataset/tesla_model_e/DSC_8950.jpg  \n",
            "  inflating: dataset/tesla_model_e/DSC_9789.jpg  \n",
            "  inflating: dataset/tesla_model_e/e-tron-gt-vs-model-s.webp  \n",
            "  inflating: dataset/tesla_model_e/Edmunds-2021-Ford-Mustang-Mach-E-vs.-2020-Tesla-Model-Ywire-38540856-1611748943-973_634x3962-1280x720.jpg  \n",
            "  inflating: dataset/tesla_model_e/elon-musk-tesla.jpg  \n",
            "  inflating: dataset/tesla_model_e/ev-range-test-mercedes-eqs-bmw-ix-tesla-model-3-ford-mustang-mach-e-thumbnail-trees-backgrounds-lb-3.jpg  \n",
            "  inflating: dataset/tesla_model_e/ford-mustang-mach-e-review-specs-pricing-features-videos-and-more.jpg  \n",
            "  inflating: dataset/tesla_model_e/ford-mustang-mach-e-vs-tesla-model-y-comparison.jpg  \n",
            "  inflating: dataset/tesla_model_e/ford-mustang-mach-e-vs-tesla-model-y-ev-rivals-are-all-about-the-tech-153748_1.jpeg  \n",
            "  inflating: dataset/tesla_model_e/Ford.jpg  \n",
            "  inflating: dataset/tesla_model_e/gettyimages-1177714952-1--95f350ff5337d36e5f87249be334f9cfe9d0fd2f.jpg  \n",
            "  inflating: dataset/tesla_model_e/GettyImages-1333786607-scaled.jpg  \n",
            "  inflating: dataset/tesla_model_e/hero-image.fill.size_1200x675.jpg  \n",
            "  inflating: dataset/tesla_model_e/hero_111221_1600.jpg  \n",
            "  inflating: dataset/tesla_model_e/image-2-1020x600.png  \n",
            "  inflating: dataset/tesla_model_e/images (1).jpg  \n",
            "  inflating: dataset/tesla_model_e/images (10).jpg  \n",
            "  inflating: dataset/tesla_model_e/images (100).jpg  \n",
            "  inflating: dataset/tesla_model_e/images (11).jpg  \n",
            "  inflating: dataset/tesla_model_e/images (12).jpg  \n",
            "  inflating: dataset/tesla_model_e/images (14).jpg  \n",
            "  inflating: dataset/tesla_model_e/images (15).jpg  \n",
            "  inflating: dataset/tesla_model_e/images (16).jpg  \n",
            "  inflating: dataset/tesla_model_e/images (17).jpg  \n",
            "  inflating: dataset/tesla_model_e/images (18).jpg  \n",
            "  inflating: dataset/tesla_model_e/images (19).jpg  \n",
            "  inflating: dataset/tesla_model_e/images (20).jpg  \n",
            "  inflating: dataset/tesla_model_e/images (21).jpg  \n",
            "  inflating: dataset/tesla_model_e/images (22).jpg  \n",
            "  inflating: dataset/tesla_model_e/images (23).jpg  \n",
            "  inflating: dataset/tesla_model_e/images (24).jpg  \n",
            "  inflating: dataset/tesla_model_e/images (25).jpg  \n",
            "  inflating: dataset/tesla_model_e/images (26).jpg  \n",
            "  inflating: dataset/tesla_model_e/images (27).jpg  \n",
            "  inflating: dataset/tesla_model_e/images (28).jpg  \n",
            "  inflating: dataset/tesla_model_e/images (29).jpg  \n",
            "  inflating: dataset/tesla_model_e/images (3).jpg  \n",
            "  inflating: dataset/tesla_model_e/images (30).jpg  \n",
            "  inflating: dataset/tesla_model_e/images (31).jpg  \n",
            "  inflating: dataset/tesla_model_e/images (32).jpg  \n",
            "  inflating: dataset/tesla_model_e/images (33).jpg  \n",
            "  inflating: dataset/tesla_model_e/images (34).jpg  \n",
            "  inflating: dataset/tesla_model_e/images (35).jpg  \n",
            "  inflating: dataset/tesla_model_e/images (36).jpg  \n",
            "  inflating: dataset/tesla_model_e/images (37).jpg  \n",
            "  inflating: dataset/tesla_model_e/images (38).jpg  \n",
            "  inflating: dataset/tesla_model_e/images (39).jpg  \n",
            "  inflating: dataset/tesla_model_e/images (40).jpg  \n",
            "  inflating: dataset/tesla_model_e/images (41).jpg  \n",
            "  inflating: dataset/tesla_model_e/images (42).jpg  \n",
            "  inflating: dataset/tesla_model_e/images (43).jpg  \n",
            "  inflating: dataset/tesla_model_e/images (44).jpg  \n",
            "  inflating: dataset/tesla_model_e/images (46).jpg  \n",
            "  inflating: dataset/tesla_model_e/images (47).jpg  \n",
            "  inflating: dataset/tesla_model_e/images (48).jpg  \n",
            "  inflating: dataset/tesla_model_e/images (49).jpg  \n",
            "  inflating: dataset/tesla_model_e/images (50).jpg  \n",
            "  inflating: dataset/tesla_model_e/images (51).jpg  \n",
            "  inflating: dataset/tesla_model_e/images (52).jpg  \n",
            "  inflating: dataset/tesla_model_e/images (53).jpg  \n",
            "  inflating: dataset/tesla_model_e/images (54).jpg  \n",
            "  inflating: dataset/tesla_model_e/images (55).jpg  \n",
            "  inflating: dataset/tesla_model_e/images (56).jpg  \n",
            "  inflating: dataset/tesla_model_e/images (57).jpg  \n",
            "  inflating: dataset/tesla_model_e/images (58).jpg  \n",
            "  inflating: dataset/tesla_model_e/images (59).jpg  \n",
            "  inflating: dataset/tesla_model_e/images (6).jpg  \n",
            "  inflating: dataset/tesla_model_e/images (60).jpg  \n",
            "  inflating: dataset/tesla_model_e/images (61).jpg  \n",
            "  inflating: dataset/tesla_model_e/images (62).jpg  \n",
            "  inflating: dataset/tesla_model_e/images (63).jpg  \n",
            "  inflating: dataset/tesla_model_e/images (64).jpg  \n",
            "  inflating: dataset/tesla_model_e/images (65).jpg  \n",
            "  inflating: dataset/tesla_model_e/images (66).jpg  \n",
            "  inflating: dataset/tesla_model_e/images (67).jpg  \n",
            "  inflating: dataset/tesla_model_e/images (68).jpg  \n",
            "  inflating: dataset/tesla_model_e/images (69).jpg  \n",
            "  inflating: dataset/tesla_model_e/images (7).jpg  \n",
            "  inflating: dataset/tesla_model_e/images (70).jpg  \n",
            "  inflating: dataset/tesla_model_e/images (71).jpg  \n",
            "  inflating: dataset/tesla_model_e/images (72).jpg  \n",
            "  inflating: dataset/tesla_model_e/images (73).jpg  \n",
            "  inflating: dataset/tesla_model_e/images (74).jpg  \n",
            "  inflating: dataset/tesla_model_e/images (75).jpg  \n",
            "  inflating: dataset/tesla_model_e/images (76).jpg  \n",
            "  inflating: dataset/tesla_model_e/images (77).jpg  \n",
            "  inflating: dataset/tesla_model_e/images (78).jpg  \n",
            "  inflating: dataset/tesla_model_e/images (79).jpg  \n",
            "  inflating: dataset/tesla_model_e/images (8).jpg  \n",
            "  inflating: dataset/tesla_model_e/images (80).jpg  \n",
            "  inflating: dataset/tesla_model_e/images (81).jpg  \n",
            "  inflating: dataset/tesla_model_e/images (82).jpg  \n",
            "  inflating: dataset/tesla_model_e/images (83).jpg  \n",
            "  inflating: dataset/tesla_model_e/images (84).jpg  \n",
            "  inflating: dataset/tesla_model_e/images (85).jpg  \n",
            "  inflating: dataset/tesla_model_e/images (86).jpg  \n",
            "  inflating: dataset/tesla_model_e/images (87).jpg  \n",
            "  inflating: dataset/tesla_model_e/images (88).jpg  \n",
            "  inflating: dataset/tesla_model_e/images (89).jpg  \n",
            "  inflating: dataset/tesla_model_e/images (90).jpg  \n",
            "  inflating: dataset/tesla_model_e/images (91).jpg  \n",
            "  inflating: dataset/tesla_model_e/images (92).jpg  \n",
            "  inflating: dataset/tesla_model_e/images (93).jpg  \n",
            "  inflating: dataset/tesla_model_e/images (94).jpg  \n",
            "  inflating: dataset/tesla_model_e/images (95).jpg  \n",
            "  inflating: dataset/tesla_model_e/images (96).jpg  \n",
            "  inflating: dataset/tesla_model_e/images (97).jpg  \n",
            "  inflating: dataset/tesla_model_e/images (98).jpg  \n",
            "  inflating: dataset/tesla_model_e/images (99).jpg  \n",
            "  inflating: dataset/tesla_model_e/images - 2023-08-30T070921.881.jpg  \n",
            "  inflating: dataset/tesla_model_e/images - 2023-08-30T070922.193.jpg  \n",
            "  inflating: dataset/tesla_model_e/images - 2023-08-30T070922.427.jpg  \n",
            "  inflating: dataset/tesla_model_e/images - 2023-08-30T070922.624.jpg  \n",
            "  inflating: dataset/tesla_model_e/images - 2023-08-30T070922.756.jpg  \n",
            "  inflating: dataset/tesla_model_e/images - 2023-08-30T070922.939.jpg  \n",
            "  inflating: dataset/tesla_model_e/images - 2023-08-30T070923.570.jpg  \n",
            "  inflating: dataset/tesla_model_e/images - 2023-08-30T070923.621.jpg  \n",
            "  inflating: dataset/tesla_model_e/images - 2023-08-30T070923.731.jpg  \n",
            "  inflating: dataset/tesla_model_e/images - 2023-08-30T070923.802.jpg  \n",
            "  inflating: dataset/tesla_model_e/images - 2023-08-30T070923.854.jpg  \n",
            "  inflating: dataset/tesla_model_e/images - 2023-08-30T070924.001.jpg  \n",
            "  inflating: dataset/tesla_model_e/images - 2023-08-30T070924.172.jpg  \n",
            "  inflating: dataset/tesla_model_e/images - 2023-08-30T070924.315.jpg  \n",
            "  inflating: dataset/tesla_model_e/images - 2023-08-30T070924.692.jpg  \n",
            "  inflating: dataset/tesla_model_e/images - 2023-08-30T070925.595.jpg  \n",
            "  inflating: dataset/tesla_model_e/images - 2023-08-30T070925.774.jpg  \n",
            "  inflating: dataset/tesla_model_e/images - 2023-08-30T070925.865.jpg  \n",
            "  inflating: dataset/tesla_model_e/images - 2023-08-30T070925.940.jpg  \n",
            "  inflating: dataset/tesla_model_e/images - 2023-08-30T070926.069.jpg  \n",
            "  inflating: dataset/tesla_model_e/images - 2023-08-30T070926.172.jpg  \n",
            "  inflating: dataset/tesla_model_e/images - 2023-08-30T070927.171.jpg  \n",
            "  inflating: dataset/tesla_model_e/images - 2023-08-30T070927.267.jpg  \n",
            "  inflating: dataset/tesla_model_e/images - 2023-08-30T070927.342.jpg  \n",
            "  inflating: dataset/tesla_model_e/images - 2023-08-30T070927.392.jpg  \n",
            "  inflating: dataset/tesla_model_e/images - 2023-08-30T070927.468.jpg  \n",
            "  inflating: dataset/tesla_model_e/images - 2023-08-30T070927.657.jpg  \n",
            "  inflating: dataset/tesla_model_e/images - 2023-08-30T070928.273.jpg  \n",
            "  inflating: dataset/tesla_model_e/images - 2023-08-30T070928.514.jpg  \n",
            "  inflating: dataset/tesla_model_e/images - 2023-08-30T070928.665.jpg  \n",
            "  inflating: dataset/tesla_model_e/images - 2023-08-30T070928.722.jpg  \n",
            "  inflating: dataset/tesla_model_e/images - 2023-08-30T070929.282.jpg  \n",
            "  inflating: dataset/tesla_model_e/images - 2023-08-30T070929.685.jpg  \n",
            "  inflating: dataset/tesla_model_e/images - 2023-08-30T070929.744.jpg  \n",
            "  inflating: dataset/tesla_model_e/images - 2023-08-30T070929.820.jpg  \n",
            "  inflating: dataset/tesla_model_e/images - 2023-08-30T070930.128.jpg  \n",
            "  inflating: dataset/tesla_model_e/images - 2023-08-30T070930.609.jpg  \n",
            "  inflating: dataset/tesla_model_e/images - 2023-08-30T070930.837.jpg  \n",
            "  inflating: dataset/tesla_model_e/images - 2023-08-30T070930.926.jpg  \n",
            "  inflating: dataset/tesla_model_e/images - 2023-08-30T070931.077.jpg  \n",
            "  inflating: dataset/tesla_model_e/images - 2023-08-30T070931.146.jpg  \n",
            "  inflating: dataset/tesla_model_e/images - 2023-08-30T070931.219.jpg  \n",
            "  inflating: dataset/tesla_model_e/images - 2023-08-30T070931.334.jpg  \n",
            "  inflating: dataset/tesla_model_e/images - 2023-08-30T070931.861.jpg  \n",
            "  inflating: dataset/tesla_model_e/images - 2023-08-30T070932.041.jpg  \n",
            "  inflating: dataset/tesla_model_e/images - 2023-08-30T070932.105.jpg  \n",
            "  inflating: dataset/tesla_model_e/images - 2023-08-30T070932.157.jpg  \n",
            "  inflating: dataset/tesla_model_e/images - 2023-08-30T070932.204.jpg  \n",
            "  inflating: dataset/tesla_model_e/images - 2023-08-30T070932.274.jpg  \n",
            "  inflating: dataset/tesla_model_e/images - 2023-08-30T070932.362.jpg  \n",
            "  inflating: dataset/tesla_model_e/images - 2023-08-30T070932.447.jpg  \n",
            "  inflating: dataset/tesla_model_e/images - 2023-08-30T070932.693.jpg  \n",
            "  inflating: dataset/tesla_model_e/images - 2023-08-30T070933.692.jpg  \n",
            "  inflating: dataset/tesla_model_e/images - 2023-08-30T070933.827.jpg  \n",
            "  inflating: dataset/tesla_model_e/images - 2023-08-30T070934.075.jpg  \n",
            "  inflating: dataset/tesla_model_e/images - 2023-08-30T070934.131.jpg  \n",
            "  inflating: dataset/tesla_model_e/images - 2023-08-30T070934.347.jpg  \n",
            "  inflating: dataset/tesla_model_e/images - 2023-08-30T070934.627.jpg  \n",
            "  inflating: dataset/tesla_model_e/images - 2023-08-30T070934.845.jpg  \n",
            "  inflating: dataset/tesla_model_e/images - 2023-08-30T070935.034.jpg  \n",
            "  inflating: dataset/tesla_model_e/images - 2023-08-30T070935.226.jpg  \n",
            "  inflating: dataset/tesla_model_e/images - 2023-08-30T070935.442.jpg  \n",
            "  inflating: dataset/tesla_model_e/images - 2023-08-30T070935.596.jpg  \n",
            "  inflating: dataset/tesla_model_e/images - 2023-08-30T070935.644.jpg  \n",
            "  inflating: dataset/tesla_model_e/images - 2023-08-30T070935.735.jpg  \n",
            "  inflating: dataset/tesla_model_e/images - 2023-08-30T070935.855.jpg  \n",
            "  inflating: dataset/tesla_model_e/images - 2023-08-30T070936.087.jpg  \n",
            "  inflating: dataset/tesla_model_e/images - 2023-08-30T070936.452.jpg  \n",
            "  inflating: dataset/tesla_model_e/images - 2023-08-30T070936.779.jpg  \n",
            "  inflating: dataset/tesla_model_e/images - 2023-08-30T070936.985.jpg  \n",
            "  inflating: dataset/tesla_model_e/images - 2023-08-30T070937.142.jpg  \n",
            "  inflating: dataset/tesla_model_e/images - 2023-08-30T070937.235.jpg  \n",
            "  inflating: dataset/tesla_model_e/images - 2023-08-30T070937.323.jpg  \n",
            "  inflating: dataset/tesla_model_e/images - 2023-08-30T070937.406.jpg  \n",
            "  inflating: dataset/tesla_model_e/images - 2023-08-30T070937.537.jpg  \n",
            "  inflating: dataset/tesla_model_e/images - 2023-08-30T070937.688.jpg  \n",
            "  inflating: dataset/tesla_model_e/images - 2023-08-30T070937.894.jpg  \n",
            "  inflating: dataset/tesla_model_e/images - 2023-08-30T070938.800.jpg  \n",
            "  inflating: dataset/tesla_model_e/images - 2023-08-30T070939.027.jpg  \n",
            "  inflating: dataset/tesla_model_e/images - 2023-08-30T070939.310.jpg  \n",
            "  inflating: dataset/tesla_model_e/images - 2023-08-30T070939.517.jpg  \n",
            "  inflating: dataset/tesla_model_e/images - 2023-08-30T070939.608.jpg  \n",
            "  inflating: dataset/tesla_model_e/images - 2023-08-30T070939.654.jpg  \n",
            "  inflating: dataset/tesla_model_e/images - 2023-08-30T070939.703.jpg  \n",
            "  inflating: dataset/tesla_model_e/images - 2023-08-30T070939.800.jpg  \n",
            "  inflating: dataset/tesla_model_e/images - 2023-08-30T070939.871.jpg  \n",
            "  inflating: dataset/tesla_model_e/images - 2023-08-30T070939.943.jpg  \n",
            "  inflating: dataset/tesla_model_e/images - 2023-08-30T070940.045.jpg  \n",
            "  inflating: dataset/tesla_model_e/images - 2023-08-30T070940.338.jpg  \n",
            "  inflating: dataset/tesla_model_e/images - 2023-08-30T070940.836.jpg  \n",
            "  inflating: dataset/tesla_model_e/images - 2023-08-30T070940.988.jpg  \n",
            "  inflating: dataset/tesla_model_e/images - 2023-08-30T070941.138.jpg  \n",
            "  inflating: dataset/tesla_model_e/images - 2023-08-30T070941.225.jpg  \n",
            "  inflating: dataset/tesla_model_e/images - 2023-08-30T070941.284.jpg  \n",
            "  inflating: dataset/tesla_model_e/images - 2023-08-30T070941.378.jpg  \n",
            "  inflating: dataset/tesla_model_e/images - 2023-08-30T070941.470.jpg  \n",
            "  inflating: dataset/tesla_model_e/images - 2023-08-30T070941.590.jpg  \n",
            "  inflating: dataset/tesla_model_e/images - 2023-08-30T070941.728.jpg  \n",
            "  inflating: dataset/tesla_model_e/images - 2023-08-30T070942.703.jpg  \n",
            "  inflating: dataset/tesla_model_e/images - 2023-08-30T070943.131.jpg  \n",
            "  inflating: dataset/tesla_model_e/images - 2023-08-30T070943.239.jpg  \n",
            "  inflating: dataset/tesla_model_e/images - 2023-08-30T070943.508.jpg  \n",
            "  inflating: dataset/tesla_model_e/images - 2023-08-30T070943.625.jpg  \n",
            "  inflating: dataset/tesla_model_e/images - 2023-08-30T070943.691.jpg  \n",
            "  inflating: dataset/tesla_model_e/images - 2023-08-30T070943.821.jpg  \n",
            "  inflating: dataset/tesla_model_e/images - 2023-08-30T070943.981.jpg  \n",
            "  inflating: dataset/tesla_model_e/images - 2023-08-30T070944.247.jpg  \n",
            "  inflating: dataset/tesla_model_e/images - 2023-08-30T070944.344.jpg  \n",
            "  inflating: dataset/tesla_model_e/images - 2023-08-30T070944.456.jpg  \n",
            "  inflating: dataset/tesla_model_e/images - 2023-08-30T070944.713.jpg  \n",
            "  inflating: dataset/tesla_model_e/images - 2023-08-30T070944.908.jpg  \n",
            "  inflating: dataset/tesla_model_e/images - 2023-08-30T070945.054.jpg  \n",
            "  inflating: dataset/tesla_model_e/images - 2023-08-30T070945.301.jpg  \n",
            "  inflating: dataset/tesla_model_e/images - 2023-08-30T070945.677.jpg  \n",
            "  inflating: dataset/tesla_model_e/images - 2023-08-30T070945.858.jpg  \n",
            "  inflating: dataset/tesla_model_e/images - 2023-08-30T070948.155.jpg  \n",
            "  inflating: dataset/tesla_model_e/images - 2023-08-30T070948.202.jpg  \n",
            "  inflating: dataset/tesla_model_e/images - 2023-08-30T070948.250.jpg  \n",
            "  inflating: dataset/tesla_model_e/images - 2023-08-30T070948.294.jpg  \n",
            "  inflating: dataset/tesla_model_e/images - 2023-08-30T070948.345.jpg  \n",
            "  inflating: dataset/tesla_model_e/images - 2023-08-30T070948.393.jpg  \n",
            "  inflating: dataset/tesla_model_e/images - 2023-08-30T070948.540.jpg  \n",
            "  inflating: dataset/tesla_model_e/images - 2023-08-30T070948.601.jpg  \n",
            "  inflating: dataset/tesla_model_e/images - 2023-08-30T070948.653.jpg  \n",
            "  inflating: dataset/tesla_model_e/images - 2023-08-30T070948.704.jpg  \n",
            "  inflating: dataset/tesla_model_e/images - 2023-08-30T070948.779.jpg  \n",
            "  inflating: dataset/tesla_model_e/images - 2023-08-30T070948.849.jpg  \n",
            "  inflating: dataset/tesla_model_e/images - 2023-08-30T070948.969.jpg  \n",
            "  inflating: dataset/tesla_model_e/images - 2023-08-30T070949.023.jpg  \n",
            "  inflating: dataset/tesla_model_e/images - 2023-08-30T070949.156.jpg  \n",
            "  inflating: dataset/tesla_model_e/images - 2023-08-30T070949.335.jpg  \n",
            "  inflating: dataset/tesla_model_e/images - 2023-08-30T070949.428.jpg  \n",
            "  inflating: dataset/tesla_model_e/images - 2023-08-30T070949.550.jpg  \n",
            "  inflating: dataset/tesla_model_e/images - 2023-08-30T070949.618.jpg  \n",
            "  inflating: dataset/tesla_model_e/images - 2023-08-30T070949.718.jpg  \n",
            "  inflating: dataset/tesla_model_e/images - 2023-08-30T070949.778.jpg  \n",
            "  inflating: dataset/tesla_model_e/images - 2023-08-30T070949.830.jpg  \n",
            "  inflating: dataset/tesla_model_e/images - 2023-08-30T070949.940.jpg  \n",
            "  inflating: dataset/tesla_model_e/images - 2023-08-30T070950.009.jpg  \n",
            "  inflating: dataset/tesla_model_e/images - 2023-08-30T070950.060.jpg  \n",
            "  inflating: dataset/tesla_model_e/images - 2023-08-30T070950.138.jpg  \n",
            "  inflating: dataset/tesla_model_e/images - 2023-08-30T070950.187.jpg  \n",
            "  inflating: dataset/tesla_model_e/images - 2023-08-30T070950.233.jpg  \n",
            "  inflating: dataset/tesla_model_e/images - 2023-08-30T070950.402.jpg  \n",
            "  inflating: dataset/tesla_model_e/images - 2023-08-30T070950.455.jpg  \n",
            "  inflating: dataset/tesla_model_e/images - 2023-08-30T070950.502.jpg  \n",
            "  inflating: dataset/tesla_model_e/images - 2023-08-30T070950.547.jpg  \n",
            "  inflating: dataset/tesla_model_e/images - 2023-08-30T070950.603.jpg  \n",
            "  inflating: dataset/tesla_model_e/images - 2023-08-30T070950.755.jpg  \n",
            "  inflating: dataset/tesla_model_e/images - 2023-08-30T070950.867.jpg  \n",
            "  inflating: dataset/tesla_model_e/images - 2023-08-30T070950.936.jpg  \n",
            "  inflating: dataset/tesla_model_e/images - 2023-08-30T070951.003.jpg  \n",
            "  inflating: dataset/tesla_model_e/images - 2023-08-30T070951.050.jpg  \n",
            "  inflating: dataset/tesla_model_e/images - 2023-08-30T070951.095.jpg  \n",
            "  inflating: dataset/tesla_model_e/images - 2023-08-30T070951.142.jpg  \n",
            "  inflating: dataset/tesla_model_e/images - 2023-08-30T070951.191.jpg  \n",
            "  inflating: dataset/tesla_model_e/images - 2023-08-30T070951.238.jpg  \n",
            "  inflating: dataset/tesla_model_e/images - 2023-08-30T070951.288.jpg  \n",
            "  inflating: dataset/tesla_model_e/images - 2023-08-30T070951.333.jpg  \n",
            "  inflating: dataset/tesla_model_e/images - 2023-08-30T070951.378.jpg  \n",
            "  inflating: dataset/tesla_model_e/images - 2023-08-30T070951.425.jpg  \n",
            "  inflating: dataset/tesla_model_e/images - 2023-08-30T070951.472.jpg  \n",
            "  inflating: dataset/tesla_model_e/images - 2023-08-30T070951.627.jpg  \n",
            "  inflating: dataset/tesla_model_e/images - 2023-08-30T070951.671.jpg  \n",
            "  inflating: dataset/tesla_model_e/images - 2023-08-30T070951.725.jpg  \n",
            "  inflating: dataset/tesla_model_e/images - 2023-08-30T070951.829.jpg  \n",
            "  inflating: dataset/tesla_model_e/images - 2023-08-30T070951.886.jpg  \n",
            "  inflating: dataset/tesla_model_e/images - 2023-08-30T070951.942.jpg  \n",
            "  inflating: dataset/tesla_model_e/images - 2023-08-30T070952.058.jpg  \n",
            "  inflating: dataset/tesla_model_e/images - 2023-08-30T070952.117.jpg  \n",
            "  inflating: dataset/tesla_model_e/images - 2023-08-30T070952.262.jpg  \n",
            "  inflating: dataset/tesla_model_e/images - 2023-08-30T070952.316.jpg  \n",
            "  inflating: dataset/tesla_model_e/images - 2023-08-30T070952.370.jpg  \n",
            "  inflating: dataset/tesla_model_e/images - 2023-08-30T070952.428.jpg  \n",
            "  inflating: dataset/tesla_model_e/images - 2023-08-30T070952.487.jpg  \n",
            "  inflating: dataset/tesla_model_e/images - 2023-08-30T070952.547.jpg  \n",
            "  inflating: dataset/tesla_model_e/images - 2023-08-30T070952.601.jpg  \n",
            "  inflating: dataset/tesla_model_e/images - 2023-08-30T070952.655.jpg  \n",
            "  inflating: dataset/tesla_model_e/images - 2023-08-30T070952.813.jpg  \n",
            "  inflating: dataset/tesla_model_e/images - 2023-08-30T070952.873.jpg  \n",
            "  inflating: dataset/tesla_model_e/images - 2023-08-30T070952.933.jpg  \n",
            "  inflating: dataset/tesla_model_e/images - 2023-08-30T070952.988.jpg  \n",
            "  inflating: dataset/tesla_model_e/images - 2023-08-30T070953.045.jpg  \n",
            "  inflating: dataset/tesla_model_e/images - 2023-08-30T070953.109.jpg  \n",
            "  inflating: dataset/tesla_model_e/images - 2023-08-30T070953.168.jpg  \n",
            "  inflating: dataset/tesla_model_e/images - 2023-08-30T070953.224.jpg  \n",
            "  inflating: dataset/tesla_model_e/images - 2023-08-30T070953.281.jpg  \n",
            "  inflating: dataset/tesla_model_e/images - 2023-08-30T070953.376.jpg  \n",
            "  inflating: dataset/tesla_model_e/images - 2023-08-30T070953.511.jpg  \n",
            "  inflating: dataset/tesla_model_e/images - 2023-08-30T070953.574.jpg  \n",
            "  inflating: dataset/tesla_model_e/images - 2023-08-30T070953.626.jpg  \n",
            "  inflating: dataset/tesla_model_e/images - 2023-08-30T070953.680.jpg  \n",
            "  inflating: dataset/tesla_model_e/images - 2023-08-30T070953.735.jpg  \n",
            "  inflating: dataset/tesla_model_e/images - 2023-08-30T070953.789.jpg  \n",
            "  inflating: dataset/tesla_model_e/images - 2023-08-30T070953.869.jpg  \n",
            "  inflating: dataset/tesla_model_e/images - 2023-08-30T070953.923.jpg  \n",
            "  inflating: dataset/tesla_model_e/images - 2023-08-30T070953.979.jpg  \n",
            "  inflating: dataset/tesla_model_e/images - 2023-08-30T070954.034.jpg  \n",
            "  inflating: dataset/tesla_model_e/images - 2023-08-30T070954.091.jpg  \n",
            "  inflating: dataset/tesla_model_e/images - 2023-08-30T070954.247.jpg  \n",
            "  inflating: dataset/tesla_model_e/images - 2023-08-30T070954.464.jpg  \n",
            "  inflating: dataset/tesla_model_e/images - 2023-08-30T070954.542.jpg  \n",
            "  inflating: dataset/tesla_model_e/images - 2023-08-30T070954.684.jpg  \n",
            "  inflating: dataset/tesla_model_e/images - 2023-08-30T070954.811.jpg  \n",
            "  inflating: dataset/tesla_model_e/images - 2023-08-30T070954.870.jpg  \n",
            "  inflating: dataset/tesla_model_e/images - 2023-08-30T070954.942.jpg  \n",
            "  inflating: dataset/tesla_model_e/images - 2023-08-30T070955.029.jpg  \n",
            "  inflating: dataset/tesla_model_e/images - 2023-08-30T070955.146.jpg  \n",
            "  inflating: dataset/tesla_model_e/images - 2023-08-30T070955.223.jpg  \n",
            "  inflating: dataset/tesla_model_e/images - 2023-08-30T070955.278.jpg  \n",
            "  inflating: dataset/tesla_model_e/images - 2023-08-30T070955.323.jpg  \n",
            "  inflating: dataset/tesla_model_e/images - 2023-08-30T070955.379.jpg  \n",
            "  inflating: dataset/tesla_model_e/images - 2023-08-30T070955.436.jpg  \n",
            "  inflating: dataset/tesla_model_e/images - 2023-08-30T070955.606.jpg  \n",
            "  inflating: dataset/tesla_model_e/images - 2023-08-30T070955.684.jpg  \n",
            "  inflating: dataset/tesla_model_e/images - 2023-08-30T070955.741.jpg  \n",
            "  inflating: dataset/tesla_model_e/images - 2023-08-30T070955.876.jpg  \n",
            "  inflating: dataset/tesla_model_e/images - 2023-08-30T070955.969.jpg  \n",
            "  inflating: dataset/tesla_model_e/images - 2023-08-30T070956.025.jpg  \n",
            "  inflating: dataset/tesla_model_e/images - 2023-08-30T070956.105.jpg  \n",
            "  inflating: dataset/tesla_model_e/images - 2023-08-30T070956.303.jpg  \n",
            "  inflating: dataset/tesla_model_e/images - 2023-08-30T070956.351.jpg  \n",
            "  inflating: dataset/tesla_model_e/images - 2023-08-30T070956.411.jpg  \n",
            "  inflating: dataset/tesla_model_e/images - 2023-08-30T070956.470.jpg  \n",
            "  inflating: dataset/tesla_model_e/images - 2023-08-30T070956.562.jpg  \n",
            "  inflating: dataset/tesla_model_e/images - 2023-08-30T070956.608.jpg  \n",
            "  inflating: dataset/tesla_model_e/images - 2023-08-30T070956.667.jpg  \n",
            "  inflating: dataset/tesla_model_e/images - 2023-08-30T070956.724.jpg  \n",
            "  inflating: dataset/tesla_model_e/images - 2023-08-30T070956.778.jpg  \n",
            "  inflating: dataset/tesla_model_e/images - 2023-08-30T070956.843.jpg  \n",
            "  inflating: dataset/tesla_model_e/images - 2023-08-30T070957.112.jpg  \n",
            "  inflating: dataset/tesla_model_e/images - 2023-08-30T070957.173.jpg  \n",
            "  inflating: dataset/tesla_model_e/images - 2023-08-30T070957.232.jpg  \n",
            "  inflating: dataset/tesla_model_e/images - 2023-08-30T070957.366.jpg  \n",
            "  inflating: dataset/tesla_model_e/images - 2023-08-30T070957.424.jpg  \n",
            "  inflating: dataset/tesla_model_e/images - 2023-08-30T070957.573.jpg  \n",
            "  inflating: dataset/tesla_model_e/images - 2023-08-30T070957.627.jpg  \n",
            "  inflating: dataset/tesla_model_e/images - 2023-08-30T070957.682.jpg  \n",
            "  inflating: dataset/tesla_model_e/images - 2023-08-30T070957.732.jpg  \n",
            "  inflating: dataset/tesla_model_e/images - 2023-08-30T070957.806.jpg  \n",
            "  inflating: dataset/tesla_model_e/images - 2023-08-30T070957.956.jpg  \n",
            "  inflating: dataset/tesla_model_e/images - 2023-08-30T070958.065.jpg  \n",
            "  inflating: dataset/tesla_model_e/images - 2023-08-30T070958.194.jpg  \n",
            "  inflating: dataset/tesla_model_e/images - 2023-08-30T070958.257.jpg  \n",
            "  inflating: dataset/tesla_model_e/images - 2023-08-30T070958.313.jpg  \n",
            "  inflating: dataset/tesla_model_e/images - 2023-08-30T070958.414.jpg  \n",
            "  inflating: dataset/tesla_model_e/images - 2023-08-30T070958.469.jpg  \n",
            "  inflating: dataset/tesla_model_e/images - 2023-08-30T070958.527.jpg  \n",
            "  inflating: dataset/tesla_model_e/images - 2023-08-30T070958.694.jpg  \n",
            "  inflating: dataset/tesla_model_e/images - 2023-08-30T070958.736.jpg  \n",
            "  inflating: dataset/tesla_model_e/images - 2023-08-30T070958.800.jpg  \n",
            "  inflating: dataset/tesla_model_e/images - 2023-08-30T070958.917.jpg  \n",
            "  inflating: dataset/tesla_model_e/images - 2023-08-30T070959.012.jpg  \n",
            "  inflating: dataset/tesla_model_e/images - 2023-08-30T070959.070.jpg  \n",
            "  inflating: dataset/tesla_model_e/images - 2023-08-30T070959.110.jpg  \n",
            "  inflating: dataset/tesla_model_e/images - 2023-08-30T070959.174.jpg  \n",
            "  inflating: dataset/tesla_model_e/images - 2023-08-30T070959.225.jpg  \n",
            "  inflating: dataset/tesla_model_e/images - 2023-08-30T070959.477.jpg  \n",
            "  inflating: dataset/tesla_model_e/images - 2023-08-30T070959.585.jpg  \n",
            "  inflating: dataset/tesla_model_e/images - 2023-08-30T070959.628.jpg  \n",
            "  inflating: dataset/tesla_model_e/images - 2023-08-30T070959.673.jpg  \n",
            "  inflating: dataset/tesla_model_e/images - 2023-08-30T070959.714.jpg  \n",
            "  inflating: dataset/tesla_model_e/images - 2023-08-30T070959.757.jpg  \n",
            "  inflating: dataset/tesla_model_e/images - 2023-08-30T070959.818.jpg  \n",
            "  inflating: dataset/tesla_model_e/images - 2023-08-30T070959.874.jpg  \n",
            "  inflating: dataset/tesla_model_e/images - 2023-08-30T070959.923.jpg  \n",
            "  inflating: dataset/tesla_model_e/images - 2023-08-30T071000.053.jpg  \n",
            "  inflating: dataset/tesla_model_e/images - 2023-08-30T071000.113.jpg  \n",
            "  inflating: dataset/tesla_model_e/images - 2023-08-30T071000.158.jpg  \n",
            "  inflating: dataset/tesla_model_e/images - 2023-08-30T071000.204.jpg  \n",
            "  inflating: dataset/tesla_model_e/images - 2023-08-30T071000.244.jpg  \n",
            "  inflating: dataset/tesla_model_e/images - 2023-08-30T071000.285.jpg  \n",
            "  inflating: dataset/tesla_model_e/images - 2023-08-30T071000.326.jpg  \n",
            "  inflating: dataset/tesla_model_e/images - 2023-08-30T071000.371.jpg  \n",
            "  inflating: dataset/tesla_model_e/images - 2023-08-30T071000.428.jpg  \n",
            "  inflating: dataset/tesla_model_e/images - 2023-08-30T071000.478.jpg  \n",
            "  inflating: dataset/tesla_model_e/images - 2023-08-30T071000.519.jpg  \n",
            "  inflating: dataset/tesla_model_e/images - 2023-08-30T071000.690.jpg  \n",
            "  inflating: dataset/tesla_model_e/images - 2023-08-30T071000.737.jpg  \n",
            "  inflating: dataset/tesla_model_e/images - 2023-08-30T071000.805.jpg  \n",
            "  inflating: dataset/tesla_model_e/images - 2023-08-30T071000.842.jpg  \n",
            "  inflating: dataset/tesla_model_e/images - 2023-08-30T071000.884.jpg  \n",
            "  inflating: dataset/tesla_model_e/images - 2023-08-30T071000.938.jpg  \n",
            "  inflating: dataset/tesla_model_e/images - 2023-08-30T071001.025.jpg  \n",
            "  inflating: dataset/tesla_model_e/images - 2023-08-30T071001.070.jpg  \n",
            "  inflating: dataset/tesla_model_e/images - 2023-08-30T071001.108.jpg  \n",
            "  inflating: dataset/tesla_model_e/images - 2023-08-30T071001.201.jpg  \n",
            "  inflating: dataset/tesla_model_e/images - 2023-08-30T071001.373.jpg  \n",
            "  inflating: dataset/tesla_model_e/images - 2023-08-30T071001.490.jpg  \n",
            "  inflating: dataset/tesla_model_e/images - 2023-08-30T071001.539.jpg  \n",
            "  inflating: dataset/tesla_model_e/images - 2023-08-30T071001.587.jpg  \n",
            "  inflating: dataset/tesla_model_e/images - 2023-08-30T071001.726.jpg  \n",
            "  inflating: dataset/tesla_model_e/images - 2023-08-30T071001.768.jpg  \n",
            "  inflating: dataset/tesla_model_e/images - 2023-08-30T071001.807.jpg  \n",
            "  inflating: dataset/tesla_model_e/images - 2023-08-30T071001.904.jpg  \n",
            "  inflating: dataset/tesla_model_e/images - 2023-08-30T071001.947.jpg  \n",
            "  inflating: dataset/tesla_model_e/images - 2023-08-30T071002.092.jpg  \n",
            "  inflating: dataset/tesla_model_e/images - 2023-08-30T071002.147.jpg  \n",
            "  inflating: dataset/tesla_model_e/images - 2023-08-30T071002.359.jpg  \n",
            "  inflating: dataset/tesla_model_e/images - 2023-08-30T071002.420.jpg  \n",
            "  inflating: dataset/tesla_model_e/images - 2023-08-30T071002.455.jpg  \n",
            "  inflating: dataset/tesla_model_e/images - 2023-08-30T071002.493.jpg  \n",
            "  inflating: dataset/tesla_model_e/images - 2023-08-30T071002.534.jpg  \n",
            "  inflating: dataset/tesla_model_e/images - 2023-08-30T071002.575.jpg  \n",
            "  inflating: dataset/tesla_model_e/images - 2023-08-30T071002.623.jpg  \n",
            "  inflating: dataset/tesla_model_e/images - 2023-08-30T071002.760.jpg  \n",
            "  inflating: dataset/tesla_model_e/images - 2023-08-30T071002.808.jpg  \n",
            "  inflating: dataset/tesla_model_e/images - 2023-08-30T071002.860.jpg  \n",
            "  inflating: dataset/tesla_model_e/images - 2023-08-30T071002.916.jpg  \n",
            "  inflating: dataset/tesla_model_e/images - 2023-08-30T071003.072.jpg  \n",
            "  inflating: dataset/tesla_model_e/images - 2023-08-30T071003.120.jpg  \n",
            "  inflating: dataset/tesla_model_e/images - 2023-08-30T071003.158.jpg  \n",
            "  inflating: dataset/tesla_model_e/images - 2023-08-30T071003.235.jpg  \n",
            "  inflating: dataset/tesla_model_e/images - 2023-08-30T071003.275.jpg  \n",
            "  inflating: dataset/tesla_model_e/images - 2023-08-30T071003.312.jpg  \n",
            "  inflating: dataset/tesla_model_e/images - 2023-08-30T071003.353.jpg  \n",
            "  inflating: dataset/tesla_model_e/images - 2023-08-30T071003.514.jpg  \n",
            "  inflating: dataset/tesla_model_e/images - 2023-08-30T071003.569.jpg  \n",
            "  inflating: dataset/tesla_model_e/images - 2023-08-30T071003.605.jpg  \n",
            "  inflating: dataset/tesla_model_e/images.jpg  \n",
            "  inflating: dataset/tesla_model_e/images.png  \n",
            "  inflating: dataset/tesla_model_e/intro-import.jpg  \n",
            "  inflating: dataset/tesla_model_e/ipiccy-image-4.jpg  \n",
            "  inflating: dataset/tesla_model_e/lipman_88081.jpg  \n",
            "  inflating: dataset/tesla_model_e/main_apetesla.jpg  \n",
            "  inflating: dataset/tesla_model_e/main_tesla.jpg  \n",
            "  inflating: dataset/tesla_model_e/maxresdefault (1).jpg  \n",
            "  inflating: dataset/tesla_model_e/maxresdefault (2).jpg  \n",
            "  inflating: dataset/tesla_model_e/maxresdefault (3).jpg  \n",
            "  inflating: dataset/tesla_model_e/maxresdefault.jpg  \n",
            "  inflating: dataset/tesla_model_e/MEA-tesla.jpg  \n",
            "  inflating: dataset/tesla_model_e/model-3-exterior-left-rear-three-quarter.jpeg  \n",
            "  inflating: dataset/tesla_model_e/MODEL3-MAIN_i.jpg  \n",
            "  inflating: dataset/tesla_model_e/performance-mustang-mach-e-vs-tesla-model-y.jpg  \n",
            "  inflating: dataset/tesla_model_e/render-tesla-model-2-bleu-argus-2023_14.jpg  \n",
            "  inflating: dataset/tesla_model_e/S0-tesla-model-c-30-000-eur-pour-la-future-compacte-728259.jpg  \n",
            "  inflating: dataset/tesla_model_e/shutterstock_2071007495-scaled.jpg  \n",
            "  inflating: dataset/tesla_model_e/Tesla Model Y vs Ford Mustang Mach-E header.jpg  \n",
            "  inflating: dataset/tesla_model_e/Tesla-6-1.jpg  \n",
            "  inflating: dataset/tesla_model_e/tesla-drops-model-e-nameplate-81378_1.jpg  \n",
            "  inflating: dataset/tesla_model_e/Tesla-e.png  \n",
            "  inflating: dataset/tesla_model_e/tesla-model-3-model-y_2.jpg  \n",
            "  inflating: dataset/tesla_model_e/tesla-model-3-side-1280x720.jpg  \n",
            "  inflating: dataset/tesla_model_e/tesla-model-3-the-family-e-car-of-the-future-1572331586-9120.jpg  \n",
            "  inflating: dataset/tesla_model_e/Tesla-Model-3-Vs-Ford-Mustang-Mach-E-performance-and-price-2322x2322.jpg  \n",
            "  inflating: dataset/tesla_model_e/Tesla-Model-E-price-comparative-to-rival-compacts.jpg  \n",
            "  inflating: dataset/tesla_model_e/tesla-model-e.jpg  \n",
            "  inflating: dataset/tesla_model_e/Tesla-Model-S-Front.jpg  \n",
            "  inflating: dataset/tesla_model_e/tesla-model-s_100412575.jpg  \n",
            "  inflating: dataset/tesla_model_e/Tesla-Model-X-.png  \n",
            "  inflating: dataset/tesla_model_e/tesla-model-x-audi-e-tron.jpg  \n",
            "  inflating: dataset/tesla_model_e/Tesla-Model-X-tires-header-scaled.jpg  \n",
            "  inflating: dataset/tesla_model_e/tesla-model-y-2021-audi-e-tron-2022-01-exterior-front-angle-group-scaled.jpg  \n",
            "  inflating: dataset/tesla_model_e/tesla-model-y-fahrbericht-christoph-m-schwarzer-2021-01-min.png  \n",
            "  inflating: dataset/tesla_model_e/Tesla-Model-Y-vs-Audi-Q4-etron-20.jpg  \n",
            "  inflating: dataset/tesla_model_e/Tesla-Model-Y-vs-Ford-Mustang-Mach-E-hero.jpg  \n",
            "  inflating: dataset/tesla_model_e/Tesla-Model-Y.jpg  \n",
            "  inflating: dataset/tesla_model_e/tesla-s3xy-lineup.jpg  \n",
            "  inflating: dataset/tesla_model_e/tesla-sexy-2.png  \n",
            "  inflating: dataset/tesla_model_e/tesla-unveils-model-x-suv-01-scaled.webp  \n",
            "  inflating: dataset/tesla_model_e/Tesla_Model_Y_1X7A6211.jpg  \n",
            "  inflating: dataset/tesla_model_e/UG1MMiP3G9Oo1z6KQqrICoXdK8R4X5zNyuKp2jLv.jpg  \n",
            "  inflating: dataset/tesla_model_e/ydjR9NTwOkZ9wZGLwxWfdIQZcJrHimtyxxYkTAS2.jpeg  \n",
            "   creating: dataset/tesla_model_s/\n",
            "  inflating: dataset/tesla_model_s/0cbae536586db160684816f4bbbdc730.png  \n",
            "  inflating: dataset/tesla_model_s/104836103-p100d-review.jpg  \n",
            "  inflating: dataset/tesla_model_s/104836109-p100d-review-5.jpg  \n",
            "  inflating: dataset/tesla_model_s/15271_st0640_116.png  \n",
            "  inflating: dataset/tesla_model_s/2-Tesla-Model-S.jpg  \n",
            "  inflating: dataset/tesla_model_s/2016_tesla_model_s-pic-4209294532671629022-1024x768.jpeg  \n",
            "  inflating: dataset/tesla_model_s/2018_Tesla_Model_S_75D.jpg  \n",
            "  inflating: dataset/tesla_model_s/2020-tesla-model-s_100736241_h.jpg  \n",
            "  inflating: dataset/tesla_model_s/2021_Tesla_Model_S_P2_Long_Range_front_right_view.jpg  \n",
            "  inflating: dataset/tesla_model_s/2023-tesla-model-s-ultra-red-color (1).jpg  \n",
            "  inflating: dataset/tesla_model_s/2023-tesla-model-s-ultra-red-color.jpg  \n",
            "  inflating: dataset/tesla_model_s/2023-Tesla-Model-S-US-Sedan-Red-1001x565-(1).jpg  \n",
            "  inflating: dataset/tesla_model_s/2023_Tesla_S_Review1.jpg  \n",
            "  inflating: dataset/tesla_model_s/Battleship-Gray-2020-Unplugged-Performance-Tesla-Model-S-Apex-Image-52-1200x801.jpg  \n",
            "  inflating: dataset/tesla_model_s/c45c081c-eb1f-4cca-b944-b0000dcd6180_modelstrackpack-3.jpg  \n",
            "  inflating: dataset/tesla_model_s/download (10).jpg  \n",
            "  inflating: dataset/tesla_model_s/download (11).jpg  \n",
            "  inflating: dataset/tesla_model_s/download (12).jpg  \n",
            "  inflating: dataset/tesla_model_s/download (13).jpg  \n",
            "  inflating: dataset/tesla_model_s/download (14).jpg  \n",
            "  inflating: dataset/tesla_model_s/download (15).jpg  \n",
            "  inflating: dataset/tesla_model_s/download (16).jpg  \n",
            "  inflating: dataset/tesla_model_s/download (17).jpg  \n",
            "  inflating: dataset/tesla_model_s/download (18).jpg  \n",
            "  inflating: dataset/tesla_model_s/download (19).jpg  \n",
            "  inflating: dataset/tesla_model_s/download (20).jpg  \n",
            "  inflating: dataset/tesla_model_s/download (21).jpg  \n",
            "  inflating: dataset/tesla_model_s/download (22).jpg  \n",
            "  inflating: dataset/tesla_model_s/download (23).jpg  \n",
            "  inflating: dataset/tesla_model_s/download (24).jpg  \n",
            "  inflating: dataset/tesla_model_s/download (25).jpg  \n",
            "  inflating: dataset/tesla_model_s/download (26).jpg  \n",
            "  inflating: dataset/tesla_model_s/download (27).jpg  \n",
            "  inflating: dataset/tesla_model_s/download (28).jpg  \n",
            "  inflating: dataset/tesla_model_s/download (29).jpg  \n",
            "  inflating: dataset/tesla_model_s/download (3).jpg  \n",
            "  inflating: dataset/tesla_model_s/download (30).jpg  \n",
            "  inflating: dataset/tesla_model_s/download (31).jpg  \n",
            "  inflating: dataset/tesla_model_s/download (4).jpg  \n",
            "  inflating: dataset/tesla_model_s/download (5).jpg  \n",
            "  inflating: dataset/tesla_model_s/download (6).jpg  \n",
            "  inflating: dataset/tesla_model_s/download (7).jpg  \n",
            "  inflating: dataset/tesla_model_s/download (8).jpg  \n",
            "  inflating: dataset/tesla_model_s/download (9).jpg  \n",
            "  inflating: dataset/tesla_model_s/dsc_0265-1600x1067-b6e8014d-0dd2-4947-ab78-319201653550.jpg  \n",
            "  inflating: dataset/tesla_model_s/DustinAguilarMSchromedelete_2048x.jpg  \n",
            "  inflating: dataset/tesla_model_s/googlelogo_dark_color_188x64dp.png  \n",
            "  inflating: dataset/tesla_model_s/GUID-5543BA62-932F-46C5-B1EF-44707D4726B2-online-en-US.png  \n",
            "  inflating: dataset/tesla_model_s/images (100).jpg  \n",
            "  inflating: dataset/tesla_model_s/images (21).jpg  \n",
            "  inflating: dataset/tesla_model_s/images (22).jpg  \n",
            "  inflating: dataset/tesla_model_s/images (23).jpg  \n",
            "  inflating: dataset/tesla_model_s/images (24).jpg  \n",
            "  inflating: dataset/tesla_model_s/images (25).jpg  \n",
            "  inflating: dataset/tesla_model_s/images (26).jpg  \n",
            "  inflating: dataset/tesla_model_s/images (27).jpg  \n",
            "  inflating: dataset/tesla_model_s/images (28).jpg  \n",
            "  inflating: dataset/tesla_model_s/images (29).jpg  \n",
            "  inflating: dataset/tesla_model_s/images (30).jpg  \n",
            "  inflating: dataset/tesla_model_s/images (31).jpg  \n",
            "  inflating: dataset/tesla_model_s/images (32).jpg  \n",
            "  inflating: dataset/tesla_model_s/images (33).jpg  \n",
            "  inflating: dataset/tesla_model_s/images (34).jpg  \n",
            "  inflating: dataset/tesla_model_s/images (35).jpg  \n",
            "  inflating: dataset/tesla_model_s/images (36).jpg  \n",
            "  inflating: dataset/tesla_model_s/images (37).jpg  \n",
            "  inflating: dataset/tesla_model_s/images (38).jpg  \n",
            "  inflating: dataset/tesla_model_s/images (39).jpg  \n",
            "  inflating: dataset/tesla_model_s/images (40).jpg  \n",
            "  inflating: dataset/tesla_model_s/images (41).jpg  \n",
            "  inflating: dataset/tesla_model_s/images (42).jpg  \n",
            "  inflating: dataset/tesla_model_s/images (43).jpg  \n",
            "  inflating: dataset/tesla_model_s/images (44).jpg  \n",
            "  inflating: dataset/tesla_model_s/images (45).jpg  \n",
            "  inflating: dataset/tesla_model_s/images (46).jpg  \n",
            "  inflating: dataset/tesla_model_s/images (47).jpg  \n",
            "  inflating: dataset/tesla_model_s/images (48).jpg  \n",
            "  inflating: dataset/tesla_model_s/images (49).jpg  \n",
            "  inflating: dataset/tesla_model_s/images (50).jpg  \n",
            "  inflating: dataset/tesla_model_s/images (51).jpg  \n",
            "  inflating: dataset/tesla_model_s/images (52).jpg  \n",
            "  inflating: dataset/tesla_model_s/images (53).jpg  \n",
            "  inflating: dataset/tesla_model_s/images (54).jpg  \n",
            "  inflating: dataset/tesla_model_s/images (55).jpg  \n",
            "  inflating: dataset/tesla_model_s/images (56).jpg  \n",
            "  inflating: dataset/tesla_model_s/images (57).jpg  \n",
            "  inflating: dataset/tesla_model_s/images (58).jpg  \n",
            "  inflating: dataset/tesla_model_s/images (59).jpg  \n",
            "  inflating: dataset/tesla_model_s/images (60).jpg  \n",
            "  inflating: dataset/tesla_model_s/images (61).jpg  \n",
            "  inflating: dataset/tesla_model_s/images (62).jpg  \n",
            "  inflating: dataset/tesla_model_s/images (63).jpg  \n",
            "  inflating: dataset/tesla_model_s/images (64).jpg  \n",
            "  inflating: dataset/tesla_model_s/images (65).jpg  \n",
            "  inflating: dataset/tesla_model_s/images (66).jpg  \n",
            "  inflating: dataset/tesla_model_s/images (67).jpg  \n",
            "  inflating: dataset/tesla_model_s/images (68).jpg  \n",
            "  inflating: dataset/tesla_model_s/images (69).jpg  \n",
            "  inflating: dataset/tesla_model_s/images (70).jpg  \n",
            "  inflating: dataset/tesla_model_s/images (71).jpg  \n",
            "  inflating: dataset/tesla_model_s/images (72).jpg  \n",
            "  inflating: dataset/tesla_model_s/images (73).jpg  \n",
            "  inflating: dataset/tesla_model_s/images (74).jpg  \n",
            "  inflating: dataset/tesla_model_s/images (75).jpg  \n",
            "  inflating: dataset/tesla_model_s/images (76).jpg  \n",
            "  inflating: dataset/tesla_model_s/images (77).jpg  \n",
            "  inflating: dataset/tesla_model_s/images (78).jpg  \n",
            "  inflating: dataset/tesla_model_s/images (79).jpg  \n",
            "  inflating: dataset/tesla_model_s/images (80).jpg  \n",
            "  inflating: dataset/tesla_model_s/images (81).jpg  \n",
            "  inflating: dataset/tesla_model_s/images (82).jpg  \n",
            "  inflating: dataset/tesla_model_s/images (83).jpg  \n",
            "  inflating: dataset/tesla_model_s/images (84).jpg  \n",
            "  inflating: dataset/tesla_model_s/images (85).jpg  \n",
            "  inflating: dataset/tesla_model_s/images (86).jpg  \n",
            "  inflating: dataset/tesla_model_s/images (87).jpg  \n",
            "  inflating: dataset/tesla_model_s/images (88).jpg  \n",
            "  inflating: dataset/tesla_model_s/images (89).jpg  \n",
            "  inflating: dataset/tesla_model_s/images (90).jpg  \n",
            "  inflating: dataset/tesla_model_s/images (91).jpg  \n",
            "  inflating: dataset/tesla_model_s/images (92).jpg  \n",
            "  inflating: dataset/tesla_model_s/images (93).jpg  \n",
            "  inflating: dataset/tesla_model_s/images (94).jpg  \n",
            "  inflating: dataset/tesla_model_s/images (95).jpg  \n",
            "  inflating: dataset/tesla_model_s/images (96).jpg  \n",
            "  inflating: dataset/tesla_model_s/images (97).jpg  \n",
            "  inflating: dataset/tesla_model_s/images (98).jpg  \n",
            "  inflating: dataset/tesla_model_s/images (99).jpg  \n",
            "  inflating: dataset/tesla_model_s/images - 2023-08-30T035653.302.jpg  \n",
            "  inflating: dataset/tesla_model_s/images - 2023-08-30T035654.484.jpg  \n",
            "  inflating: dataset/tesla_model_s/images - 2023-08-30T035654.893.jpg  \n",
            "  inflating: dataset/tesla_model_s/images - 2023-08-30T035655.301.jpg  \n",
            "  inflating: dataset/tesla_model_s/images - 2023-08-30T035655.717.jpg  \n",
            "  inflating: dataset/tesla_model_s/images - 2023-08-30T035656.293.jpg  \n",
            "  inflating: dataset/tesla_model_s/images - 2023-08-30T035656.903.jpg  \n",
            "  inflating: dataset/tesla_model_s/images - 2023-08-30T035657.502.jpg  \n",
            "  inflating: dataset/tesla_model_s/images - 2023-08-30T035657.694.jpg  \n",
            "  inflating: dataset/tesla_model_s/images - 2023-08-30T035658.159.jpg  \n",
            "  inflating: dataset/tesla_model_s/images - 2023-08-30T035658.438.jpg  \n",
            "  inflating: dataset/tesla_model_s/images - 2023-08-30T035658.719.jpg  \n",
            "  inflating: dataset/tesla_model_s/images - 2023-08-30T035659.012.jpg  \n",
            "  inflating: dataset/tesla_model_s/images - 2023-08-30T035659.256.jpg  \n",
            "  inflating: dataset/tesla_model_s/images - 2023-08-30T035659.625.jpg  \n",
            "  inflating: dataset/tesla_model_s/images - 2023-08-30T035700.004.jpg  \n",
            "  inflating: dataset/tesla_model_s/images - 2023-08-30T035700.401.jpg  \n",
            "  inflating: dataset/tesla_model_s/images - 2023-08-30T035700.809.jpg  \n",
            "  inflating: dataset/tesla_model_s/images - 2023-08-30T035701.203.jpg  \n",
            "  inflating: dataset/tesla_model_s/images - 2023-08-30T035701.521.jpg  \n",
            "  inflating: dataset/tesla_model_s/images - 2023-08-30T035701.775.jpg  \n",
            "  inflating: dataset/tesla_model_s/images - 2023-08-30T035702.097.jpg  \n",
            "  inflating: dataset/tesla_model_s/images - 2023-08-30T035702.300.jpg  \n",
            "  inflating: dataset/tesla_model_s/images - 2023-08-30T035702.530.jpg  \n",
            "  inflating: dataset/tesla_model_s/images - 2023-08-30T035702.826.jpg  \n",
            "  inflating: dataset/tesla_model_s/images - 2023-08-30T035702.982.jpg  \n",
            "  inflating: dataset/tesla_model_s/images - 2023-08-30T035703.210.jpg  \n",
            "  inflating: dataset/tesla_model_s/images - 2023-08-30T035703.809.jpg  \n",
            "  inflating: dataset/tesla_model_s/images - 2023-08-30T035705.906.jpg  \n",
            "  inflating: dataset/tesla_model_s/images - 2023-08-30T035706.258.jpg  \n",
            "  inflating: dataset/tesla_model_s/images - 2023-08-30T035706.418.jpg  \n",
            "  inflating: dataset/tesla_model_s/images - 2023-08-30T035706.573.jpg  \n",
            "  inflating: dataset/tesla_model_s/images - 2023-08-30T035707.011.jpg  \n",
            "  inflating: dataset/tesla_model_s/images - 2023-08-30T035707.312.jpg  \n",
            "  inflating: dataset/tesla_model_s/images - 2023-08-30T035707.468.jpg  \n",
            "  inflating: dataset/tesla_model_s/images - 2023-08-30T035707.864.jpg  \n",
            "  inflating: dataset/tesla_model_s/images - 2023-08-30T035708.107.jpg  \n",
            "  inflating: dataset/tesla_model_s/images - 2023-08-30T035708.326.jpg  \n",
            "  inflating: dataset/tesla_model_s/images - 2023-08-30T035708.476.jpg  \n",
            "  inflating: dataset/tesla_model_s/images - 2023-08-30T035709.090.jpg  \n",
            "  inflating: dataset/tesla_model_s/images - 2023-08-30T035709.783.jpg  \n",
            "  inflating: dataset/tesla_model_s/images - 2023-08-30T035709.934.jpg  \n",
            "  inflating: dataset/tesla_model_s/images - 2023-08-30T035710.245.jpg  \n",
            "  inflating: dataset/tesla_model_s/images - 2023-08-30T035710.405.jpg  \n",
            "  inflating: dataset/tesla_model_s/images - 2023-08-30T035710.558.jpg  \n",
            "  inflating: dataset/tesla_model_s/images - 2023-08-30T035710.901.jpg  \n",
            "  inflating: dataset/tesla_model_s/images - 2023-08-30T035711.188.jpg  \n",
            "  inflating: dataset/tesla_model_s/images - 2023-08-30T035711.377.jpg  \n",
            "  inflating: dataset/tesla_model_s/images - 2023-08-30T035712.394.jpg  \n",
            "  inflating: dataset/tesla_model_s/images - 2023-08-30T035712.802.jpg  \n",
            "  inflating: dataset/tesla_model_s/images - 2023-08-30T035713.199.jpg  \n",
            "  inflating: dataset/tesla_model_s/images - 2023-08-30T035713.545.jpg  \n",
            "  inflating: dataset/tesla_model_s/images - 2023-08-30T035713.871.jpg  \n",
            "  inflating: dataset/tesla_model_s/images - 2023-08-30T035714.176.jpg  \n",
            "  inflating: dataset/tesla_model_s/images - 2023-08-30T035714.388.jpg  \n",
            "  inflating: dataset/tesla_model_s/images - 2023-08-30T035715.046.jpg  \n",
            "  inflating: dataset/tesla_model_s/images - 2023-08-30T035715.326.jpg  \n",
            "  inflating: dataset/tesla_model_s/images - 2023-08-30T035716.538.jpg  \n",
            "  inflating: dataset/tesla_model_s/images - 2023-08-30T035717.491.jpg  \n",
            "  inflating: dataset/tesla_model_s/images - 2023-08-30T035718.041.jpg  \n",
            "  inflating: dataset/tesla_model_s/images - 2023-08-30T035718.350.jpg  \n",
            "  inflating: dataset/tesla_model_s/images.png  \n",
            "  inflating: dataset/tesla_model_s/kisspng-2018-tesla-model-s-tesla-motors-car-electric-vehic-model-5abf24ccdbad96.2230115115224762368998.png  \n",
            "  inflating: dataset/tesla_model_s/light_thumbnail2.png  \n",
            "  inflating: dataset/tesla_model_s/model-s-exterior-right-side-view.jpeg  \n",
            "  inflating: dataset/tesla_model_s/models-header__FocusFillWzE5MjAsNjAwLGZhbHNlLDBd.jpg  \n",
            "  inflating: dataset/tesla_model_s/pexels-raka-miftah-4335774.jpg  \n",
            "  inflating: dataset/tesla_model_s/ppf-achterlichtschild-voor-tesla-model-s-2022.jpg  \n",
            "  inflating: dataset/tesla_model_s/tesla model s.jpg  \n",
            "  inflating: dataset/tesla_model_s/Tesla-Model S PLAID web.jpg  \n",
            "  inflating: dataset/tesla_model_s/tesla-model-s-001.jpg  \n",
            "  inflating: dataset/tesla_model_s/tesla-model-s-1-original.jpg  \n",
            "  inflating: dataset/tesla_model_s/Tesla-Model-S-2022-update-hero.jpg  \n",
            "  inflating: dataset/tesla_model_s/tesla-model-s-6x6_0.jpg  \n",
            "  inflating: dataset/tesla_model_s/tesla-model-s-95d_1.jpg  \n",
            "  inflating: dataset/tesla_model_s/tesla-model-S-facelift-3-e1684049260217-630x343.jpg  \n",
            "  inflating: dataset/tesla_model_s/tesla-model-s-front.jpg  \n",
            "  inflating: dataset/tesla_model_s/tesla-model-s-plaid-2020.jpg  \n",
            "  inflating: dataset/tesla_model_s/tesla-model-s-plaid-new-vs-old-model-s.jpg  \n",
            "  inflating: dataset/tesla_model_s/Tesla-model-S-Plaid.jpg  \n",
            "  inflating: dataset/tesla_model_s/tesla-model-s-red-e1692063874544.jpeg  \n",
            "  inflating: dataset/tesla_model_s/Tesla-Model-S-Refresh-Interieur-MisterGreen_intrinsic.jpeg  \n",
            "  inflating: dataset/tesla_model_s/Tesla-Model-S-top-speed-record.jpg  \n",
            "  inflating: dataset/tesla_model_s/Tesla-Model-S-Ultra-Red.jpg  \n",
            "  inflating: dataset/tesla_model_s/tesla-model-x-left-hand-min.jpg  \n",
            "  inflating: dataset/tesla_model_s/tesla-plaid-lead.jpg  \n",
            "  inflating: dataset/tesla_model_s/tesland_lowered_model_s.jpg  \n",
            "  inflating: dataset/tesla_model_s/tesland_models_dreamcase1.jpg  \n",
            "  inflating: dataset/tesla_model_s/Tesla_Model_S-01@2x.jpg  \n",
            "  inflating: dataset/tesla_model_s/Tesla_Model_S_2016-01@2x.jpg  \n",
            "  inflating: dataset/tesla_model_s/Tesla_Model_S_at_a_Supercharger_station.jpeg  \n",
            "  inflating: dataset/tesla_model_s/tesla_model_S_front_8.jpeg  \n",
            "  inflating: dataset/tesla_model_s/tesla_model_s_plaid_front_cornering.jpg  \n",
            "  inflating: dataset/tesla_model_s/Tesla_S90D_Ext-1.jpg  \n",
            "   creating: dataset/tesla_model_x/\n",
            "  inflating: dataset/tesla_model_x/-1x-1 (1).jpg  \n",
            "  inflating: dataset/tesla_model_x/-1x-1.jpg  \n",
            "  inflating: dataset/tesla_model_x/01-teslamodelx.jpg  \n",
            "  inflating: dataset/tesla_model_x/03O4IA6HkqzK8U25pjEhmLX-10.fit_scale.size_760x427.v1569482326.jpg  \n",
            "  inflating: dataset/tesla_model_x/084427646-3551864b-460d-4f47-a169-6e222ea8ba93.jpg  \n",
            "  inflating: dataset/tesla_model_x/0bc183e9-a0c8-4deb-92b6-846b04c11389.gif  \n",
            "  inflating: dataset/tesla_model_x/0x0-ModelX_06.jpg  \n",
            "  inflating: dataset/tesla_model_x/2015-tesla-model-x-photos-and-info-news-car-and-driver-photo-441390-s-original.jpg  \n",
            "  inflating: dataset/tesla_model_x/2016_tesla_model-x_4dr-suv_p90d_fq_oem_1_1600.jpg  \n",
            "  inflating: dataset/tesla_model_x/2017_Tesla_Model_X_100D_Front.jpg  \n",
            "  inflating: dataset/tesla_model_x/2018-tesla-model-x-75d-suv-angular-front.png  \n",
            "  inflating: dataset/tesla_model_x/2020-tesla-model-s-11quickest-1604695431.jpg  \n",
            "  inflating: dataset/tesla_model_x/2021-Tesla-Model-X-3.jpg  \n",
            "  inflating: dataset/tesla_model_x/20210226114458_Tesla_Model_X_P100D_lead.jpg  \n",
            "  inflating: dataset/tesla_model_x/2021_tesla_model-x_4dr-suv_plaid_fq_oem_1_1280.jpg  \n",
            "  inflating: dataset/tesla_model_x/2023-tesla-model-x-101-1671475309.jpeg  \n",
            "  inflating: dataset/tesla_model_x/2023-tesla-model-x-103-1671475224.jpeg  \n",
            "  inflating: dataset/tesla_model_x/2023-Tesla-Model-X-2.jpg  \n",
            "  inflating: dataset/tesla_model_x/2023-tesla-model-x-7.jpg  \n",
            "  inflating: dataset/tesla_model_x/2023-tesla-model-x-plaid-cockpit-carbuzz-805714-1600.jpg  \n",
            "  inflating: dataset/tesla_model_x/2023-tesla-model-x.jpg  \n",
            "  inflating: dataset/tesla_model_x/2120x920_model_X_model_S_renderi_1.jpg  \n",
            "  inflating: dataset/tesla_model_x/326119_2018_Tesla_Model_X.jpg  \n",
            "  inflating: dataset/tesla_model_x/50199_st0640_116.png  \n",
            "  inflating: dataset/tesla_model_x/6259b563bf2a691e3eae6b5a_Tesla-model-x.jpeg  \n",
            "  inflating: dataset/tesla_model_x/8ff1bab9-15f0-455c-9fb5-95172d82d9bc_tesla-model-x-main-nb.jpg  \n",
            "  inflating: dataset/tesla_model_x/black-tesla-model-x-carbon-fiber-spoiler-mx22-forged-aftermarket-wheel-gloss-black-wm-1_1280x.jpg  \n",
            "  inflating: dataset/tesla_model_x/bmw-x7-tesla-model-x.jpg  \n",
            "  inflating: dataset/tesla_model_x/c340a77d-af56-4562-abfb-bd5518ccb292_2023+Tesla+Model+X+front+quarter+moving.jpg  \n",
            "  inflating: dataset/tesla_model_x/d00ff271-0b10-4c47-823d-933a4f97e8e5.png  \n",
            "  inflating: dataset/tesla_model_x/download (1).jpg  \n",
            "  inflating: dataset/tesla_model_x/download (10).jpg  \n",
            "  inflating: dataset/tesla_model_x/download (11).jpg  \n",
            "  inflating: dataset/tesla_model_x/download (12).jpg  \n",
            "  inflating: dataset/tesla_model_x/download (13).jpg  \n",
            "  inflating: dataset/tesla_model_x/download (14).jpg  \n",
            "  inflating: dataset/tesla_model_x/download (15).jpg  \n",
            "  inflating: dataset/tesla_model_x/download (16).jpg  \n",
            "  inflating: dataset/tesla_model_x/download (17).jpg  \n",
            "  inflating: dataset/tesla_model_x/download (18).jpg  \n",
            "  inflating: dataset/tesla_model_x/download (19).jpg  \n",
            "  inflating: dataset/tesla_model_x/download (2).jpg  \n",
            "  inflating: dataset/tesla_model_x/download (3).jpg  \n",
            "  inflating: dataset/tesla_model_x/download (4).jpg  \n",
            "  inflating: dataset/tesla_model_x/download (5).jpg  \n",
            "  inflating: dataset/tesla_model_x/download (6).jpg  \n",
            "  inflating: dataset/tesla_model_x/download (7).jpg  \n",
            "  inflating: dataset/tesla_model_x/download (8).jpg  \n",
            "  inflating: dataset/tesla_model_x/download (9).jpg  \n",
            "  inflating: dataset/tesla_model_x/download.jpg  \n",
            "  inflating: dataset/tesla_model_x/dsc05545.jpeg  \n",
            "  inflating: dataset/tesla_model_x/dsc06327.jpg  \n",
            "  inflating: dataset/tesla_model_x/images (1).jpg  \n",
            "  inflating: dataset/tesla_model_x/images (10).jpg  \n",
            "  inflating: dataset/tesla_model_x/images (100).jpg  \n",
            "  inflating: dataset/tesla_model_x/images (11).jpg  \n",
            "  inflating: dataset/tesla_model_x/images (13).jpg  \n",
            "  inflating: dataset/tesla_model_x/images (14).jpg  \n",
            "  inflating: dataset/tesla_model_x/images (15).jpg  \n",
            "  inflating: dataset/tesla_model_x/images (16).jpg  \n",
            "  inflating: dataset/tesla_model_x/images (17).jpg  \n",
            "  inflating: dataset/tesla_model_x/images (18).jpg  \n",
            "  inflating: dataset/tesla_model_x/images (19).jpg  \n",
            "  inflating: dataset/tesla_model_x/images (2).jpg  \n",
            "  inflating: dataset/tesla_model_x/images (20).jpg  \n",
            "  inflating: dataset/tesla_model_x/images (21).jpg  \n",
            "  inflating: dataset/tesla_model_x/images (22).jpg  \n",
            "  inflating: dataset/tesla_model_x/images (23).jpg  \n",
            "  inflating: dataset/tesla_model_x/images (24).jpg  \n",
            "  inflating: dataset/tesla_model_x/images (25).jpg  \n",
            "  inflating: dataset/tesla_model_x/images (26).jpg  \n",
            "  inflating: dataset/tesla_model_x/images (27).jpg  \n",
            "  inflating: dataset/tesla_model_x/images (28).jpg  \n",
            "  inflating: dataset/tesla_model_x/images (29).jpg  \n",
            "  inflating: dataset/tesla_model_x/images (30).jpg  \n",
            "  inflating: dataset/tesla_model_x/images (31).jpg  \n",
            "  inflating: dataset/tesla_model_x/images (34).jpg  \n",
            "  inflating: dataset/tesla_model_x/images (35).jpg  \n",
            "  inflating: dataset/tesla_model_x/images (36).jpg  \n",
            "  inflating: dataset/tesla_model_x/images (37).jpg  \n",
            "  inflating: dataset/tesla_model_x/images (38).jpg  \n",
            "  inflating: dataset/tesla_model_x/images (39).jpg  \n",
            "  inflating: dataset/tesla_model_x/images (4).jpg  \n",
            "  inflating: dataset/tesla_model_x/images (40).jpg  \n",
            "  inflating: dataset/tesla_model_x/images (41).jpg  \n",
            "  inflating: dataset/tesla_model_x/images (42).jpg  \n",
            "  inflating: dataset/tesla_model_x/images (43).jpg  \n",
            "  inflating: dataset/tesla_model_x/images (44).jpg  \n",
            "  inflating: dataset/tesla_model_x/images (45).jpg  \n",
            "  inflating: dataset/tesla_model_x/images (47).jpg  \n",
            "  inflating: dataset/tesla_model_x/images (48).jpg  \n",
            "  inflating: dataset/tesla_model_x/images (49).jpg  \n",
            "  inflating: dataset/tesla_model_x/images (5).jpg  \n",
            "  inflating: dataset/tesla_model_x/images (50).jpg  \n",
            "  inflating: dataset/tesla_model_x/images (51).jpg  \n",
            "  inflating: dataset/tesla_model_x/images (52).jpg  \n",
            "  inflating: dataset/tesla_model_x/images (53).jpg  \n",
            "  inflating: dataset/tesla_model_x/images (54).jpg  \n",
            "  inflating: dataset/tesla_model_x/images (55).jpg  \n",
            "  inflating: dataset/tesla_model_x/images (56).jpg  \n",
            "  inflating: dataset/tesla_model_x/images (57).jpg  \n",
            "  inflating: dataset/tesla_model_x/images (58).jpg  \n",
            "  inflating: dataset/tesla_model_x/images (59).jpg  \n",
            "  inflating: dataset/tesla_model_x/images (6).jpg  \n",
            "  inflating: dataset/tesla_model_x/images (60).jpg  \n",
            "  inflating: dataset/tesla_model_x/images (61).jpg  \n",
            "  inflating: dataset/tesla_model_x/images (62).jpg  \n",
            "  inflating: dataset/tesla_model_x/images (63).jpg  \n",
            "  inflating: dataset/tesla_model_x/images (64).jpg  \n",
            "  inflating: dataset/tesla_model_x/images (65).jpg  \n",
            "  inflating: dataset/tesla_model_x/images (66).jpg  \n",
            "  inflating: dataset/tesla_model_x/images (67).jpg  \n",
            "  inflating: dataset/tesla_model_x/images (68).jpg  \n",
            "  inflating: dataset/tesla_model_x/images (69).jpg  \n",
            "  inflating: dataset/tesla_model_x/images (7).jpg  \n",
            "  inflating: dataset/tesla_model_x/images (70).jpg  \n",
            "  inflating: dataset/tesla_model_x/images (71).jpg  \n",
            "  inflating: dataset/tesla_model_x/images (72).jpg  \n",
            "  inflating: dataset/tesla_model_x/images (73).jpg  \n",
            "  inflating: dataset/tesla_model_x/images (74).jpg  \n",
            "  inflating: dataset/tesla_model_x/images (75).jpg  \n",
            "  inflating: dataset/tesla_model_x/images (76).jpg  \n",
            "  inflating: dataset/tesla_model_x/images (77).jpg  \n",
            "  inflating: dataset/tesla_model_x/images (78).jpg  \n",
            "  inflating: dataset/tesla_model_x/images (79).jpg  \n",
            "  inflating: dataset/tesla_model_x/images (8).jpg  \n",
            "  inflating: dataset/tesla_model_x/images (80).jpg  \n",
            "  inflating: dataset/tesla_model_x/images (81).jpg  \n",
            "  inflating: dataset/tesla_model_x/images (82).jpg  \n",
            "  inflating: dataset/tesla_model_x/images (83).jpg  \n",
            "  inflating: dataset/tesla_model_x/images (84).jpg  \n",
            "  inflating: dataset/tesla_model_x/images (85).jpg  \n",
            "  inflating: dataset/tesla_model_x/images (86).jpg  \n",
            "  inflating: dataset/tesla_model_x/images (87).jpg  \n",
            "  inflating: dataset/tesla_model_x/images (88).jpg  \n",
            "  inflating: dataset/tesla_model_x/images (9).jpg  \n",
            "  inflating: dataset/tesla_model_x/images (91).jpg  \n",
            "  inflating: dataset/tesla_model_x/images (92).jpg  \n",
            "  inflating: dataset/tesla_model_x/images (93).jpg  \n",
            "  inflating: dataset/tesla_model_x/images (94).jpg  \n",
            "  inflating: dataset/tesla_model_x/images (95).jpg  \n",
            "  inflating: dataset/tesla_model_x/images (96).jpg  \n",
            "  inflating: dataset/tesla_model_x/images (97).jpg  \n",
            "  inflating: dataset/tesla_model_x/images (98).jpg  \n",
            "  inflating: dataset/tesla_model_x/images (99).jpg  \n",
            "  inflating: dataset/tesla_model_x/images - 2023-08-30T070122.555.jpg  \n",
            "  inflating: dataset/tesla_model_x/images - 2023-08-30T070122.598.jpg  \n",
            "  inflating: dataset/tesla_model_x/images - 2023-08-30T070122.641.jpg  \n",
            "  inflating: dataset/tesla_model_x/images - 2023-08-30T070122.692.jpg  \n",
            "  inflating: dataset/tesla_model_x/images - 2023-08-30T070122.776.jpg  \n",
            "  inflating: dataset/tesla_model_x/images - 2023-08-30T070122.820.jpg  \n",
            "  inflating: dataset/tesla_model_x/images - 2023-08-30T070122.905.jpg  \n",
            "  inflating: dataset/tesla_model_x/images - 2023-08-30T070122.953.jpg  \n",
            "  inflating: dataset/tesla_model_x/images - 2023-08-30T070123.017.jpg  \n",
            "  inflating: dataset/tesla_model_x/images - 2023-08-30T070123.060.jpg  \n",
            "  inflating: dataset/tesla_model_x/images - 2023-08-30T070123.102.jpg  \n",
            "  inflating: dataset/tesla_model_x/images - 2023-08-30T070123.146.jpg  \n",
            "  inflating: dataset/tesla_model_x/images - 2023-08-30T070123.257.jpg  \n",
            "  inflating: dataset/tesla_model_x/images - 2023-08-30T070123.301.jpg  \n",
            "  inflating: dataset/tesla_model_x/images - 2023-08-30T070123.343.jpg  \n",
            "  inflating: dataset/tesla_model_x/images - 2023-08-30T070123.443.jpg  \n",
            "  inflating: dataset/tesla_model_x/images - 2023-08-30T070123.487.jpg  \n",
            "  inflating: dataset/tesla_model_x/images - 2023-08-30T070123.529.jpg  \n",
            "  inflating: dataset/tesla_model_x/images - 2023-08-30T070123.612.jpg  \n",
            "  inflating: dataset/tesla_model_x/images - 2023-08-30T070123.657.jpg  \n",
            "  inflating: dataset/tesla_model_x/images - 2023-08-30T070123.703.jpg  \n",
            "  inflating: dataset/tesla_model_x/images - 2023-08-30T070123.747.jpg  \n",
            "  inflating: dataset/tesla_model_x/images - 2023-08-30T070123.797.jpg  \n",
            "  inflating: dataset/tesla_model_x/images - 2023-08-30T070123.839.jpg  \n",
            "  inflating: dataset/tesla_model_x/images - 2023-08-30T070123.887.jpg  \n",
            "  inflating: dataset/tesla_model_x/images - 2023-08-30T070123.972.jpg  \n",
            "  inflating: dataset/tesla_model_x/images - 2023-08-30T070124.044.jpg  \n",
            "  inflating: dataset/tesla_model_x/images - 2023-08-30T070124.089.jpg  \n",
            "  inflating: dataset/tesla_model_x/images - 2023-08-30T070124.149.jpg  \n",
            "  inflating: dataset/tesla_model_x/images - 2023-08-30T070124.201.jpg  \n",
            "  inflating: dataset/tesla_model_x/images - 2023-08-30T070124.244.jpg  \n",
            "  inflating: dataset/tesla_model_x/images - 2023-08-30T070124.421.jpg  \n",
            "  inflating: dataset/tesla_model_x/images - 2023-08-30T070124.483.jpg  \n",
            "  inflating: dataset/tesla_model_x/images - 2023-08-30T070124.529.jpg  \n",
            "  inflating: dataset/tesla_model_x/images - 2023-08-30T070124.601.jpg  \n",
            "  inflating: dataset/tesla_model_x/images - 2023-08-30T070124.655.jpg  \n",
            "  inflating: dataset/tesla_model_x/images - 2023-08-30T070124.722.jpg  \n",
            "  inflating: dataset/tesla_model_x/images - 2023-08-30T070124.769.jpg  \n",
            "  inflating: dataset/tesla_model_x/images - 2023-08-30T070124.819.jpg  \n",
            "  inflating: dataset/tesla_model_x/images - 2023-08-30T070124.884.jpg  \n",
            "  inflating: dataset/tesla_model_x/images - 2023-08-30T070124.969.jpg  \n",
            "  inflating: dataset/tesla_model_x/images - 2023-08-30T070125.014.jpg  \n",
            "  inflating: dataset/tesla_model_x/images - 2023-08-30T070125.058.jpg  \n",
            "  inflating: dataset/tesla_model_x/images - 2023-08-30T070125.104.jpg  \n",
            "  inflating: dataset/tesla_model_x/images - 2023-08-30T070125.227.jpg  \n",
            "  inflating: dataset/tesla_model_x/images - 2023-08-30T070125.328.jpg  \n",
            "  inflating: dataset/tesla_model_x/images - 2023-08-30T070125.394.jpg  \n",
            "  inflating: dataset/tesla_model_x/images - 2023-08-30T070125.445.jpg  \n",
            "  inflating: dataset/tesla_model_x/images - 2023-08-30T070125.488.jpg  \n",
            "  inflating: dataset/tesla_model_x/images - 2023-08-30T070125.533.jpg  \n",
            "  inflating: dataset/tesla_model_x/images - 2023-08-30T070125.591.jpg  \n",
            "  inflating: dataset/tesla_model_x/images - 2023-08-30T070125.636.jpg  \n",
            "  inflating: dataset/tesla_model_x/images - 2023-08-30T070125.693.jpg  \n",
            "  inflating: dataset/tesla_model_x/images - 2023-08-30T070125.780.jpg  \n",
            "  inflating: dataset/tesla_model_x/images - 2023-08-30T070125.920.jpg  \n",
            "  inflating: dataset/tesla_model_x/images - 2023-08-30T070125.981.jpg  \n",
            "  inflating: dataset/tesla_model_x/images - 2023-08-30T070126.150.jpg  \n",
            "  inflating: dataset/tesla_model_x/images - 2023-08-30T070126.499.jpg  \n",
            "  inflating: dataset/tesla_model_x/images - 2023-08-30T070126.691.jpg  \n",
            "  inflating: dataset/tesla_model_x/images - 2023-08-30T070126.875.jpg  \n",
            "  inflating: dataset/tesla_model_x/images - 2023-08-30T070127.168.jpg  \n",
            "  inflating: dataset/tesla_model_x/images - 2023-08-30T070127.576.jpg  \n",
            "  inflating: dataset/tesla_model_x/images - 2023-08-30T070128.082.jpg  \n",
            "  inflating: dataset/tesla_model_x/images - 2023-08-30T070128.167.jpg  \n",
            "  inflating: dataset/tesla_model_x/images - 2023-08-30T070128.212.jpg  \n",
            "  inflating: dataset/tesla_model_x/images - 2023-08-30T070128.308.jpg  \n",
            "  inflating: dataset/tesla_model_x/images - 2023-08-30T070128.514.jpg  \n",
            "  inflating: dataset/tesla_model_x/images - 2023-08-30T070129.872.jpg  \n",
            "  inflating: dataset/tesla_model_x/images - 2023-08-30T070129.922.jpg  \n",
            "  inflating: dataset/tesla_model_x/images - 2023-08-30T070129.972.jpg  \n",
            "  inflating: dataset/tesla_model_x/images - 2023-08-30T070130.094.jpg  \n",
            "  inflating: dataset/tesla_model_x/images - 2023-08-30T070130.143.jpg  \n",
            "  inflating: dataset/tesla_model_x/images - 2023-08-30T070130.351.jpg  \n",
            "  inflating: dataset/tesla_model_x/images - 2023-08-30T070130.405.jpg  \n",
            "  inflating: dataset/tesla_model_x/images - 2023-08-30T070130.480.jpg  \n",
            "  inflating: dataset/tesla_model_x/images - 2023-08-30T070130.538.jpg  \n",
            "  inflating: dataset/tesla_model_x/images - 2023-08-30T070130.589.jpg  \n",
            "  inflating: dataset/tesla_model_x/images - 2023-08-30T070130.640.jpg  \n",
            "  inflating: dataset/tesla_model_x/images - 2023-08-30T070130.697.jpg  \n",
            "  inflating: dataset/tesla_model_x/images - 2023-08-30T070130.929.jpg  \n",
            "  inflating: dataset/tesla_model_x/images - 2023-08-30T070131.097.jpg  \n",
            "  inflating: dataset/tesla_model_x/images - 2023-08-30T070131.175.jpg  \n",
            "  inflating: dataset/tesla_model_x/images - 2023-08-30T070131.223.jpg  \n",
            "  inflating: dataset/tesla_model_x/images - 2023-08-30T070131.274.jpg  \n",
            "  inflating: dataset/tesla_model_x/images - 2023-08-30T070131.323.jpg  \n",
            "  inflating: dataset/tesla_model_x/images - 2023-08-30T070131.376.jpg  \n",
            "  inflating: dataset/tesla_model_x/images - 2023-08-30T070131.628.jpg  \n",
            "  inflating: dataset/tesla_model_x/images - 2023-08-30T070131.733.jpg  \n",
            "  inflating: dataset/tesla_model_x/images - 2023-08-30T070131.831.jpg  \n",
            "  inflating: dataset/tesla_model_x/images - 2023-08-30T070131.881.jpg  \n",
            "  inflating: dataset/tesla_model_x/images - 2023-08-30T070131.930.jpg  \n",
            "  inflating: dataset/tesla_model_x/images - 2023-08-30T070131.979.jpg  \n",
            "  inflating: dataset/tesla_model_x/images - 2023-08-30T070132.027.jpg  \n",
            "  inflating: dataset/tesla_model_x/images - 2023-08-30T070132.081.jpg  \n",
            "  inflating: dataset/tesla_model_x/images - 2023-08-30T070132.142.jpg  \n",
            "  inflating: dataset/tesla_model_x/images - 2023-08-30T070132.199.jpg  \n",
            "  inflating: dataset/tesla_model_x/images - 2023-08-30T070132.290.jpg  \n",
            "  inflating: dataset/tesla_model_x/images - 2023-08-30T070132.396.jpg  \n",
            "  inflating: dataset/tesla_model_x/images - 2023-08-30T070132.445.jpg  \n",
            "  inflating: dataset/tesla_model_x/images - 2023-08-30T070132.499.jpg  \n",
            "  inflating: dataset/tesla_model_x/images - 2023-08-30T070132.554.jpg  \n",
            "  inflating: dataset/tesla_model_x/images - 2023-08-30T070132.604.jpg  \n",
            "  inflating: dataset/tesla_model_x/images - 2023-08-30T070132.660.jpg  \n",
            "  inflating: dataset/tesla_model_x/images - 2023-08-30T070132.756.jpg  \n",
            "  inflating: dataset/tesla_model_x/images - 2023-08-30T070132.811.jpg  \n",
            "  inflating: dataset/tesla_model_x/images - 2023-08-30T070132.865.jpg  \n",
            "  inflating: dataset/tesla_model_x/images - 2023-08-30T070132.922.jpg  \n",
            "  inflating: dataset/tesla_model_x/images - 2023-08-30T070132.973.jpg  \n",
            "  inflating: dataset/tesla_model_x/images - 2023-08-30T070133.030.jpg  \n",
            "  inflating: dataset/tesla_model_x/images.jpg  \n",
            "  inflating: dataset/tesla_model_x/IMG_89874-large.jpg  \n",
            "  inflating: dataset/tesla_model_x/krgm2ccnjqa.jpg  \n",
            "  inflating: dataset/tesla_model_x/maxresdefault (1).jpg  \n",
            "  inflating: dataset/tesla_model_x/maxresdefault.jpg  \n",
            "  inflating: dataset/tesla_model_x/model-x-over.jpg  \n",
            "  inflating: dataset/tesla_model_x/model-x-sunset.jpg  \n",
            "  inflating: dataset/tesla_model_x/O5M2BN34JRNO7OLTHY7KCPE5GA.jpg  \n",
            "  inflating: dataset/tesla_model_x/press00-model-x-rear-three-quarter-with-doors-open.jpg  \n",
            "  inflating: dataset/tesla_model_x/screen-shot-2021-01-27-at-6-16-08-pm-1611789398.png  \n",
            "  inflating: dataset/tesla_model_x/Sec_TeslaHack_1229236022.jpg  \n",
            "  inflating: dataset/tesla_model_x/Tesla Model X (3).jpg  \n",
            "  inflating: dataset/tesla_model_x/tesla-model-s-pricing-3.png  \n",
            "  inflating: dataset/tesla_model_x/tesla-model-s-top-speed-run.jpg  \n",
            "  inflating: dataset/tesla_model_x/Tesla-Model-S_01.webp  \n",
            "  inflating: dataset/tesla_model_x/tesla-model-x-01.webp  \n",
            "  inflating: dataset/tesla_model_x/tesla-model-x-02.jpg  \n",
            "  inflating: dataset/tesla_model_x/Tesla-Model-X-100D-012-low-res.jpeg  \n",
            "  inflating: dataset/tesla_model_x/Tesla-Model-X-front-action.jpg  \n",
            "  inflating: dataset/tesla_model_x/Tesla-MODEL-X-HATCHBACK-449kW-100kWh-Dual-Motor-5dr-Auto-Car-Leasing.jpg  \n",
            "  inflating: dataset/tesla_model_x/tesla-model-x-main-hero-desktop-rhd-xlhi.jpg  \n",
            "  inflating: dataset/tesla_model_x/Tesla-model-X-Parked-City.jpg  \n",
            "  inflating: dataset/tesla_model_x/Tesla-Model-X-PLaid-0-60-mph.jpg  \n",
            "  inflating: dataset/tesla_model_x/tesla-model-x-plaid-seven-seats-1024x554.jpg  \n",
            "  inflating: dataset/tesla_model_x/tesla-model-x-plaid-suv.jpg  \n",
            "  inflating: dataset/tesla_model_x/Tesla-Model-X-tires-header-scaled.jpg  \n",
            "  inflating: dataset/tesla_model_x/tesla-model-x-tuning-revozport-0-1024x555.jpg  \n",
            "  inflating: dataset/tesla_model_x/tesla-model-x-vs-model-y.jpg  \n",
            "  inflating: dataset/tesla_model_x/Tesla-Model-X-vs.-Model-S-2021.jpg  \n",
            "  inflating: dataset/tesla_model_x/tesla-model-x.png  \n",
            "  inflating: dataset/tesla_model_x/Tesla-Model-X.webp  \n",
            "  inflating: dataset/tesla_model_x/tesla-model-y-rear-quarter-tracking-2023.jpg  \n",
            "  inflating: dataset/tesla_model_x/tesla-x-novitec-5.jpg  \n",
            "  inflating: dataset/tesla_model_x/TeslaModelXPLaid_Q322_Site_Hero1_3fc7dd22-16e3-40b5-8e04-37a9c642714f.jpg  \n",
            "  inflating: dataset/tesla_model_x/TESLA_L1_PRICE@2x.png  \n",
            "  inflating: dataset/tesla_model_x/tesla_model_x_open_3-1.webp  \n",
            "  inflating: dataset/tesla_model_x/top-7-tesla-x-01.jpg  \n",
            "  inflating: dataset/tesla_model_x/Used-2022-Tesla-Model-X-Plaid-SUV-ONLY-250-Miles-FULL-Self-Driving-LOADED-with-Every-Option.jpg  \n",
            "  inflating: dataset/tesla_model_x/Used-2022-Tesla-Model-X-Plaid-SUV-Pearl-White-Only-7k-Miles-Autopilot-Turbine-Wheels-6-Seater.jpg  \n",
            "  inflating: dataset/tesla_model_x/Used-2023-Tesla-Model-X.jpg  \n",
            "  inflating: dataset/tesla_model_x/_jmbfmbstky.jpg  \n",
            "  inflating: dataset/tesla_model_x/_smc7981.webp  \n",
            "   creating: dataset/tesla_model_y/\n",
            "  inflating: dataset/tesla_model_y/1-tesla-model-y-2022-road-test-review-tracking-.jpg  \n",
            "  inflating: dataset/tesla_model_y/20190315013221_Tesla-model_y_front_34_blue.jpg  \n",
            "  inflating: dataset/tesla_model_y/2020-tesla-model-y-performance-105-1620660805.jpg  \n",
            "  inflating: dataset/tesla_model_y/2020-tesla-model-y-performance-109-1620660806.jpg  \n",
            "  inflating: dataset/tesla_model_y/2020-tesla-model-y-performance-128-1620660813.jpg  \n",
            "  inflating: dataset/tesla_model_y/20200615-tesla-07.jpg  \n",
            "  inflating: dataset/tesla_model_y/2021-Tesla-Model-Y-dual-motor-screenshot-RCR.jpg  \n",
            "  inflating: dataset/tesla_model_y/2022-Tesla-Model-Y-Dual-Motor-Performance-19.jpg  \n",
            "  inflating: dataset/tesla_model_y/2022-Tesla-Model-Y-launch-CarBuyer-Singapore-15.jpg  \n",
            "  inflating: dataset/tesla_model_y/2022-tesla-model-y-performance-awd-angular-front-exterior-view_100833533_l.jpg  \n",
            "  inflating: dataset/tesla_model_y/2023-Tesla-Model-Y-11a.jpg  \n",
            "  inflating: dataset/tesla_model_y/2023-Tesla-Model-Y-12.jpg  \n",
            "  inflating: dataset/tesla_model_y/2023-tesla-model-y-performance-04-qkd4.jpg  \n",
            "  inflating: dataset/tesla_model_y/2023-tesla-model-y-suv-coty-230131-njacobs-whls-coty-7a.png  \n",
            "  inflating: dataset/tesla_model_y/2023-tesla-model-y-tesla.jpg  \n",
            "  inflating: dataset/tesla_model_y/2023_TESLA_MODEL-Y_EV_SUV_66-1030x438.jpg  \n",
            "  inflating: dataset/tesla_model_y/2023_TESLA_MODEL-Y_EV_SUV_66.jpg  \n",
            "  inflating: dataset/tesla_model_y/2023_Tesla_Model_Y_Launch-4-630x354.jpg  \n",
            "  inflating: dataset/tesla_model_y/2024_tesla_model-y_actf34_fe_1025221_1600.jpg  \n",
            "  inflating: dataset/tesla_model_y/240fac87bd9d4c309c92103ab9d209ac.jpg  \n",
            "  inflating: dataset/tesla_model_y/275815406_Andrew-Crowley-1_trans_NvBQzQNjv4BqJgZjG4XE8BZGTSy9SLp5TPzOLYmPFb6ugTiCBoqgtqk.jpg  \n",
            "  inflating: dataset/tesla_model_y/2_c8c16993-e349-421e-a889-39da789787f1.jpg  \n",
            "  inflating: dataset/tesla_model_y/3831f54c-c03e-4877-bfd6-aa2008251638-0x0-model_y_01.jpg  \n",
            "  inflating: dataset/tesla_model_y/437325-tesla-model-y-2020-tracer-la-voie-une-fois-de-plus.jpg  \n",
            "  inflating: dataset/tesla_model_y/62b505b8-model-y.jpg  \n",
            "  inflating: dataset/tesla_model_y/636c5494d93ab24c4e5c5233_WF53197_LITGRE_November2022Content_TeslaModelYvsMustangMachE_header.webp  \n",
            "  inflating: dataset/tesla_model_y/8. Tesla Model Y.jpeg  \n",
            "  inflating: dataset/tesla_model_y/900_tesla-model-y.jpg  \n",
            "  inflating: dataset/tesla_model_y/9aNPHbmkJSyWraXpGMaaYn.jpg  \n",
            "  inflating: dataset/tesla_model_y/Autoflex_Tesla_Model_3.png  \n",
            "  inflating: dataset/tesla_model_y/d8f10e51-bc1d-44a7-81fd-0dadaaec87dd_Tesla-Model-Y-THUMBNAIL.png  \n",
            "  inflating: dataset/tesla_model_y/download (1).jpg  \n",
            "  inflating: dataset/tesla_model_y/download (10).jpg  \n",
            "  inflating: dataset/tesla_model_y/download (11).jpg  \n",
            "  inflating: dataset/tesla_model_y/download (12).jpg  \n",
            "  inflating: dataset/tesla_model_y/download (13).jpg  \n",
            "  inflating: dataset/tesla_model_y/download (14).jpg  \n",
            "  inflating: dataset/tesla_model_y/download (15).jpg  \n",
            "  inflating: dataset/tesla_model_y/download (16).jpg  \n",
            "  inflating: dataset/tesla_model_y/download (17).jpg  \n",
            "  inflating: dataset/tesla_model_y/download (18).jpg  \n",
            "  inflating: dataset/tesla_model_y/download (19).jpg  \n",
            "  inflating: dataset/tesla_model_y/download (2).jpg  \n",
            "  inflating: dataset/tesla_model_y/download (3).jpg  \n",
            "  inflating: dataset/tesla_model_y/download (4).jpg  \n",
            "  inflating: dataset/tesla_model_y/download (5).jpg  \n",
            "  inflating: dataset/tesla_model_y/download (6).jpg  \n",
            "  inflating: dataset/tesla_model_y/download (7).jpg  \n",
            "  inflating: dataset/tesla_model_y/download (8).jpg  \n",
            "  inflating: dataset/tesla_model_y/download (9).jpg  \n",
            "  inflating: dataset/tesla_model_y/download.jpg  \n",
            "  inflating: dataset/tesla_model_y/editors_images_1657768803496-Model+Y_Featured.jpg  \n",
            "  inflating: dataset/tesla_model_y/f59267f0-967b-11ed-bfba-7b41d865d04f.cf.jpg  \n",
            "  inflating: dataset/tesla_model_y/GUID-1F2D8746-336F-4CF9-9A04-F35E960F31FE-online-en-US.png  \n",
            "  inflating: dataset/tesla_model_y/hero-image.fill_.size_1248x702.v1645575893.jpg  \n",
            "  inflating: dataset/tesla_model_y/image.png  \n",
            "  inflating: dataset/tesla_model_y/images (1).jpg  \n",
            "  inflating: dataset/tesla_model_y/images (100).jpg  \n",
            "  inflating: dataset/tesla_model_y/images (11).jpg  \n",
            "  inflating: dataset/tesla_model_y/images (12).jpg  \n",
            "  inflating: dataset/tesla_model_y/images (13).jpg  \n",
            "  inflating: dataset/tesla_model_y/images (14).jpg  \n",
            "  inflating: dataset/tesla_model_y/images (15).jpg  \n",
            "  inflating: dataset/tesla_model_y/images (16).jpg  \n",
            "  inflating: dataset/tesla_model_y/images (17).jpg  \n",
            "  inflating: dataset/tesla_model_y/images (18).jpg  \n",
            "  inflating: dataset/tesla_model_y/images (19).jpg  \n",
            "  inflating: dataset/tesla_model_y/images (2).jpg  \n",
            "  inflating: dataset/tesla_model_y/images (20).jpg  \n",
            "  inflating: dataset/tesla_model_y/images (21).jpg  \n",
            "  inflating: dataset/tesla_model_y/images (22).jpg  \n",
            "  inflating: dataset/tesla_model_y/images (23).jpg  \n",
            "  inflating: dataset/tesla_model_y/images (24).jpg  \n",
            "  inflating: dataset/tesla_model_y/images (25).jpg  \n",
            "  inflating: dataset/tesla_model_y/images (26).jpg  \n",
            "  inflating: dataset/tesla_model_y/images (28).jpg  \n",
            "  inflating: dataset/tesla_model_y/images (29).jpg  \n",
            "  inflating: dataset/tesla_model_y/images (3).jpg  \n",
            "  inflating: dataset/tesla_model_y/images (30).jpg  \n",
            "  inflating: dataset/tesla_model_y/images (31).jpg  \n",
            "  inflating: dataset/tesla_model_y/images (32).jpg  \n",
            "  inflating: dataset/tesla_model_y/images (33).jpg  \n",
            "  inflating: dataset/tesla_model_y/images (34).jpg  \n",
            "  inflating: dataset/tesla_model_y/images (35).jpg  \n",
            "  inflating: dataset/tesla_model_y/images (36).jpg  \n",
            "  inflating: dataset/tesla_model_y/images (37).jpg  \n",
            "  inflating: dataset/tesla_model_y/images (38).jpg  \n",
            "  inflating: dataset/tesla_model_y/images (39).jpg  \n",
            "  inflating: dataset/tesla_model_y/images (4).jpg  \n",
            "  inflating: dataset/tesla_model_y/images (40).jpg  \n",
            "  inflating: dataset/tesla_model_y/images (41).jpg  \n",
            "  inflating: dataset/tesla_model_y/images (42).jpg  \n",
            "  inflating: dataset/tesla_model_y/images (43).jpg  \n",
            "  inflating: dataset/tesla_model_y/images (44).jpg  \n",
            "  inflating: dataset/tesla_model_y/images (45).jpg  \n",
            "  inflating: dataset/tesla_model_y/images (46).jpg  \n",
            "  inflating: dataset/tesla_model_y/images (47).jpg  \n",
            "  inflating: dataset/tesla_model_y/images (48).jpg  \n",
            "  inflating: dataset/tesla_model_y/images (49).jpg  \n",
            "  inflating: dataset/tesla_model_y/images (5).jpg  \n",
            "  inflating: dataset/tesla_model_y/images (50).jpg  \n",
            "  inflating: dataset/tesla_model_y/images (51).jpg  \n",
            "  inflating: dataset/tesla_model_y/images (52).jpg  \n",
            "  inflating: dataset/tesla_model_y/images (53).jpg  \n",
            "  inflating: dataset/tesla_model_y/images (54).jpg  \n",
            "  inflating: dataset/tesla_model_y/images (55).jpg  \n",
            "  inflating: dataset/tesla_model_y/images (56).jpg  \n",
            "  inflating: dataset/tesla_model_y/images (57).jpg  \n",
            "  inflating: dataset/tesla_model_y/images (58).jpg  \n",
            "  inflating: dataset/tesla_model_y/images (59).jpg  \n",
            "  inflating: dataset/tesla_model_y/images (6).jpg  \n",
            "  inflating: dataset/tesla_model_y/images (60).jpg  \n",
            "  inflating: dataset/tesla_model_y/images (61).jpg  \n",
            "  inflating: dataset/tesla_model_y/images (62).jpg  \n",
            "  inflating: dataset/tesla_model_y/images (63).jpg  \n",
            "  inflating: dataset/tesla_model_y/images (64).jpg  \n",
            "  inflating: dataset/tesla_model_y/images (65).jpg  \n",
            "  inflating: dataset/tesla_model_y/images (66).jpg  \n",
            "  inflating: dataset/tesla_model_y/images (67).jpg  \n",
            "  inflating: dataset/tesla_model_y/images (68).jpg  \n",
            "  inflating: dataset/tesla_model_y/images (69).jpg  \n",
            "  inflating: dataset/tesla_model_y/images (7).jpg  \n",
            "  inflating: dataset/tesla_model_y/images (70).jpg  \n",
            "  inflating: dataset/tesla_model_y/images (71).jpg  \n",
            "  inflating: dataset/tesla_model_y/images (72).jpg  \n",
            "  inflating: dataset/tesla_model_y/images (73).jpg  \n",
            "  inflating: dataset/tesla_model_y/images (74).jpg  \n",
            "  inflating: dataset/tesla_model_y/images (75).jpg  \n",
            "  inflating: dataset/tesla_model_y/images (76).jpg  \n",
            "  inflating: dataset/tesla_model_y/images (77).jpg  \n",
            "  inflating: dataset/tesla_model_y/images (78).jpg  \n",
            "  inflating: dataset/tesla_model_y/images (79).jpg  \n",
            "  inflating: dataset/tesla_model_y/images (8).jpg  \n",
            "  inflating: dataset/tesla_model_y/images (80).jpg  \n",
            "  inflating: dataset/tesla_model_y/images (81).jpg  \n",
            "  inflating: dataset/tesla_model_y/images (82).jpg  \n",
            "  inflating: dataset/tesla_model_y/images (83).jpg  \n",
            "  inflating: dataset/tesla_model_y/images (84).jpg  \n",
            "  inflating: dataset/tesla_model_y/images (85).jpg  \n",
            "  inflating: dataset/tesla_model_y/images (86).jpg  \n",
            "  inflating: dataset/tesla_model_y/images (87).jpg  \n",
            "  inflating: dataset/tesla_model_y/images (88).jpg  \n",
            "  inflating: dataset/tesla_model_y/images (89).jpg  \n",
            "  inflating: dataset/tesla_model_y/images (90).jpg  \n",
            "  inflating: dataset/tesla_model_y/images (91).jpg  \n",
            "  inflating: dataset/tesla_model_y/images (92).jpg  \n",
            "  inflating: dataset/tesla_model_y/images (93).jpg  \n",
            "  inflating: dataset/tesla_model_y/images (94).jpg  \n",
            "  inflating: dataset/tesla_model_y/images (95).jpg  \n",
            "  inflating: dataset/tesla_model_y/images (96).jpg  \n",
            "  inflating: dataset/tesla_model_y/images (97).jpg  \n",
            "  inflating: dataset/tesla_model_y/images (98).jpg  \n",
            "  inflating: dataset/tesla_model_y/images (99).jpg  \n",
            "  inflating: dataset/tesla_model_y/images - 2023-08-30T082138.731.jpg  \n",
            "  inflating: dataset/tesla_model_y/images - 2023-08-30T082138.797.jpg  \n",
            "  inflating: dataset/tesla_model_y/images - 2023-08-30T082138.911.jpg  \n",
            "  inflating: dataset/tesla_model_y/images - 2023-08-30T082139.228.jpg  \n",
            "  inflating: dataset/tesla_model_y/images - 2023-08-30T082139.671.jpg  \n",
            "  inflating: dataset/tesla_model_y/images - 2023-08-30T082139.822.jpg  \n",
            "  inflating: dataset/tesla_model_y/images - 2023-08-30T082139.873.jpg  \n",
            "  inflating: dataset/tesla_model_y/images - 2023-08-30T082139.934.jpg  \n",
            "  inflating: dataset/tesla_model_y/images - 2023-08-30T082140.147.jpg  \n",
            "  inflating: dataset/tesla_model_y/images - 2023-08-30T082140.196.jpg  \n",
            "  inflating: dataset/tesla_model_y/images - 2023-08-30T082140.680.jpg  \n",
            "  inflating: dataset/tesla_model_y/images - 2023-08-30T082141.406.jpg  \n",
            "  inflating: dataset/tesla_model_y/images - 2023-08-30T082141.481.jpg  \n",
            "  inflating: dataset/tesla_model_y/images - 2023-08-30T082141.529.jpg  \n",
            "  inflating: dataset/tesla_model_y/images - 2023-08-30T082141.674.jpg  \n",
            "  inflating: dataset/tesla_model_y/images - 2023-08-30T082141.736.jpg  \n",
            "  inflating: dataset/tesla_model_y/images - 2023-08-30T082143.120.jpg  \n",
            "  inflating: dataset/tesla_model_y/images - 2023-08-30T082143.431.jpg  \n",
            "  inflating: dataset/tesla_model_y/images - 2023-08-30T082143.528.jpg  \n",
            "  inflating: dataset/tesla_model_y/images - 2023-08-30T082143.655.jpg  \n",
            "  inflating: dataset/tesla_model_y/images - 2023-08-30T082143.740.jpg  \n",
            "  inflating: dataset/tesla_model_y/images - 2023-08-30T082143.890.jpg  \n",
            "  inflating: dataset/tesla_model_y/images - 2023-08-30T082144.046.jpg  \n",
            "  inflating: dataset/tesla_model_y/images - 2023-08-30T082144.476.jpg  \n",
            "  inflating: dataset/tesla_model_y/images - 2023-08-30T082144.681.jpg  \n",
            "  inflating: dataset/tesla_model_y/images - 2023-08-30T082145.029.jpg  \n",
            "  inflating: dataset/tesla_model_y/images - 2023-08-30T082145.122.jpg  \n",
            "  inflating: dataset/tesla_model_y/images - 2023-08-30T082145.229.jpg  \n",
            "  inflating: dataset/tesla_model_y/images - 2023-08-30T082145.354.jpg  \n",
            "  inflating: dataset/tesla_model_y/images - 2023-08-30T082145.560.jpg  \n",
            "  inflating: dataset/tesla_model_y/images - 2023-08-30T082145.653.jpg  \n",
            "  inflating: dataset/tesla_model_y/images - 2023-08-30T082146.423.jpg  \n",
            "  inflating: dataset/tesla_model_y/images - 2023-08-30T082146.554.jpg  \n",
            "  inflating: dataset/tesla_model_y/images - 2023-08-30T082146.917.jpg  \n",
            "  inflating: dataset/tesla_model_y/images - 2023-08-30T082147.091.jpg  \n",
            "  inflating: dataset/tesla_model_y/images - 2023-08-30T082147.163.jpg  \n",
            "  inflating: dataset/tesla_model_y/images - 2023-08-30T082147.456.jpg  \n",
            "  inflating: dataset/tesla_model_y/images - 2023-08-30T082147.525.jpg  \n",
            "  inflating: dataset/tesla_model_y/images - 2023-08-30T082147.882.jpg  \n",
            "  inflating: dataset/tesla_model_y/images - 2023-08-30T082148.090.jpg  \n",
            "  inflating: dataset/tesla_model_y/images - 2023-08-30T082148.349.jpg  \n",
            "  inflating: dataset/tesla_model_y/images - 2023-08-30T082148.412.jpg  \n",
            "  inflating: dataset/tesla_model_y/images - 2023-08-30T082148.517.jpg  \n",
            "  inflating: dataset/tesla_model_y/images - 2023-08-30T082148.600.jpg  \n",
            "  inflating: dataset/tesla_model_y/images - 2023-08-30T082148.811.jpg  \n",
            "  inflating: dataset/tesla_model_y/images - 2023-08-30T082149.802.jpg  \n",
            "  inflating: dataset/tesla_model_y/images - 2023-08-30T082149.962.jpg  \n",
            "  inflating: dataset/tesla_model_y/images - 2023-08-30T082150.193.jpg  \n",
            "  inflating: dataset/tesla_model_y/images - 2023-08-30T082150.465.jpg  \n",
            "  inflating: dataset/tesla_model_y/images - 2023-08-30T082150.623.jpg  \n",
            "  inflating: dataset/tesla_model_y/images - 2023-08-30T082151.228.jpg  \n",
            "  inflating: dataset/tesla_model_y/images - 2023-08-30T082151.280.jpg  \n",
            "  inflating: dataset/tesla_model_y/images - 2023-08-30T082151.373.jpg  \n",
            "  inflating: dataset/tesla_model_y/images - 2023-08-30T082151.647.jpg  \n",
            "  inflating: dataset/tesla_model_y/images - 2023-08-30T082151.722.jpg  \n",
            "  inflating: dataset/tesla_model_y/images - 2023-08-30T082151.878.jpg  \n",
            "  inflating: dataset/tesla_model_y/images - 2023-08-30T082152.163.jpg  \n",
            "  inflating: dataset/tesla_model_y/images - 2023-08-30T082152.916.jpg  \n",
            "  inflating: dataset/tesla_model_y/images - 2023-08-30T082153.114.jpg  \n",
            "  inflating: dataset/tesla_model_y/images - 2023-08-30T082153.194.jpg  \n",
            "  inflating: dataset/tesla_model_y/images - 2023-08-30T082153.282.jpg  \n",
            "  inflating: dataset/tesla_model_y/images - 2023-08-30T082153.351.jpg  \n",
            "  inflating: dataset/tesla_model_y/images - 2023-08-30T082153.407.jpg  \n",
            "  inflating: dataset/tesla_model_y/images - 2023-08-30T082153.554.jpg  \n",
            "  inflating: dataset/tesla_model_y/images - 2023-08-30T082153.855.jpg  \n",
            "  inflating: dataset/tesla_model_y/images - 2023-08-30T082154.119.jpg  \n",
            "  inflating: dataset/tesla_model_y/images - 2023-08-30T082154.466.jpg  \n",
            "  inflating: dataset/tesla_model_y/images - 2023-08-30T082154.603.jpg  \n",
            "  inflating: dataset/tesla_model_y/images - 2023-08-30T082154.849.jpg  \n",
            "  inflating: dataset/tesla_model_y/images - 2023-08-30T082154.978.jpg  \n",
            "  inflating: dataset/tesla_model_y/images - 2023-08-30T082155.207.jpg  \n",
            "  inflating: dataset/tesla_model_y/images - 2023-08-30T082155.273.jpg  \n",
            "  inflating: dataset/tesla_model_y/images - 2023-08-30T082155.395.jpg  \n",
            "  inflating: dataset/tesla_model_y/images - 2023-08-30T082155.505.jpg  \n",
            "  inflating: dataset/tesla_model_y/images - 2023-08-30T082155.623.jpg  \n",
            "  inflating: dataset/tesla_model_y/images - 2023-08-30T082155.807.jpg  \n",
            "  inflating: dataset/tesla_model_y/images - 2023-08-30T082156.105.jpg  \n",
            "  inflating: dataset/tesla_model_y/images - 2023-08-30T082156.422.jpg  \n",
            "  inflating: dataset/tesla_model_y/images - 2023-08-30T082156.658.jpg  \n",
            "  inflating: dataset/tesla_model_y/images - 2023-08-30T082156.735.jpg  \n",
            "  inflating: dataset/tesla_model_y/images - 2023-08-30T082156.794.jpg  \n",
            "  inflating: dataset/tesla_model_y/images - 2023-08-30T082156.864.jpg  \n",
            "  inflating: dataset/tesla_model_y/images - 2023-08-30T082156.947.jpg  \n",
            "  inflating: dataset/tesla_model_y/images - 2023-08-30T082157.180.jpg  \n",
            "  inflating: dataset/tesla_model_y/images - 2023-08-30T082158.181.jpg  \n",
            "  inflating: dataset/tesla_model_y/images - 2023-08-30T082158.248.jpg  \n",
            "  inflating: dataset/tesla_model_y/images - 2023-08-30T082158.388.jpg  \n",
            "  inflating: dataset/tesla_model_y/images - 2023-08-30T082158.445.jpg  \n",
            "  inflating: dataset/tesla_model_y/images - 2023-08-30T082158.511.jpg  \n",
            "  inflating: dataset/tesla_model_y/images - 2023-08-30T082158.566.jpg  \n",
            "  inflating: dataset/tesla_model_y/images - 2023-08-30T082158.696.jpg  \n",
            "  inflating: dataset/tesla_model_y/images - 2023-08-30T082159.371.jpg  \n",
            "  inflating: dataset/tesla_model_y/images - 2023-08-30T082159.497.jpg  \n",
            "  inflating: dataset/tesla_model_y/images - 2023-08-30T082159.627.jpg  \n",
            "  inflating: dataset/tesla_model_y/images.jpg  \n",
            "  inflating: dataset/tesla_model_y/IMG_3744.jpg  \n",
            "  inflating: dataset/tesla_model_y/ioniq-5-vs-model-y-2.jpg  \n",
            "  inflating: dataset/tesla_model_y/maxresdefault.jpg  \n",
            "  inflating: dataset/tesla_model_y/message-editor_1598449138182-guillaumefournierphotographe-gfp_7664.jpg  \n",
            "  inflating: dataset/tesla_model_y/Model-Y-Hero-2021.jpg  \n",
            "  inflating: dataset/tesla_model_y/model-y-performance-interior-scaled.jpg  \n",
            "  inflating: dataset/tesla_model_y/model-y-testing.jpg  \n",
            "  inflating: dataset/tesla_model_y/modelx.26b049e6ff1ca7700ef7.jpg  \n",
            "  inflating: dataset/tesla_model_y/safety-model-y-hero.png  \n",
            "  inflating: dataset/tesla_model_y/Tesla Model Y red B web.jpg  \n",
            "  inflating: dataset/tesla_model_y/tesla-lead-s.png  \n",
            "  inflating: dataset/tesla_model_y/tesla-model-3-model-y-comparo-horizontal-stack-102-649f0bf1f19b2.jpg  \n",
            "  inflating: dataset/tesla_model_y/tesla-model-y-01-zsoi.jpg  \n",
            "  inflating: dataset/tesla_model_y/tesla-model-y-2.jpg  \n",
            "  inflating: dataset/tesla_model_y/tesla-model-y-2022-01-blue-exterior-front-angle-sedan-scaled.jpg  \n",
            "  inflating: dataset/tesla_model_y/Tesla-Model-Y-and-Model-3-Components.jpg  \n",
            "  inflating: dataset/tesla_model_y/tesla-model-y-autumn.jpeg  \n",
            "  inflating: dataset/tesla_model_y/tesla-model-y-berlin-2022-01-min.png  \n",
            "  inflating: dataset/tesla_model_y/tesla-model-y-by-irmscher.jpg  \n",
            "  inflating: dataset/tesla_model_y/tesla-model-y-fahrbericht-christoph-m-schwarzer-2021-01-min.png  \n",
            "  inflating: dataset/tesla_model_y/tesla-model-y-home-charging.jpg  \n",
            "  inflating: dataset/tesla_model_y/tesla-model-y-in-new-quicksilver-paint-color.webp  \n",
            "  inflating: dataset/tesla_model_y/tesla-model-y-intro1.jpg  \n",
            "  inflating: dataset/tesla_model_y/Tesla-Model-Y-Pavilion.jpg  \n",
            "  inflating: dataset/tesla_model_y/Tesla-Model-Y-Performance-2022-13.jpg  \n",
            "  inflating: dataset/tesla_model_y/Tesla-moDEL-y-PERFORmance-2022-profil.jpg  \n",
            "  inflating: dataset/tesla_model_y/tesla-model-y-performance-mic-in-china---november-2021.jpg  \n",
            "  inflating: dataset/tesla_model_y/tesla-model-y-rwd-2023-01-cornering-frton.jpg  \n",
            "  inflating: dataset/tesla_model_y/tesla-model-y-top-speed-german-autobahn.jpg  \n",
            "  inflating: dataset/tesla_model_y/Tesla-Model-Y-white.jpg  \n",
            "  inflating: dataset/tesla_model_y/tesla-model-y-zubehor-885575_1200x1200.jpg  \n",
            "  inflating: dataset/tesla_model_y/Tesla_Model_Y-02.jpg  \n",
            "  inflating: dataset/tesla_model_y/TopGear - Tesla Model Y - 003.jpg  \n",
            "  inflating: dataset/tesla_model_y/TopGear - Tesla Model Y - 004.jpg  \n",
            "  inflating: dataset/tesla_model_y/TopGear - Tesla Model Y - 013.jpg  \n",
            "  inflating: dataset/tesla_model_y/US-TESLA-S-MODEL-Y-BECOMES-WORLD-S-BEST-SELLING-CA_1686713279740_1686713282880.jpg  \n",
            "  inflating: dataset/tesla_model_y/XXCZJK6QTRKHRI7BRULJDNUFCQ.jpg  \n",
            "  inflating: dataset/tesla_model_y/z1407teslaNOW_NSTfield_image_socialmedia.var_1689311461.jpg  \n"
          ]
        }
      ]
    },
    {
      "cell_type": "code",
      "source": [
        "import os\n",
        "import shutil\n",
        "import random\n",
        "\n",
        "# Set paths\n",
        "original_dataset_dir = \"dataset\"\n",
        "output_dir = \"dataset_split\"\n",
        "\n",
        "# Define split ratios\n",
        "train_ratio = 0.7\n",
        "val_ratio = 0.2\n",
        "test_ratio = 0.1\n",
        "\n",
        "# Create output directories\n",
        "for split in [\"train\", \"val\", \"test\"]:\n",
        "    for class_name in os.listdir(original_dataset_dir):\n",
        "        os.makedirs(os.path.join(output_dir, split, class_name), exist_ok=True)\n",
        "\n",
        "# Split and move images\n",
        "for class_name in os.listdir(original_dataset_dir):\n",
        "    class_path = os.path.join(original_dataset_dir, class_name)\n",
        "    images = os.listdir(class_path)\n",
        "    random.shuffle(images)\n",
        "\n",
        "    # Compute split indices\n",
        "    total = len(images)\n",
        "    train_idx = int(total * train_ratio)\n",
        "    val_idx = train_idx + int(total * val_ratio)\n",
        "\n",
        "    # Assign images\n",
        "    splits = {\n",
        "        \"train\": images[:train_idx],\n",
        "        \"val\": images[train_idx:val_idx],\n",
        "        \"test\": images[val_idx:]\n",
        "    }\n",
        "\n",
        "    # Move images\n",
        "    for split, img_list in splits.items():\n",
        "        for img in img_list:\n",
        "            src = os.path.join(class_path, img)\n",
        "            dst = os.path.join(output_dir, split, class_name, img)\n",
        "            shutil.move(src, dst)\n",
        "\n",
        "print(\"Dataset split successfully!\")\n"
      ],
      "metadata": {
        "colab": {
          "base_uri": "https://localhost:8080/"
        },
        "collapsed": true,
        "id": "jTHCHgziBbub",
        "outputId": "5a2decd4-9dfd-40f2-a341-cf7b0bb6a64f"
      },
      "execution_count": null,
      "outputs": [
        {
          "output_type": "stream",
          "name": "stdout",
          "text": [
            "Dataset split successfully!\n"
          ]
        }
      ]
    },
    {
      "cell_type": "code",
      "source": [
        "model = YOLO('/content/Toyota_classifier_YOLO.pt')\n",
        "\n",
        "# Train the classifier with optimized parameters\n",
        "model.train(\n",
        "    data=\"dataset_split\",    # Path to dataset\n",
        "    epochs=30,        # More epochs for better training\n",
        "    imgsz=256,        # Slightly larger image size\n",
        "    batch=32,         # Adjust based on GPU memory\n",
        "    optimizer=\"AdamW\", # Use AdamW for better weight updates\n",
        "    lr0=0.001,        # Initial learning rate\n",
        "    dropout=0.2,      # Dropout to prevent overfitting\n",
        "    patience=10,      # Early stopping if no improvement\n",
        "    workers=4,        # Number of CPU workers\n",
        "    device=\"cuda\"     # Use GPU for faster training\n",
        ")"
      ],
      "metadata": {
        "colab": {
          "base_uri": "https://localhost:8080/"
        },
        "collapsed": true,
        "id": "jUc9lNCWXaYs",
        "outputId": "6eaf8d32-bb26-4889-8313-053899418e3c"
      },
      "execution_count": null,
      "outputs": [
        {
          "output_type": "stream",
          "name": "stdout",
          "text": [
            "Ultralytics 8.3.99 🚀 Python-3.11.11 torch-2.6.0+cu124 CUDA:0 (Tesla T4, 15095MiB)\n",
            "\u001b[34m\u001b[1mengine/trainer: \u001b[0mtask=classify, mode=train, model=/content/Toyota_classifier_YOLO.pt, data=dataset_split, epochs=30, time=None, patience=10, batch=32, imgsz=256, save=True, save_period=-1, cache=False, device=cuda, workers=4, project=None, name=train, exist_ok=False, pretrained=True, optimizer=AdamW, verbose=True, seed=0, deterministic=True, single_cls=False, rect=False, cos_lr=False, close_mosaic=10, resume=False, amp=True, fraction=1.0, profile=False, freeze=None, multi_scale=False, overlap_mask=True, mask_ratio=4, dropout=0.2, val=True, split=val, save_json=False, save_hybrid=False, conf=None, iou=0.7, max_det=300, half=False, dnn=False, plots=True, source=None, vid_stride=1, stream_buffer=False, visualize=False, augment=False, agnostic_nms=False, classes=None, retina_masks=False, embed=None, show=False, save_frames=False, save_txt=False, save_conf=False, save_crop=False, show_labels=True, show_conf=True, show_boxes=True, line_width=None, format=torchscript, keras=False, optimize=False, int8=False, dynamic=False, simplify=True, opset=None, workspace=None, nms=False, lr0=0.001, lrf=0.01, momentum=0.937, weight_decay=0.0005, warmup_epochs=3.0, warmup_momentum=0.8, warmup_bias_lr=0.1, box=7.5, cls=0.5, dfl=1.5, pose=12.0, kobj=1.0, nbs=64, hsv_h=0.015, hsv_s=0.7, hsv_v=0.4, degrees=0.0, translate=0.1, scale=0.5, shear=0.0, perspective=0.0, flipud=0.0, fliplr=0.5, bgr=0.0, mosaic=1.0, mixup=0.0, copy_paste=0.0, copy_paste_mode=flip, auto_augment=randaugment, erasing=0.4, crop_fraction=1.0, cfg=None, tracker=botsort.yaml, save_dir=runs/classify/train\n",
            "\u001b[34m\u001b[1mtrain:\u001b[0m /content/dataset_split/train... found 952 images in 5 classes ✅ \n",
            "\u001b[34m\u001b[1mval:\u001b[0m /content/dataset_split/val... found 272 images in 5 classes ✅ \n",
            "\u001b[34m\u001b[1mtest:\u001b[0m /content/dataset_split/test... found 141 images in 5 classes ✅ \n",
            "Overriding model.yaml nc=22 with nc=5\n",
            "\n",
            "                   from  n    params  module                                       arguments                     \n",
            "  0                  -1  1       464  ultralytics.nn.modules.conv.Conv             [3, 16, 3, 2]                 \n",
            "  1                  -1  1      4672  ultralytics.nn.modules.conv.Conv             [16, 32, 3, 2]                \n",
            "  2                  -1  1      7360  ultralytics.nn.modules.block.C2f             [32, 32, 1, True]             \n",
            "  3                  -1  1     18560  ultralytics.nn.modules.conv.Conv             [32, 64, 3, 2]                \n",
            "  4                  -1  2     49664  ultralytics.nn.modules.block.C2f             [64, 64, 2, True]             \n",
            "  5                  -1  1     73984  ultralytics.nn.modules.conv.Conv             [64, 128, 3, 2]               \n",
            "  6                  -1  2    197632  ultralytics.nn.modules.block.C2f             [128, 128, 2, True]           \n",
            "  7                  -1  1    295424  ultralytics.nn.modules.conv.Conv             [128, 256, 3, 2]              \n",
            "  8                  -1  1    460288  ultralytics.nn.modules.block.C2f             [256, 256, 1, True]           \n",
            "  9                  -1  1    336645  ultralytics.nn.modules.head.Classify         [256, 5]                      \n",
            "YOLOv8n-cls summary: 56 layers, 1,444,693 parameters, 1,444,693 gradients, 3.4 GFLOPs\n",
            "Transferred 156/158 items from pretrained weights\n",
            "\u001b[34m\u001b[1mTensorBoard: \u001b[0mStart with 'tensorboard --logdir runs/classify/train', view at http://localhost:6006/\n",
            "\u001b[34m\u001b[1mAMP: \u001b[0mrunning Automatic Mixed Precision (AMP) checks...\n",
            "Downloading https://github.com/ultralytics/assets/releases/download/v8.3.0/yolo11n.pt to 'yolo11n.pt'...\n"
          ]
        },
        {
          "output_type": "stream",
          "name": "stderr",
          "text": [
            "100%|██████████| 5.35M/5.35M [00:00<00:00, 96.0MB/s]\n"
          ]
        },
        {
          "output_type": "stream",
          "name": "stdout",
          "text": [
            "\u001b[34m\u001b[1mAMP: \u001b[0mchecks passed ✅\n"
          ]
        },
        {
          "output_type": "stream",
          "name": "stderr",
          "text": [
            "\u001b[34m\u001b[1mtrain: \u001b[0mScanning /content/dataset_split/train... 952 images, 0 corrupt: 100%|██████████| 952/952 [00:00<00:00, 2606.79it/s]"
          ]
        },
        {
          "output_type": "stream",
          "name": "stdout",
          "text": [
            "\u001b[34m\u001b[1mtrain: \u001b[0mNew cache created: /content/dataset_split/train.cache\n"
          ]
        },
        {
          "output_type": "stream",
          "name": "stderr",
          "text": [
            "\n",
            "\u001b[34m\u001b[1mval: \u001b[0mScanning /content/dataset_split/val... 272 images, 0 corrupt: 100%|██████████| 272/272 [00:00<00:00, 2536.47it/s]"
          ]
        },
        {
          "output_type": "stream",
          "name": "stdout",
          "text": [
            "\u001b[34m\u001b[1mval: \u001b[0mWARNING ⚠️ /content/dataset_split/val/tesla_model_y/20190315013221_Tesla-model_y_front_34_blue.jpg: corrupt JPEG restored and saved\n",
            "\u001b[34m\u001b[1mval: \u001b[0mNew cache created: /content/dataset_split/val.cache\n"
          ]
        },
        {
          "output_type": "stream",
          "name": "stderr",
          "text": [
            "\n"
          ]
        },
        {
          "output_type": "stream",
          "name": "stdout",
          "text": [
            "\u001b[34m\u001b[1moptimizer:\u001b[0m AdamW(lr=0.001, momentum=0.937) with parameter groups 26 weight(decay=0.0), 27 weight(decay=0.0005), 27 bias(decay=0.0)\n",
            "\u001b[34m\u001b[1mTensorBoard: \u001b[0mmodel graph visualization added ✅\n",
            "Image sizes 256 train, 256 val\n",
            "Using 2 dataloader workers\n",
            "Logging results to \u001b[1mruns/classify/train\u001b[0m\n",
            "Starting training for 30 epochs...\n",
            "\n",
            "      Epoch    GPU_mem       loss  Instances       Size\n"
          ]
        },
        {
          "output_type": "stream",
          "name": "stderr",
          "text": [
            "       1/30     0.502G      1.862         32        256:   7%|▋         | 2/30 [00:01<00:17,  1.64it/s]"
          ]
        },
        {
          "output_type": "stream",
          "name": "stdout",
          "text": [
            "Downloading https://ultralytics.com/assets/Arial.ttf to '/root/.config/Ultralytics/Arial.ttf'...\n"
          ]
        },
        {
          "output_type": "stream",
          "name": "stderr",
          "text": [
            "       1/30     0.557G      1.939         32        256:  10%|█         | 3/30 [00:02<00:26,  1.02it/s]\n",
            "100%|██████████| 755k/755k [00:00<00:00, 19.0MB/s]\n",
            "       1/30     0.557G      1.515         24        256: 100%|██████████| 30/30 [00:17<00:00,  1.76it/s]\n",
            "               classes   top1_acc   top5_acc: 100%|██████████| 5/5 [00:01<00:00,  4.87it/s]"
          ]
        },
        {
          "output_type": "stream",
          "name": "stdout",
          "text": [
            "                   all       0.36          1\n"
          ]
        },
        {
          "output_type": "stream",
          "name": "stderr",
          "text": [
            "\n"
          ]
        },
        {
          "output_type": "stream",
          "name": "stdout",
          "text": [
            "\n",
            "      Epoch    GPU_mem       loss  Instances       Size\n"
          ]
        },
        {
          "output_type": "stream",
          "name": "stderr",
          "text": [
            "       2/30     0.695G      1.199         24        256: 100%|██████████| 30/30 [00:17<00:00,  1.70it/s]\n",
            "               classes   top1_acc   top5_acc: 100%|██████████| 5/5 [00:00<00:00,  5.07it/s]"
          ]
        },
        {
          "output_type": "stream",
          "name": "stdout",
          "text": [
            "                   all      0.449          1\n"
          ]
        },
        {
          "output_type": "stream",
          "name": "stderr",
          "text": [
            "\n"
          ]
        },
        {
          "output_type": "stream",
          "name": "stdout",
          "text": [
            "\n",
            "      Epoch    GPU_mem       loss  Instances       Size\n"
          ]
        },
        {
          "output_type": "stream",
          "name": "stderr",
          "text": [
            "       3/30     0.705G      1.041         24        256: 100%|██████████| 30/30 [00:16<00:00,  1.80it/s]\n",
            "               classes   top1_acc   top5_acc: 100%|██████████| 5/5 [00:00<00:00,  8.94it/s]"
          ]
        },
        {
          "output_type": "stream",
          "name": "stdout",
          "text": [
            "                   all      0.489          1\n"
          ]
        },
        {
          "output_type": "stream",
          "name": "stderr",
          "text": [
            "\n"
          ]
        },
        {
          "output_type": "stream",
          "name": "stdout",
          "text": [
            "\n",
            "      Epoch    GPU_mem       loss  Instances       Size\n"
          ]
        },
        {
          "output_type": "stream",
          "name": "stderr",
          "text": [
            "       4/30     0.713G     0.9477         24        256: 100%|██████████| 30/30 [00:17<00:00,  1.74it/s]\n",
            "               classes   top1_acc   top5_acc: 100%|██████████| 5/5 [00:00<00:00,  9.67it/s]"
          ]
        },
        {
          "output_type": "stream",
          "name": "stdout",
          "text": [
            "                   all      0.562          1\n"
          ]
        },
        {
          "output_type": "stream",
          "name": "stderr",
          "text": [
            "\n"
          ]
        },
        {
          "output_type": "stream",
          "name": "stdout",
          "text": [
            "\n",
            "      Epoch    GPU_mem       loss  Instances       Size\n"
          ]
        },
        {
          "output_type": "stream",
          "name": "stderr",
          "text": [
            "       5/30     0.719G     0.8029         24        256: 100%|██████████| 30/30 [00:17<00:00,  1.76it/s]\n",
            "               classes   top1_acc   top5_acc: 100%|██████████| 5/5 [00:00<00:00, 20.08it/s]"
          ]
        },
        {
          "output_type": "stream",
          "name": "stdout",
          "text": [
            "                   all      0.603          1\n"
          ]
        },
        {
          "output_type": "stream",
          "name": "stderr",
          "text": [
            "\n"
          ]
        },
        {
          "output_type": "stream",
          "name": "stdout",
          "text": [
            "\n",
            "      Epoch    GPU_mem       loss  Instances       Size\n"
          ]
        },
        {
          "output_type": "stream",
          "name": "stderr",
          "text": [
            "       6/30     0.729G     0.7644         24        256: 100%|██████████| 30/30 [00:18<00:00,  1.65it/s]\n",
            "               classes   top1_acc   top5_acc: 100%|██████████| 5/5 [00:00<00:00,  8.72it/s]"
          ]
        },
        {
          "output_type": "stream",
          "name": "stdout",
          "text": [
            "                   all      0.592          1\n"
          ]
        },
        {
          "output_type": "stream",
          "name": "stderr",
          "text": [
            "\n"
          ]
        },
        {
          "output_type": "stream",
          "name": "stdout",
          "text": [
            "\n",
            "      Epoch    GPU_mem       loss  Instances       Size\n"
          ]
        },
        {
          "output_type": "stream",
          "name": "stderr",
          "text": [
            "       7/30     0.736G     0.7244         24        256: 100%|██████████| 30/30 [00:16<00:00,  1.78it/s]\n",
            "               classes   top1_acc   top5_acc: 100%|██████████| 5/5 [00:00<00:00,  9.81it/s]"
          ]
        },
        {
          "output_type": "stream",
          "name": "stdout",
          "text": [
            "                   all      0.555          1\n"
          ]
        },
        {
          "output_type": "stream",
          "name": "stderr",
          "text": [
            "\n"
          ]
        },
        {
          "output_type": "stream",
          "name": "stdout",
          "text": [
            "\n",
            "      Epoch    GPU_mem       loss  Instances       Size\n"
          ]
        },
        {
          "output_type": "stream",
          "name": "stderr",
          "text": [
            "       8/30     0.744G     0.6486         24        256: 100%|██████████| 30/30 [00:18<00:00,  1.63it/s]\n",
            "               classes   top1_acc   top5_acc: 100%|██████████| 5/5 [00:00<00:00,  9.37it/s]"
          ]
        },
        {
          "output_type": "stream",
          "name": "stdout",
          "text": [
            "                   all      0.665          1\n"
          ]
        },
        {
          "output_type": "stream",
          "name": "stderr",
          "text": [
            "\n"
          ]
        },
        {
          "output_type": "stream",
          "name": "stdout",
          "text": [
            "\n",
            "      Epoch    GPU_mem       loss  Instances       Size\n"
          ]
        },
        {
          "output_type": "stream",
          "name": "stderr",
          "text": [
            "       9/30     0.754G     0.6142         24        256: 100%|██████████| 30/30 [00:17<00:00,  1.75it/s]\n",
            "               classes   top1_acc   top5_acc: 100%|██████████| 5/5 [00:00<00:00, 11.32it/s]"
          ]
        },
        {
          "output_type": "stream",
          "name": "stdout",
          "text": [
            "                   all      0.592          1\n"
          ]
        },
        {
          "output_type": "stream",
          "name": "stderr",
          "text": [
            "\n"
          ]
        },
        {
          "output_type": "stream",
          "name": "stdout",
          "text": [
            "\n",
            "      Epoch    GPU_mem       loss  Instances       Size\n"
          ]
        },
        {
          "output_type": "stream",
          "name": "stderr",
          "text": [
            "      10/30      0.76G     0.5466         24        256: 100%|██████████| 30/30 [00:17<00:00,  1.69it/s]\n",
            "               classes   top1_acc   top5_acc: 100%|██████████| 5/5 [00:00<00:00,  8.62it/s]"
          ]
        },
        {
          "output_type": "stream",
          "name": "stdout",
          "text": [
            "                   all      0.643          1\n"
          ]
        },
        {
          "output_type": "stream",
          "name": "stderr",
          "text": [
            "\n"
          ]
        },
        {
          "output_type": "stream",
          "name": "stdout",
          "text": [
            "\n",
            "      Epoch    GPU_mem       loss  Instances       Size\n"
          ]
        },
        {
          "output_type": "stream",
          "name": "stderr",
          "text": [
            "      11/30      0.77G     0.5383         24        256: 100%|██████████| 30/30 [00:16<00:00,  1.78it/s]\n",
            "               classes   top1_acc   top5_acc: 100%|██████████| 5/5 [00:00<00:00, 15.47it/s]"
          ]
        },
        {
          "output_type": "stream",
          "name": "stdout",
          "text": [
            "                   all      0.676          1\n"
          ]
        },
        {
          "output_type": "stream",
          "name": "stderr",
          "text": [
            "\n"
          ]
        },
        {
          "output_type": "stream",
          "name": "stdout",
          "text": [
            "\n",
            "      Epoch    GPU_mem       loss  Instances       Size\n"
          ]
        },
        {
          "output_type": "stream",
          "name": "stderr",
          "text": [
            "      12/30     0.777G     0.4705         24        256: 100%|██████████| 30/30 [00:17<00:00,  1.72it/s]\n",
            "               classes   top1_acc   top5_acc: 100%|██████████| 5/5 [00:00<00:00,  8.50it/s]"
          ]
        },
        {
          "output_type": "stream",
          "name": "stdout",
          "text": [
            "                   all      0.665          1\n"
          ]
        },
        {
          "output_type": "stream",
          "name": "stderr",
          "text": [
            "\n"
          ]
        },
        {
          "output_type": "stream",
          "name": "stdout",
          "text": [
            "\n",
            "      Epoch    GPU_mem       loss  Instances       Size\n"
          ]
        },
        {
          "output_type": "stream",
          "name": "stderr",
          "text": [
            "      13/30     0.785G      0.461         24        256: 100%|██████████| 30/30 [00:17<00:00,  1.70it/s]\n",
            "               classes   top1_acc   top5_acc: 100%|██████████| 5/5 [00:00<00:00,  9.06it/s]"
          ]
        },
        {
          "output_type": "stream",
          "name": "stdout",
          "text": [
            "                   all      0.662          1\n"
          ]
        },
        {
          "output_type": "stream",
          "name": "stderr",
          "text": [
            "\n"
          ]
        },
        {
          "output_type": "stream",
          "name": "stdout",
          "text": [
            "\n",
            "      Epoch    GPU_mem       loss  Instances       Size\n"
          ]
        },
        {
          "output_type": "stream",
          "name": "stderr",
          "text": [
            "      14/30     0.795G     0.4338         24        256: 100%|██████████| 30/30 [00:17<00:00,  1.71it/s]\n",
            "               classes   top1_acc   top5_acc: 100%|██████████| 5/5 [00:00<00:00,  9.30it/s]"
          ]
        },
        {
          "output_type": "stream",
          "name": "stdout",
          "text": [
            "                   all      0.665          1\n"
          ]
        },
        {
          "output_type": "stream",
          "name": "stderr",
          "text": [
            "\n"
          ]
        },
        {
          "output_type": "stream",
          "name": "stdout",
          "text": [
            "\n",
            "      Epoch    GPU_mem       loss  Instances       Size\n"
          ]
        },
        {
          "output_type": "stream",
          "name": "stderr",
          "text": [
            "      15/30     0.803G     0.4454         24        256: 100%|██████████| 30/30 [00:17<00:00,  1.70it/s]\n",
            "               classes   top1_acc   top5_acc: 100%|██████████| 5/5 [00:00<00:00,  5.72it/s]"
          ]
        },
        {
          "output_type": "stream",
          "name": "stdout",
          "text": [
            "                   all      0.676          1\n"
          ]
        },
        {
          "output_type": "stream",
          "name": "stderr",
          "text": [
            "\n"
          ]
        },
        {
          "output_type": "stream",
          "name": "stdout",
          "text": [
            "\n",
            "      Epoch    GPU_mem       loss  Instances       Size\n"
          ]
        },
        {
          "output_type": "stream",
          "name": "stderr",
          "text": [
            "      16/30     0.809G      0.377         24        256: 100%|██████████| 30/30 [00:16<00:00,  1.81it/s]\n",
            "               classes   top1_acc   top5_acc: 100%|██████████| 5/5 [00:00<00:00,  9.98it/s]"
          ]
        },
        {
          "output_type": "stream",
          "name": "stdout",
          "text": [
            "                   all      0.691          1\n"
          ]
        },
        {
          "output_type": "stream",
          "name": "stderr",
          "text": [
            "\n"
          ]
        },
        {
          "output_type": "stream",
          "name": "stdout",
          "text": [
            "\n",
            "      Epoch    GPU_mem       loss  Instances       Size\n"
          ]
        },
        {
          "output_type": "stream",
          "name": "stderr",
          "text": [
            "      17/30     0.818G      0.397         24        256: 100%|██████████| 30/30 [00:17<00:00,  1.74it/s]\n",
            "               classes   top1_acc   top5_acc: 100%|██████████| 5/5 [00:00<00:00,  7.09it/s]"
          ]
        },
        {
          "output_type": "stream",
          "name": "stdout",
          "text": [
            "                   all       0.68          1\n"
          ]
        },
        {
          "output_type": "stream",
          "name": "stderr",
          "text": [
            "\n"
          ]
        },
        {
          "output_type": "stream",
          "name": "stdout",
          "text": [
            "\n",
            "      Epoch    GPU_mem       loss  Instances       Size\n"
          ]
        },
        {
          "output_type": "stream",
          "name": "stderr",
          "text": [
            "      18/30     0.826G     0.3529         24        256: 100%|██████████| 30/30 [00:16<00:00,  1.85it/s]\n",
            "               classes   top1_acc   top5_acc: 100%|██████████| 5/5 [00:00<00:00, 15.90it/s]"
          ]
        },
        {
          "output_type": "stream",
          "name": "stdout",
          "text": [
            "                   all      0.665          1\n"
          ]
        },
        {
          "output_type": "stream",
          "name": "stderr",
          "text": [
            "\n"
          ]
        },
        {
          "output_type": "stream",
          "name": "stdout",
          "text": [
            "\n",
            "      Epoch    GPU_mem       loss  Instances       Size\n"
          ]
        },
        {
          "output_type": "stream",
          "name": "stderr",
          "text": [
            "      19/30     0.834G     0.3663         24        256: 100%|██████████| 30/30 [00:15<00:00,  1.93it/s]\n",
            "               classes   top1_acc   top5_acc: 100%|██████████| 5/5 [00:01<00:00,  2.67it/s]"
          ]
        },
        {
          "output_type": "stream",
          "name": "stdout",
          "text": [
            "                   all      0.688          1\n"
          ]
        },
        {
          "output_type": "stream",
          "name": "stderr",
          "text": [
            "\n"
          ]
        },
        {
          "output_type": "stream",
          "name": "stdout",
          "text": [
            "\n",
            "      Epoch    GPU_mem       loss  Instances       Size\n"
          ]
        },
        {
          "output_type": "stream",
          "name": "stderr",
          "text": [
            "      20/30     0.844G     0.3269         24        256: 100%|██████████| 30/30 [00:16<00:00,  1.80it/s]\n",
            "               classes   top1_acc   top5_acc: 100%|██████████| 5/5 [00:01<00:00,  3.24it/s]"
          ]
        },
        {
          "output_type": "stream",
          "name": "stdout",
          "text": [
            "                   all      0.673          1\n"
          ]
        },
        {
          "output_type": "stream",
          "name": "stderr",
          "text": [
            "\n"
          ]
        },
        {
          "output_type": "stream",
          "name": "stdout",
          "text": [
            "\n",
            "      Epoch    GPU_mem       loss  Instances       Size\n"
          ]
        },
        {
          "output_type": "stream",
          "name": "stderr",
          "text": [
            "      21/30      0.85G     0.3067         24        256: 100%|██████████| 30/30 [00:16<00:00,  1.86it/s]\n",
            "               classes   top1_acc   top5_acc: 100%|██████████| 5/5 [00:00<00:00,  6.13it/s]"
          ]
        },
        {
          "output_type": "stream",
          "name": "stdout",
          "text": [
            "                   all      0.699          1\n"
          ]
        },
        {
          "output_type": "stream",
          "name": "stderr",
          "text": [
            "\n"
          ]
        },
        {
          "output_type": "stream",
          "name": "stdout",
          "text": [
            "\n",
            "      Epoch    GPU_mem       loss  Instances       Size\n"
          ]
        },
        {
          "output_type": "stream",
          "name": "stderr",
          "text": [
            "      22/30     0.859G     0.2985         24        256: 100%|██████████| 30/30 [00:17<00:00,  1.74it/s]\n",
            "               classes   top1_acc   top5_acc: 100%|██████████| 5/5 [00:01<00:00,  4.96it/s]"
          ]
        },
        {
          "output_type": "stream",
          "name": "stdout",
          "text": [
            "                   all      0.702          1\n"
          ]
        },
        {
          "output_type": "stream",
          "name": "stderr",
          "text": [
            "\n"
          ]
        },
        {
          "output_type": "stream",
          "name": "stdout",
          "text": [
            "\n",
            "      Epoch    GPU_mem       loss  Instances       Size\n"
          ]
        },
        {
          "output_type": "stream",
          "name": "stderr",
          "text": [
            "      23/30     0.867G     0.3014         24        256: 100%|██████████| 30/30 [00:16<00:00,  1.81it/s]\n",
            "               classes   top1_acc   top5_acc: 100%|██████████| 5/5 [00:00<00:00,  7.31it/s]"
          ]
        },
        {
          "output_type": "stream",
          "name": "stdout",
          "text": [
            "                   all      0.695          1\n"
          ]
        },
        {
          "output_type": "stream",
          "name": "stderr",
          "text": [
            "\n"
          ]
        },
        {
          "output_type": "stream",
          "name": "stdout",
          "text": [
            "\n",
            "      Epoch    GPU_mem       loss  Instances       Size\n"
          ]
        },
        {
          "output_type": "stream",
          "name": "stderr",
          "text": [
            "      24/30     0.875G     0.3024         24        256: 100%|██████████| 30/30 [00:18<00:00,  1.61it/s]\n",
            "               classes   top1_acc   top5_acc: 100%|██████████| 5/5 [00:00<00:00,  5.99it/s]"
          ]
        },
        {
          "output_type": "stream",
          "name": "stdout",
          "text": [
            "                   all      0.695          1\n"
          ]
        },
        {
          "output_type": "stream",
          "name": "stderr",
          "text": [
            "\n"
          ]
        },
        {
          "output_type": "stream",
          "name": "stdout",
          "text": [
            "\n",
            "      Epoch    GPU_mem       loss  Instances       Size\n"
          ]
        },
        {
          "output_type": "stream",
          "name": "stderr",
          "text": [
            "      25/30     0.885G      0.311         24        256: 100%|██████████| 30/30 [00:16<00:00,  1.85it/s]\n",
            "               classes   top1_acc   top5_acc: 100%|██████████| 5/5 [00:00<00:00,  6.30it/s]"
          ]
        },
        {
          "output_type": "stream",
          "name": "stdout",
          "text": [
            "                   all      0.676          1\n"
          ]
        },
        {
          "output_type": "stream",
          "name": "stderr",
          "text": [
            "\n"
          ]
        },
        {
          "output_type": "stream",
          "name": "stdout",
          "text": [
            "\n",
            "      Epoch    GPU_mem       loss  Instances       Size\n"
          ]
        },
        {
          "output_type": "stream",
          "name": "stderr",
          "text": [
            "      26/30     0.893G     0.2808         24        256: 100%|██████████| 30/30 [00:17<00:00,  1.68it/s]\n",
            "               classes   top1_acc   top5_acc: 100%|██████████| 5/5 [00:00<00:00,  7.23it/s]"
          ]
        },
        {
          "output_type": "stream",
          "name": "stdout",
          "text": [
            "                   all      0.702          1\n"
          ]
        },
        {
          "output_type": "stream",
          "name": "stderr",
          "text": [
            "\n"
          ]
        },
        {
          "output_type": "stream",
          "name": "stdout",
          "text": [
            "\n",
            "      Epoch    GPU_mem       loss  Instances       Size\n"
          ]
        },
        {
          "output_type": "stream",
          "name": "stderr",
          "text": [
            "      27/30     0.898G     0.2649         24        256: 100%|██████████| 30/30 [00:16<00:00,  1.81it/s]\n",
            "               classes   top1_acc   top5_acc: 100%|██████████| 5/5 [00:00<00:00,  6.83it/s]"
          ]
        },
        {
          "output_type": "stream",
          "name": "stdout",
          "text": [
            "                   all      0.691          1\n"
          ]
        },
        {
          "output_type": "stream",
          "name": "stderr",
          "text": [
            "\n"
          ]
        },
        {
          "output_type": "stream",
          "name": "stdout",
          "text": [
            "\n",
            "      Epoch    GPU_mem       loss  Instances       Size\n"
          ]
        },
        {
          "output_type": "stream",
          "name": "stderr",
          "text": [
            "      28/30     0.908G     0.2637         24        256: 100%|██████████| 30/30 [00:16<00:00,  1.79it/s]\n",
            "               classes   top1_acc   top5_acc: 100%|██████████| 5/5 [00:01<00:00,  3.99it/s]"
          ]
        },
        {
          "output_type": "stream",
          "name": "stdout",
          "text": [
            "                   all      0.699          1\n"
          ]
        },
        {
          "output_type": "stream",
          "name": "stderr",
          "text": [
            "\n"
          ]
        },
        {
          "output_type": "stream",
          "name": "stdout",
          "text": [
            "\n",
            "      Epoch    GPU_mem       loss  Instances       Size\n"
          ]
        },
        {
          "output_type": "stream",
          "name": "stderr",
          "text": [
            "      29/30     0.916G     0.2513         24        256: 100%|██████████| 30/30 [00:18<00:00,  1.67it/s]\n",
            "               classes   top1_acc   top5_acc: 100%|██████████| 5/5 [00:00<00:00, 14.27it/s]"
          ]
        },
        {
          "output_type": "stream",
          "name": "stdout",
          "text": [
            "                   all      0.702          1\n"
          ]
        },
        {
          "output_type": "stream",
          "name": "stderr",
          "text": [
            "\n"
          ]
        },
        {
          "output_type": "stream",
          "name": "stdout",
          "text": [
            "\n",
            "      Epoch    GPU_mem       loss  Instances       Size\n"
          ]
        },
        {
          "output_type": "stream",
          "name": "stderr",
          "text": [
            "      30/30     0.924G     0.2636         24        256: 100%|██████████| 30/30 [00:16<00:00,  1.81it/s]\n",
            "               classes   top1_acc   top5_acc: 100%|██████████| 5/5 [00:00<00:00,  5.46it/s]"
          ]
        },
        {
          "output_type": "stream",
          "name": "stdout",
          "text": [
            "                   all      0.706          1\n"
          ]
        },
        {
          "output_type": "stream",
          "name": "stderr",
          "text": [
            "\n"
          ]
        },
        {
          "output_type": "stream",
          "name": "stdout",
          "text": [
            "\n",
            "30 epochs completed in 0.155 hours.\n",
            "Optimizer stripped from runs/classify/train/weights/last.pt, 3.0MB\n",
            "Optimizer stripped from runs/classify/train/weights/best.pt, 3.0MB\n",
            "\n",
            "Validating runs/classify/train/weights/best.pt...\n",
            "Ultralytics 8.3.99 🚀 Python-3.11.11 torch-2.6.0+cu124 CUDA:0 (Tesla T4, 15095MiB)\n",
            "YOLOv8n-cls summary (fused): 30 layers, 1,441,285 parameters, 0 gradients, 3.3 GFLOPs\n",
            "\u001b[34m\u001b[1mtrain:\u001b[0m /content/dataset_split/train... found 952 images in 5 classes ✅ \n",
            "\u001b[34m\u001b[1mval:\u001b[0m /content/dataset_split/val... found 272 images in 5 classes ✅ \n",
            "\u001b[34m\u001b[1mtest:\u001b[0m /content/dataset_split/test... found 141 images in 5 classes ✅ \n"
          ]
        },
        {
          "output_type": "stream",
          "name": "stderr",
          "text": [
            "               classes   top1_acc   top5_acc: 100%|██████████| 5/5 [00:03<00:00,  1.29it/s]\n"
          ]
        },
        {
          "output_type": "stream",
          "name": "stdout",
          "text": [
            "                   all      0.702          1\n",
            "Speed: 0.1ms preprocess, 0.3ms inference, 0.0ms loss, 0.0ms postprocess per image\n",
            "Results saved to \u001b[1mruns/classify/train\u001b[0m\n"
          ]
        },
        {
          "output_type": "execute_result",
          "data": {
            "text/plain": [
              "ultralytics.utils.metrics.ClassifyMetrics object with attributes:\n",
              "\n",
              "confusion_matrix: <ultralytics.utils.metrics.ConfusionMatrix object at 0x7ecd14364ed0>\n",
              "curves: []\n",
              "curves_results: []\n",
              "fitness: 0.8511029481887817\n",
              "keys: ['metrics/accuracy_top1', 'metrics/accuracy_top5']\n",
              "results_dict: {'metrics/accuracy_top1': 0.7022058963775635, 'metrics/accuracy_top5': 1.0, 'fitness': 0.8511029481887817}\n",
              "save_dir: PosixPath('runs/classify/train')\n",
              "speed: {'preprocess': 0.08849845955898458, 'inference': 0.2893161617650134, 'loss': 0.00022338970621028827, 'postprocess': 0.00038033823599067435}\n",
              "task: 'classify'\n",
              "top1: 0.7022058963775635\n",
              "top5: 1.0"
            ]
          },
          "metadata": {},
          "execution_count": 5
        }
      ]
    },
    {
      "cell_type": "code",
      "source": [
        "# prompt: save yolo model\n",
        "\n",
        "# Save the trained model\n",
        "model.export() # You can change the format if needed (e.g., torchscript)\n"
      ],
      "metadata": {
        "colab": {
          "base_uri": "https://localhost:8080/",
          "height": 281
        },
        "id": "lBSMCTVVLLQm",
        "outputId": "bd836a48-f0db-4ec6-8a29-1502946644fd"
      },
      "execution_count": null,
      "outputs": [
        {
          "output_type": "stream",
          "name": "stdout",
          "text": [
            "Ultralytics 8.3.99 🚀 Python-3.11.11 torch-2.6.0+cu124 CPU (Intel Xeon 2.00GHz)\n",
            "YOLOv8n-cls summary (fused): 30 layers, 1,441,285 parameters, 0 gradients, 3.3 GFLOPs\n",
            "\n",
            "\u001b[34m\u001b[1mPyTorch:\u001b[0m starting from 'runs/classify/train/weights/best.pt' with input shape (1, 3, 256, 256) BCHW and output shape(s) (1, 5) (2.8 MB)\n",
            "\n",
            "\u001b[34m\u001b[1mTorchScript:\u001b[0m starting export with torch 2.6.0+cu124...\n",
            "\u001b[34m\u001b[1mTorchScript:\u001b[0m export success ✅ 1.2s, saved as 'runs/classify/train/weights/best.torchscript' (5.6 MB)\n",
            "\n",
            "Export complete (2.8s)\n",
            "Results saved to \u001b[1m/content/runs/classify/train/weights\u001b[0m\n",
            "Predict:         yolo predict task=classify model=runs/classify/train/weights/best.torchscript imgsz=256  \n",
            "Validate:        yolo val task=classify model=runs/classify/train/weights/best.torchscript imgsz=256 data=dataset_split  \n",
            "Visualize:       https://netron.app\n"
          ]
        },
        {
          "output_type": "execute_result",
          "data": {
            "text/plain": [
              "'runs/classify/train/weights/best.torchscript'"
            ],
            "application/vnd.google.colaboratory.intrinsic+json": {
              "type": "string"
            }
          },
          "metadata": {},
          "execution_count": 6
        }
      ]
    },
    {
      "cell_type": "code",
      "source": [
        "# prompt: download saved model locally\n",
        "\n",
        "from google.colab import files\n",
        "files.download('/content/runs/detect/train/weights/best.pt')\n"
      ],
      "metadata": {
        "colab": {
          "base_uri": "https://localhost:8080/",
          "height": 297
        },
        "id": "SyCzeO3bePMy",
        "outputId": "27f73e53-ea76-4f1b-fb41-d9aea3d29c7b"
      },
      "execution_count": null,
      "outputs": [
        {
          "output_type": "error",
          "ename": "FileNotFoundError",
          "evalue": "Cannot find file: /content/runs/detect/train/weights/best.pt",
          "traceback": [
            "\u001b[0;31m---------------------------------------------------------------------------\u001b[0m",
            "\u001b[0;31mFileNotFoundError\u001b[0m                         Traceback (most recent call last)",
            "\u001b[0;32m<ipython-input-7-fd92f2378cdb>\u001b[0m in \u001b[0;36m<cell line: 0>\u001b[0;34m()\u001b[0m\n\u001b[1;32m      2\u001b[0m \u001b[0;34m\u001b[0m\u001b[0m\n\u001b[1;32m      3\u001b[0m \u001b[0;32mfrom\u001b[0m \u001b[0mgoogle\u001b[0m\u001b[0;34m.\u001b[0m\u001b[0mcolab\u001b[0m \u001b[0;32mimport\u001b[0m \u001b[0mfiles\u001b[0m\u001b[0;34m\u001b[0m\u001b[0;34m\u001b[0m\u001b[0m\n\u001b[0;32m----> 4\u001b[0;31m \u001b[0mfiles\u001b[0m\u001b[0;34m.\u001b[0m\u001b[0mdownload\u001b[0m\u001b[0;34m(\u001b[0m\u001b[0;34m'/content/runs/detect/train/weights/best.pt'\u001b[0m\u001b[0;34m)\u001b[0m\u001b[0;34m\u001b[0m\u001b[0;34m\u001b[0m\u001b[0m\n\u001b[0m",
            "\u001b[0;32m/usr/local/lib/python3.11/dist-packages/google/colab/files.py\u001b[0m in \u001b[0;36mdownload\u001b[0;34m(filename)\u001b[0m\n\u001b[1;32m    231\u001b[0m   \u001b[0;32mif\u001b[0m \u001b[0;32mnot\u001b[0m \u001b[0m_os\u001b[0m\u001b[0;34m.\u001b[0m\u001b[0mpath\u001b[0m\u001b[0;34m.\u001b[0m\u001b[0mexists\u001b[0m\u001b[0;34m(\u001b[0m\u001b[0mfilename\u001b[0m\u001b[0;34m)\u001b[0m\u001b[0;34m:\u001b[0m\u001b[0;34m\u001b[0m\u001b[0;34m\u001b[0m\u001b[0m\n\u001b[1;32m    232\u001b[0m     \u001b[0mmsg\u001b[0m \u001b[0;34m=\u001b[0m \u001b[0;34m'Cannot find file: {}'\u001b[0m\u001b[0;34m.\u001b[0m\u001b[0mformat\u001b[0m\u001b[0;34m(\u001b[0m\u001b[0mfilename\u001b[0m\u001b[0;34m)\u001b[0m\u001b[0;34m\u001b[0m\u001b[0;34m\u001b[0m\u001b[0m\n\u001b[0;32m--> 233\u001b[0;31m     \u001b[0;32mraise\u001b[0m \u001b[0mFileNotFoundError\u001b[0m\u001b[0;34m(\u001b[0m\u001b[0mmsg\u001b[0m\u001b[0;34m)\u001b[0m  \u001b[0;31m# pylint: disable=undefined-variable\u001b[0m\u001b[0;34m\u001b[0m\u001b[0;34m\u001b[0m\u001b[0m\n\u001b[0m\u001b[1;32m    234\u001b[0m \u001b[0;34m\u001b[0m\u001b[0m\n\u001b[1;32m    235\u001b[0m   \u001b[0mcomm_manager\u001b[0m \u001b[0;34m=\u001b[0m \u001b[0m_IPython\u001b[0m\u001b[0;34m.\u001b[0m\u001b[0mget_ipython\u001b[0m\u001b[0;34m(\u001b[0m\u001b[0;34m)\u001b[0m\u001b[0;34m.\u001b[0m\u001b[0mkernel\u001b[0m\u001b[0;34m.\u001b[0m\u001b[0mcomm_manager\u001b[0m\u001b[0;34m\u001b[0m\u001b[0;34m\u001b[0m\u001b[0m\n",
            "\u001b[0;31mFileNotFoundError\u001b[0m: Cannot find file: /content/runs/detect/train/weights/best.pt"
          ]
        }
      ]
    },
    {
      "cell_type": "code",
      "source": [
        "# Validate the model\n",
        "metrics = model.val()\n",
        "print(metrics)\n",
        "\n",
        "# Run inference\n",
        "results = model(\"/content/Screenshot 2025-03-31 202548.png\")\n",
        "print(results)"
      ],
      "metadata": {
        "colab": {
          "base_uri": "https://localhost:8080/"
        },
        "collapsed": true,
        "id": "1ti18T4bKcIi",
        "outputId": "dfc7aee1-f979-4039-ef6e-546ad1017698"
      },
      "execution_count": null,
      "outputs": [
        {
          "output_type": "stream",
          "name": "stdout",
          "text": [
            "Ultralytics 8.3.99 🚀 Python-3.11.11 torch-2.6.0+cu124 CUDA:0 (Tesla T4, 15095MiB)\n",
            "\u001b[34m\u001b[1mtrain:\u001b[0m /content/dataset_split/train... found 3459 images in 22 classes ✅ \n",
            "\u001b[34m\u001b[1mval:\u001b[0m /content/dataset_split/val... found 981 images in 22 classes ✅ \n",
            "\u001b[34m\u001b[1mtest:\u001b[0m /content/dataset_split/test... found 515 images in 22 classes ✅ \n"
          ]
        },
        {
          "output_type": "stream",
          "name": "stderr",
          "text": [
            "\u001b[34m\u001b[1mval: \u001b[0mScanning /content/dataset_split/val... 980 images, 1 corrupt: 100%|██████████| 980/980 [00:00<?, ?it/s]"
          ]
        },
        {
          "output_type": "stream",
          "name": "stdout",
          "text": [
            "\u001b[34m\u001b[1mval: \u001b[0mWARNING ⚠️ /content/dataset_split/val/toyota_land cruiser/front_2022_Image_39.jpg: ignoring corrupt image/label: image size (4, 10) <10 pixels\n"
          ]
        },
        {
          "output_type": "stream",
          "name": "stderr",
          "text": [
            "\n",
            "               classes   top1_acc   top5_acc: 100%|██████████| 31/31 [00:12<00:00,  2.47it/s]\n"
          ]
        },
        {
          "output_type": "stream",
          "name": "stdout",
          "text": [
            "                   all       0.89      0.985\n",
            "Speed: 0.3ms preprocess, 0.5ms inference, 0.0ms loss, 0.0ms postprocess per image\n",
            "Results saved to \u001b[1mruns/classify/train23\u001b[0m\n",
            "ultralytics.utils.metrics.ClassifyMetrics object with attributes:\n",
            "\n",
            "confusion_matrix: <ultralytics.utils.metrics.ConfusionMatrix object at 0x7b5bbc1ea350>\n",
            "curves: []\n",
            "curves_results: []\n",
            "fitness: 0.9372448921203613\n",
            "keys: ['metrics/accuracy_top1', 'metrics/accuracy_top5']\n",
            "results_dict: {'metrics/accuracy_top1': 0.8897958993911743, 'metrics/accuracy_top5': 0.9846938848495483, 'fitness': 0.9372448921203613}\n",
            "save_dir: PosixPath('runs/classify/train23')\n",
            "speed: {'preprocess': 0.27416792142818797, 'inference': 0.47880068367174655, 'loss': 0.0005527510215963085, 'postprocess': 0.0008914173470341722}\n",
            "task: 'classify'\n",
            "top1: 0.8897958993911743\n",
            "top5: 0.9846938848495483\n",
            "\n",
            "image 1/1 /content/Screenshot 2025-03-31 202548.png: 256x256 toyota_hilux 0.92, toyota_land cruiser 0.04, toyota_fortuner 0.02, toyota_tamaraw 0.01, toyota_liteace 0.01, 3.6ms\n",
            "Speed: 24.5ms preprocess, 3.6ms inference, 0.1ms postprocess per image at shape (1, 3, 256, 256)\n",
            "[ultralytics.engine.results.Results object with attributes:\n",
            "\n",
            "boxes: None\n",
            "keypoints: None\n",
            "masks: None\n",
            "names: {0: 'toyota_alphard', 1: 'toyota_avanza', 2: 'toyota_camry', 3: 'toyota_coaster', 4: 'toyota_corolla altis', 5: 'toyota_corolla cross', 6: 'toyota_fortuner', 7: 'toyota_gr supra', 8: 'toyota_gr yaris', 9: 'toyota_hiace', 10: 'toyota_hilux', 11: 'toyota_innova', 12: 'toyota_land cruiser', 13: 'toyota_liteace', 14: 'toyota_raize', 15: 'toyota_rav4', 16: 'toyota_rush', 17: 'toyota_tamaraw', 18: 'toyota_veloz', 19: 'toyota_vios', 20: 'toyota_wigo', 21: 'toyota_yaris cross'}\n",
            "obb: None\n",
            "orig_img: array([[[ 68,  86,  97],\n",
            "        [ 69,  80,  88],\n",
            "        [ 39,  45,  49],\n",
            "        ...,\n",
            "        [ 18,  29,  21],\n",
            "        [ 23,  36,  28],\n",
            "        [ 30,  43,  35]],\n",
            "\n",
            "       [[ 70,  96, 103],\n",
            "        [ 67,  83,  90],\n",
            "        [ 40,  45,  50],\n",
            "        ...,\n",
            "        [ 21,  32,  24],\n",
            "        [ 31,  44,  36],\n",
            "        [ 38,  50,  43]],\n",
            "\n",
            "       [[ 67,  99, 104],\n",
            "        [ 62,  84,  89],\n",
            "        [ 35,  45,  49],\n",
            "        ...,\n",
            "        [ 24,  37,  29],\n",
            "        [ 38,  50,  43],\n",
            "        [ 36,  48,  41]],\n",
            "\n",
            "       ...,\n",
            "\n",
            "       [[152, 154, 155],\n",
            "        [153, 155, 156],\n",
            "        [153, 152, 154],\n",
            "        ...,\n",
            "        [152, 154, 155],\n",
            "        [152, 154, 155],\n",
            "        [152, 154, 155]],\n",
            "\n",
            "       [[151, 155, 156],\n",
            "        [150, 154, 155],\n",
            "        [150, 154, 155],\n",
            "        ...,\n",
            "        [152, 156, 157],\n",
            "        [152, 156, 157],\n",
            "        [152, 156, 157]],\n",
            "\n",
            "       [[150, 154, 155],\n",
            "        [150, 154, 155],\n",
            "        [152, 156, 157],\n",
            "        ...,\n",
            "        [155, 159, 160],\n",
            "        [154, 158, 159],\n",
            "        [153, 157, 158]]], dtype=uint8)\n",
            "orig_shape: (410, 440)\n",
            "path: '/content/Screenshot 2025-03-31 202548.png'\n",
            "probs: ultralytics.engine.results.Probs object\n",
            "save_dir: 'runs/classify/train24'\n",
            "speed: {'preprocess': 24.457436999909987, 'inference': 3.6080939999010297, 'postprocess': 0.09820800005400088}]\n"
          ]
        }
      ]
    },
    {
      "cell_type": "code",
      "source": [
        "import torch\n",
        "import matplotlib.pyplot as plt\n",
        "import cv2\n",
        "from ultralytics import YOLO\n",
        "\n",
        "# Load trained YOLO classification model\n",
        "model = YOLO(\"/content/runs/classify/train2/weights/best.pt\")  # Replace with your trained model\n",
        "\n",
        "# Path to the test image\n",
        "image_path = \"/content/Screenshot 2025-03-31 203049.png\"\n",
        "\n",
        "# Perform classification on the image\n",
        "results = model(image_path)  # YOLO classifier returns a list of results\n",
        "\n",
        "# Extract predicted class and confidence\n",
        "probs = results[0].probs  # Probabilities for all classes\n",
        "top1_class_id = probs.top1  # ID of the top predicted class\n",
        "top1_confidence = probs.top1conf  # Confidence score of top prediction\n",
        "predicted_class = model.names[top1_class_id]  # Get class name from ID\n",
        "\n",
        "# Print the result\n",
        "print(f\"Predicted Class: {predicted_class}, Confidence: {top1_confidence:.2%}\")\n",
        "\n",
        "# Load and display image with prediction\n",
        "image = cv2.imread(image_path)\n",
        "image = cv2.cvtColor(image, cv2.COLOR_BGR2RGB)\n",
        "\n",
        "plt.imshow(image)\n",
        "plt.axis(\"off\")\n",
        "plt.title(f\"{predicted_class} ({top1_confidence:.2%})\")\n",
        "plt.show()\n"
      ],
      "metadata": {
        "colab": {
          "base_uri": "https://localhost:8080/",
          "height": 428
        },
        "id": "J8oYBQNmcoUJ",
        "outputId": "aaabfa9d-1ac4-4d2d-ce01-4c1eb6ad20c8"
      },
      "execution_count": null,
      "outputs": [
        {
          "output_type": "stream",
          "name": "stdout",
          "text": [
            "\n",
            "image 1/1 /content/Screenshot 2025-03-31 203049.png: 256x256 toyota_hilux 0.39, toyota_wigo 0.24, toyota_liteace 0.23, toyota_land cruiser 0.07, toyota_tamaraw 0.04, 2.9ms\n",
            "Speed: 5.7ms preprocess, 2.9ms inference, 0.1ms postprocess per image at shape (1, 3, 256, 256)\n",
            "Predicted Class: toyota_hilux, Confidence: 38.55%\n"
          ]
        },
        {
          "output_type": "display_data",
          "data": {
            "text/plain": [
              "<Figure size 640x480 with 1 Axes>"
            ],
            "image/png": "[encoded data removed]"
          },
          "metadata": {}
        }
      ]
    }
  ]
}